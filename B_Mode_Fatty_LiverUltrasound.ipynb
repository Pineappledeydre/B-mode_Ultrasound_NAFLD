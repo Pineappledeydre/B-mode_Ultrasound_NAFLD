{
  "metadata": {
    "kernelspec": {
      "language": "python",
      "display_name": "Python 3",
      "name": "python3"
    },
    "language_info": {
      "name": "python",
      "version": "3.10.12",
      "mimetype": "text/x-python",
      "codemirror_mode": {
        "name": "ipython",
        "version": 3
      },
      "pygments_lexer": "ipython3",
      "nbconvert_exporter": "python",
      "file_extension": ".py"
    },
    "kaggle": {
      "accelerator": "nvidiaTeslaT4",
      "dataSources": [
        {
          "sourceId": 894107,
          "sourceType": "datasetVersion",
          "datasetId": 477773
        }
      ],
      "dockerImageVersionId": 30840,
      "isInternetEnabled": true,
      "language": "python",
      "sourceType": "notebook",
      "isGpuEnabled": true
    },
    "colab": {
      "provenance": [],
      "toc_visible": true,
      "include_colab_link": true
    }
  },
  "nbformat_minor": 0,
  "nbformat": 4,
  "cells": [
    {
      "cell_type": "markdown",
      "metadata": {
        "id": "view-in-github",
        "colab_type": "text"
      },
      "source": [
        "<a href=\"https://colab.research.google.com/github/Pineappledeydre/B-mode_Ultrasound_NAFLD/blob/main/B_Mode_Fatty_LiverUltrasound.ipynb\" target=\"_parent\"><img src=\"https://colab.research.google.com/assets/colab-badge.svg\" alt=\"Open In Colab\"/></a>"
      ]
    },
    {
      "cell_type": "markdown",
      "source": [
        "# **B-mode Fatty Liver Ultrasound Images Classification**"
      ],
      "metadata": {
        "id": "I_iu7QIYizNR"
      }
    },
    {
      "cell_type": "markdown",
      "source": [
        "**Dataset of B-mode Fatty Liver Ultrasound Images**  \n",
        "Byra, M., Styczynski, G., Szmigielski, C., Kalinowski, P., Michałowski, Ł., Paluszkiewicz, R., Ziarkiewicz-Wróblewska, B., Zieniewicz, K., Sobieraj, P., & Nowicki, A. (2018). *Transfer learning with deep convolutional neural network for liver steatosis assessment in ultrasound images*. International Journal of Computer Assisted Radiology and Surgery. DOI: [10.1007/s11548-018-1843-2](https://doi.org/10.1007/s11548-018-1843-2).\n",
        "\n",
        "**Dataset Source:**  \n",
        "Kaggle - [Dataset of B-mode Fatty Liver Ultrasound Images](https://www.kaggle.com/datasets/shanecandoit/dataset-of-bmode-fatty-liver-ultrasound-images)"
      ],
      "metadata": {
        "id": "OMUuUCYfiquk"
      }
    },
    {
      "cell_type": "code",
      "source": [
        "import numpy as np\n",
        "import pandas as pd\n",
        "import os\n",
        "import scipy.io\n",
        "import gdown\n",
        "import matplotlib.pyplot as plt\n",
        "import seaborn as sns\n",
        "import plotly.express as px\n",
        "\n",
        "from xgboost import XGBClassifier\n",
        "from imblearn.over_sampling import SMOTE\n",
        "\n",
        "from sklearn.model_selection import train_test_split, StratifiedKFold\n",
        "from sklearn.ensemble import RandomForestClassifier, VotingClassifier, StackingClassifier\n",
        "from sklearn.metrics import classification_report, confusion_matrix, accuracy_score,r2_score\n",
        "from sklearn.linear_model import LogisticRegression, Lasso\n",
        "from sklearn.tree import DecisionTreeClassifier\n",
        "from sklearn.utils.class_weight import compute_class_weight\n",
        "from sklearn.svm import SVC\n",
        "from sklearn.model_selection import StratifiedKFold\n",
        "from sklearn.decomposition import PCA\n",
        "\n",
        "import tensorflow as tf\n",
        "from tensorflow.image import resize\n",
        "import tensorflow.keras.backend as K\n",
        "from tensorflow.keras.applications import InceptionResNetV2, MobileNetV2\n",
        "from tensorflow.keras.models import Model\n",
        "from tensorflow.keras.layers import Dense, Flatten, Input, Conv2D, Dropout\n",
        "from tensorflow.keras.optimizers import Adam\n",
        "from tensorflow.keras.utils import to_categorical\n",
        "from tensorflow.keras.preprocessing.image import img_to_array, smart_resize, ImageDataGenerator\n",
        "from tensorflow.keras.callbacks import ReduceLROnPlateau, EarlyStopping"
      ],
      "metadata": {
        "_uuid": "8f2839f25d086af736a60e9eeb907d3b93b6e0e5",
        "_cell_guid": "b1076dfc-b9ad-4769-8c92-a6c4dae69d19",
        "trusted": true,
        "execution": {
          "iopub.status.busy": "2025-01-16T06:41:07.761618Z",
          "iopub.execute_input": "2025-01-16T06:41:07.762048Z",
          "iopub.status.idle": "2025-01-16T06:41:07.76931Z",
          "shell.execute_reply.started": "2025-01-16T06:41:07.762021Z",
          "shell.execute_reply": "2025-01-16T06:41:07.768363Z"
        },
        "id": "hjYBPSYI8GGJ"
      },
      "outputs": [],
      "execution_count": 107
    },
    {
      "cell_type": "markdown",
      "source": [
        "## **Data Loading**"
      ],
      "metadata": {
        "id": "DSfZizLae8ve"
      }
    },
    {
      "cell_type": "code",
      "source": [
        "file_id = \"10NEv71J6Ikw8cZ4mhXCRODjSt9f8MLn-\"\n",
        "url = f\"https://drive.google.com/uc?id={file_id}\"\n",
        "output = \"dataset_liver_bmodes_steatosis_assessment_IJCARS.mat\"\n",
        "gdown.download(url, output, quiet=False)\n",
        "\n",
        "print(\"Download complete!\")\n",
        "\n",
        "# Step 2: Load the dataset\n",
        "data = scipy.io.loadmat(output)"
      ],
      "metadata": {
        "colab": {
          "base_uri": "https://localhost:8080/"
        },
        "id": "u1T69C7GrAD6",
        "outputId": "fba5047b-e45e-4404-d43d-29d230eb7270"
      },
      "execution_count": 152,
      "outputs": [
        {
          "output_type": "stream",
          "name": "stderr",
          "text": [
            "Downloading...\n",
            "From (original): https://drive.google.com/uc?id=10NEv71J6Ikw8cZ4mhXCRODjSt9f8MLn-\n",
            "From (redirected): https://drive.google.com/uc?id=10NEv71J6Ikw8cZ4mhXCRODjSt9f8MLn-&confirm=t&uuid=0c69e65f-c623-4fb7-9eac-fbdbe1e076cc\n",
            "To: /content/dataset_liver_bmodes_steatosis_assessment_IJCARS.mat\n",
            "100%|██████████| 52.4M/52.4M [00:01<00:00, 50.2MB/s]\n"
          ]
        },
        {
          "output_type": "stream",
          "name": "stdout",
          "text": [
            "✅ Download complete!\n"
          ]
        }
      ]
    },
    {
      "cell_type": "code",
      "source": [
        "print(\"Dataset Keys:\", data.keys())"
      ],
      "metadata": {
        "trusted": true,
        "execution": {
          "iopub.status.busy": "2025-01-16T06:41:08.564293Z",
          "iopub.execute_input": "2025-01-16T06:41:08.564549Z",
          "iopub.status.idle": "2025-01-16T06:41:08.578634Z",
          "shell.execute_reply.started": "2025-01-16T06:41:08.564519Z",
          "shell.execute_reply": "2025-01-16T06:41:08.577695Z"
        },
        "colab": {
          "base_uri": "https://localhost:8080/"
        },
        "id": "LujWV1qc8GGL",
        "outputId": "eea87e89-6cf7-4551-e94a-d9e2de0e1cb7"
      },
      "outputs": [
        {
          "output_type": "stream",
          "name": "stdout",
          "text": [
            "Dataset Keys: dict_keys(['__header__', '__version__', '__globals__', 'data'])\n"
          ]
        }
      ],
      "execution_count": 60
    },
    {
      "cell_type": "code",
      "source": [
        "# Extract relevant data arrays\n",
        "data_array = data['data']\n",
        "ids = np.array([entry[0][0] for entry in data_array[0]])\n",
        "classes = np.array([entry[1][0][0] for entry in data_array[0]])\n",
        "fats = np.array([entry[2][0][0] for entry in data_array[0]])\n",
        "images = np.array([entry[3] for entry in data_array[0]])"
      ],
      "metadata": {
        "trusted": true,
        "execution": {
          "iopub.status.busy": "2025-01-16T06:41:08.581028Z",
          "iopub.execute_input": "2025-01-16T06:41:08.581243Z",
          "iopub.status.idle": "2025-01-16T06:41:08.59617Z",
          "shell.execute_reply.started": "2025-01-16T06:41:08.581219Z",
          "shell.execute_reply": "2025-01-16T06:41:08.595553Z"
        },
        "id": "c9i41AH08GGL"
      },
      "outputs": [],
      "execution_count": 61
    },
    {
      "cell_type": "code",
      "source": [
        "# Ensure images have the correct shape\n",
        "images_processed = []\n",
        "for img in images:\n",
        "    img = np.squeeze(img)  # unnecessary dimensions\n",
        "    if img.ndim == 2:\n",
        "        img = np.stack([img] * 3, axis=-1)  # grayscale to RGB\n",
        "    elif img.ndim == 4:  # the image has an extra batch-like dimension ?\n",
        "        img = img[0]\n",
        "    images_processed.append(img)\n",
        "\n",
        "images_rgb = np.array(images_processed)\n",
        "if images_rgb.ndim == 4 and images_rgb.shape[0] == 1:\n",
        "    images_rgb = images_rgb[0]  # an extra first dimension i\n",
        "\n",
        "if images_rgb.shape[1] == 10:  # 10 frames per sample\n",
        "    images_rgb = images_rgb[:, 0, :, :]  # taking only the first frame from each image stack\n",
        "\n",
        "if images_rgb.ndim == 3:  # If still grayscale\n",
        "    images_rgb = np.stack([images_rgb] * 3, axis=-1)\n",
        "\n",
        "print(f\"Final images_rgb shape: {images_rgb.shape}\")  # Expected - (55, 434, 636, 3)"
      ],
      "metadata": {
        "id": "q9nUGmbSAyk8",
        "outputId": "3b5da6c5-0bc9-4b03-99b9-e1ded85d4880",
        "colab": {
          "base_uri": "https://localhost:8080/"
        }
      },
      "execution_count": 62,
      "outputs": [
        {
          "output_type": "stream",
          "name": "stdout",
          "text": [
            "Final images_rgb shape: (55, 434, 636, 3)\n"
          ]
        }
      ]
    },
    {
      "cell_type": "markdown",
      "source": [
        "## **EDA**"
      ],
      "metadata": {
        "id": "fXZ5jldHe_bg"
      }
    },
    {
      "cell_type": "code",
      "source": [
        "# Display dataset statistics\n",
        "print(\"Total Images:\", len(images_rgb))\n",
        "print(\"Unique Classes:\", np.unique(classes))\n",
        "print(\"Fat Level Range:\", fats.min(), \"-\", fats.max())"
      ],
      "metadata": {
        "id": "F759P3TNB5d0",
        "outputId": "7e53ddb3-c69e-4448-c03b-04ab30df9ccc",
        "colab": {
          "base_uri": "https://localhost:8080/"
        }
      },
      "execution_count": 63,
      "outputs": [
        {
          "output_type": "stream",
          "name": "stdout",
          "text": [
            "Total Images: 55\n",
            "Unique Classes: [0 1]\n",
            "Fat Level Range: 0 - 85\n"
          ]
        }
      ]
    },
    {
      "cell_type": "code",
      "source": [
        "df = pd.DataFrame({\n",
        "    'ID': ids.flatten(),\n",
        "    'Class': classes.flatten(),\n",
        "    'Fat Level': fats.flatten(),\n",
        "    # 'Image': [img for img in images_rgb]\n",
        "})"
      ],
      "metadata": {
        "id": "PN-Z7Y9hkNij"
      },
      "execution_count": 116,
      "outputs": []
    },
    {
      "cell_type": "code",
      "source": [
        "df.head()"
      ],
      "metadata": {
        "colab": {
          "base_uri": "https://localhost:8080/",
          "height": 206
        },
        "id": "f3G77XTBkgDX",
        "outputId": "b2da7fb2-27ed-48ef-a98c-6d89189b962c"
      },
      "execution_count": 117,
      "outputs": [
        {
          "output_type": "execute_result",
          "data": {
            "text/plain": [
              "   ID  Class  Fat Level\n",
              "0   1      0          3\n",
              "1   2      0          4\n",
              "2   3      0          2\n",
              "3   4      0          1\n",
              "4   5      0          2"
            ],
            "text/html": [
              "\n",
              "  <div id=\"df-25c3e210-80bd-49c9-b71f-20edfa0fda44\" class=\"colab-df-container\">\n",
              "    <div>\n",
              "<style scoped>\n",
              "    .dataframe tbody tr th:only-of-type {\n",
              "        vertical-align: middle;\n",
              "    }\n",
              "\n",
              "    .dataframe tbody tr th {\n",
              "        vertical-align: top;\n",
              "    }\n",
              "\n",
              "    .dataframe thead th {\n",
              "        text-align: right;\n",
              "    }\n",
              "</style>\n",
              "<table border=\"1\" class=\"dataframe\">\n",
              "  <thead>\n",
              "    <tr style=\"text-align: right;\">\n",
              "      <th></th>\n",
              "      <th>ID</th>\n",
              "      <th>Class</th>\n",
              "      <th>Fat Level</th>\n",
              "    </tr>\n",
              "  </thead>\n",
              "  <tbody>\n",
              "    <tr>\n",
              "      <th>0</th>\n",
              "      <td>1</td>\n",
              "      <td>0</td>\n",
              "      <td>3</td>\n",
              "    </tr>\n",
              "    <tr>\n",
              "      <th>1</th>\n",
              "      <td>2</td>\n",
              "      <td>0</td>\n",
              "      <td>4</td>\n",
              "    </tr>\n",
              "    <tr>\n",
              "      <th>2</th>\n",
              "      <td>3</td>\n",
              "      <td>0</td>\n",
              "      <td>2</td>\n",
              "    </tr>\n",
              "    <tr>\n",
              "      <th>3</th>\n",
              "      <td>4</td>\n",
              "      <td>0</td>\n",
              "      <td>1</td>\n",
              "    </tr>\n",
              "    <tr>\n",
              "      <th>4</th>\n",
              "      <td>5</td>\n",
              "      <td>0</td>\n",
              "      <td>2</td>\n",
              "    </tr>\n",
              "  </tbody>\n",
              "</table>\n",
              "</div>\n",
              "    <div class=\"colab-df-buttons\">\n",
              "\n",
              "  <div class=\"colab-df-container\">\n",
              "    <button class=\"colab-df-convert\" onclick=\"convertToInteractive('df-25c3e210-80bd-49c9-b71f-20edfa0fda44')\"\n",
              "            title=\"Convert this dataframe to an interactive table.\"\n",
              "            style=\"display:none;\">\n",
              "\n",
              "  <svg xmlns=\"http://www.w3.org/2000/svg\" height=\"24px\" viewBox=\"0 -960 960 960\">\n",
              "    <path d=\"M120-120v-720h720v720H120Zm60-500h600v-160H180v160Zm220 220h160v-160H400v160Zm0 220h160v-160H400v160ZM180-400h160v-160H180v160Zm440 0h160v-160H620v160ZM180-180h160v-160H180v160Zm440 0h160v-160H620v160Z\"/>\n",
              "  </svg>\n",
              "    </button>\n",
              "\n",
              "  <style>\n",
              "    .colab-df-container {\n",
              "      display:flex;\n",
              "      gap: 12px;\n",
              "    }\n",
              "\n",
              "    .colab-df-convert {\n",
              "      background-color: #E8F0FE;\n",
              "      border: none;\n",
              "      border-radius: 50%;\n",
              "      cursor: pointer;\n",
              "      display: none;\n",
              "      fill: #1967D2;\n",
              "      height: 32px;\n",
              "      padding: 0 0 0 0;\n",
              "      width: 32px;\n",
              "    }\n",
              "\n",
              "    .colab-df-convert:hover {\n",
              "      background-color: #E2EBFA;\n",
              "      box-shadow: 0px 1px 2px rgba(60, 64, 67, 0.3), 0px 1px 3px 1px rgba(60, 64, 67, 0.15);\n",
              "      fill: #174EA6;\n",
              "    }\n",
              "\n",
              "    .colab-df-buttons div {\n",
              "      margin-bottom: 4px;\n",
              "    }\n",
              "\n",
              "    [theme=dark] .colab-df-convert {\n",
              "      background-color: #3B4455;\n",
              "      fill: #D2E3FC;\n",
              "    }\n",
              "\n",
              "    [theme=dark] .colab-df-convert:hover {\n",
              "      background-color: #434B5C;\n",
              "      box-shadow: 0px 1px 3px 1px rgba(0, 0, 0, 0.15);\n",
              "      filter: drop-shadow(0px 1px 2px rgba(0, 0, 0, 0.3));\n",
              "      fill: #FFFFFF;\n",
              "    }\n",
              "  </style>\n",
              "\n",
              "    <script>\n",
              "      const buttonEl =\n",
              "        document.querySelector('#df-25c3e210-80bd-49c9-b71f-20edfa0fda44 button.colab-df-convert');\n",
              "      buttonEl.style.display =\n",
              "        google.colab.kernel.accessAllowed ? 'block' : 'none';\n",
              "\n",
              "      async function convertToInteractive(key) {\n",
              "        const element = document.querySelector('#df-25c3e210-80bd-49c9-b71f-20edfa0fda44');\n",
              "        const dataTable =\n",
              "          await google.colab.kernel.invokeFunction('convertToInteractive',\n",
              "                                                    [key], {});\n",
              "        if (!dataTable) return;\n",
              "\n",
              "        const docLinkHtml = 'Like what you see? Visit the ' +\n",
              "          '<a target=\"_blank\" href=https://colab.research.google.com/notebooks/data_table.ipynb>data table notebook</a>'\n",
              "          + ' to learn more about interactive tables.';\n",
              "        element.innerHTML = '';\n",
              "        dataTable['output_type'] = 'display_data';\n",
              "        await google.colab.output.renderOutput(dataTable, element);\n",
              "        const docLink = document.createElement('div');\n",
              "        docLink.innerHTML = docLinkHtml;\n",
              "        element.appendChild(docLink);\n",
              "      }\n",
              "    </script>\n",
              "  </div>\n",
              "\n",
              "\n",
              "<div id=\"df-95b5952a-d0ea-47d2-8491-02a9d3daad16\">\n",
              "  <button class=\"colab-df-quickchart\" onclick=\"quickchart('df-95b5952a-d0ea-47d2-8491-02a9d3daad16')\"\n",
              "            title=\"Suggest charts\"\n",
              "            style=\"display:none;\">\n",
              "\n",
              "<svg xmlns=\"http://www.w3.org/2000/svg\" height=\"24px\"viewBox=\"0 0 24 24\"\n",
              "     width=\"24px\">\n",
              "    <g>\n",
              "        <path d=\"M19 3H5c-1.1 0-2 .9-2 2v14c0 1.1.9 2 2 2h14c1.1 0 2-.9 2-2V5c0-1.1-.9-2-2-2zM9 17H7v-7h2v7zm4 0h-2V7h2v10zm4 0h-2v-4h2v4z\"/>\n",
              "    </g>\n",
              "</svg>\n",
              "  </button>\n",
              "\n",
              "<style>\n",
              "  .colab-df-quickchart {\n",
              "      --bg-color: #E8F0FE;\n",
              "      --fill-color: #1967D2;\n",
              "      --hover-bg-color: #E2EBFA;\n",
              "      --hover-fill-color: #174EA6;\n",
              "      --disabled-fill-color: #AAA;\n",
              "      --disabled-bg-color: #DDD;\n",
              "  }\n",
              "\n",
              "  [theme=dark] .colab-df-quickchart {\n",
              "      --bg-color: #3B4455;\n",
              "      --fill-color: #D2E3FC;\n",
              "      --hover-bg-color: #434B5C;\n",
              "      --hover-fill-color: #FFFFFF;\n",
              "      --disabled-bg-color: #3B4455;\n",
              "      --disabled-fill-color: #666;\n",
              "  }\n",
              "\n",
              "  .colab-df-quickchart {\n",
              "    background-color: var(--bg-color);\n",
              "    border: none;\n",
              "    border-radius: 50%;\n",
              "    cursor: pointer;\n",
              "    display: none;\n",
              "    fill: var(--fill-color);\n",
              "    height: 32px;\n",
              "    padding: 0;\n",
              "    width: 32px;\n",
              "  }\n",
              "\n",
              "  .colab-df-quickchart:hover {\n",
              "    background-color: var(--hover-bg-color);\n",
              "    box-shadow: 0 1px 2px rgba(60, 64, 67, 0.3), 0 1px 3px 1px rgba(60, 64, 67, 0.15);\n",
              "    fill: var(--button-hover-fill-color);\n",
              "  }\n",
              "\n",
              "  .colab-df-quickchart-complete:disabled,\n",
              "  .colab-df-quickchart-complete:disabled:hover {\n",
              "    background-color: var(--disabled-bg-color);\n",
              "    fill: var(--disabled-fill-color);\n",
              "    box-shadow: none;\n",
              "  }\n",
              "\n",
              "  .colab-df-spinner {\n",
              "    border: 2px solid var(--fill-color);\n",
              "    border-color: transparent;\n",
              "    border-bottom-color: var(--fill-color);\n",
              "    animation:\n",
              "      spin 1s steps(1) infinite;\n",
              "  }\n",
              "\n",
              "  @keyframes spin {\n",
              "    0% {\n",
              "      border-color: transparent;\n",
              "      border-bottom-color: var(--fill-color);\n",
              "      border-left-color: var(--fill-color);\n",
              "    }\n",
              "    20% {\n",
              "      border-color: transparent;\n",
              "      border-left-color: var(--fill-color);\n",
              "      border-top-color: var(--fill-color);\n",
              "    }\n",
              "    30% {\n",
              "      border-color: transparent;\n",
              "      border-left-color: var(--fill-color);\n",
              "      border-top-color: var(--fill-color);\n",
              "      border-right-color: var(--fill-color);\n",
              "    }\n",
              "    40% {\n",
              "      border-color: transparent;\n",
              "      border-right-color: var(--fill-color);\n",
              "      border-top-color: var(--fill-color);\n",
              "    }\n",
              "    60% {\n",
              "      border-color: transparent;\n",
              "      border-right-color: var(--fill-color);\n",
              "    }\n",
              "    80% {\n",
              "      border-color: transparent;\n",
              "      border-right-color: var(--fill-color);\n",
              "      border-bottom-color: var(--fill-color);\n",
              "    }\n",
              "    90% {\n",
              "      border-color: transparent;\n",
              "      border-bottom-color: var(--fill-color);\n",
              "    }\n",
              "  }\n",
              "</style>\n",
              "\n",
              "  <script>\n",
              "    async function quickchart(key) {\n",
              "      const quickchartButtonEl =\n",
              "        document.querySelector('#' + key + ' button');\n",
              "      quickchartButtonEl.disabled = true;  // To prevent multiple clicks.\n",
              "      quickchartButtonEl.classList.add('colab-df-spinner');\n",
              "      try {\n",
              "        const charts = await google.colab.kernel.invokeFunction(\n",
              "            'suggestCharts', [key], {});\n",
              "      } catch (error) {\n",
              "        console.error('Error during call to suggestCharts:', error);\n",
              "      }\n",
              "      quickchartButtonEl.classList.remove('colab-df-spinner');\n",
              "      quickchartButtonEl.classList.add('colab-df-quickchart-complete');\n",
              "    }\n",
              "    (() => {\n",
              "      let quickchartButtonEl =\n",
              "        document.querySelector('#df-95b5952a-d0ea-47d2-8491-02a9d3daad16 button');\n",
              "      quickchartButtonEl.style.display =\n",
              "        google.colab.kernel.accessAllowed ? 'block' : 'none';\n",
              "    })();\n",
              "  </script>\n",
              "</div>\n",
              "\n",
              "    </div>\n",
              "  </div>\n"
            ],
            "application/vnd.google.colaboratory.intrinsic+json": {
              "type": "dataframe",
              "variable_name": "df",
              "summary": "{\n  \"name\": \"df\",\n  \"rows\": 55,\n  \"fields\": [\n    {\n      \"column\": \"ID\",\n      \"properties\": {\n        \"dtype\": \"uint8\",\n        \"num_unique_values\": 55,\n        \"samples\": [\n          32,\n          6,\n          33\n        ],\n        \"semantic_type\": \"\",\n        \"description\": \"\"\n      }\n    },\n    {\n      \"column\": \"Class\",\n      \"properties\": {\n        \"dtype\": \"uint8\",\n        \"num_unique_values\": 2,\n        \"samples\": [\n          1,\n          0\n        ],\n        \"semantic_type\": \"\",\n        \"description\": \"\"\n      }\n    },\n    {\n      \"column\": \"Fat Level\",\n      \"properties\": {\n        \"dtype\": \"uint8\",\n        \"num_unique_values\": 19,\n        \"samples\": [\n          3,\n          40\n        ],\n        \"semantic_type\": \"\",\n        \"description\": \"\"\n      }\n    }\n  ]\n}"
            }
          },
          "metadata": {},
          "execution_count": 117
        }
      ]
    },
    {
      "cell_type": "code",
      "source": [
        "fig = px.histogram(\n",
        "    df, x=\"Fat Level\", nbins=20, opacity=0.8,\n",
        "    title=\"Distribution of Fat Levels\",\n",
        "    labels={\"Fat Level\": \"Fat Level\", \"count\": \"Frequency\"},\n",
        "    marginal=\"box\",\n",
        "    color_discrete_sequence=[\"#aec7e8\"],\n",
        "    template=\"plotly_white\"\n",
        ")\n",
        "\n",
        "fig.update_layout(\n",
        "    title_font_size=18,\n",
        "    xaxis_title_font_size=14,\n",
        "    yaxis_title_font_size=14,\n",
        "    font=dict(family=\"Arial, sans-serif\", size=12),\n",
        "    bargap=0.1\n",
        ")\n",
        "\n",
        "fig.show()"
      ],
      "metadata": {
        "colab": {
          "base_uri": "https://localhost:8080/",
          "height": 542
        },
        "id": "AvAaqPLykzst",
        "outputId": "931b9449-056b-4501-91b9-d81c95fd6027"
      },
      "execution_count": 142,
      "outputs": [
        {
          "output_type": "display_data",
          "data": {
            "text/html": [
              "<html>\n",
              "<head><meta charset=\"utf-8\" /></head>\n",
              "<body>\n",
              "    <div>            <script src=\"https://cdnjs.cloudflare.com/ajax/libs/mathjax/2.7.5/MathJax.js?config=TeX-AMS-MML_SVG\"></script><script type=\"text/javascript\">if (window.MathJax && window.MathJax.Hub && window.MathJax.Hub.Config) {window.MathJax.Hub.Config({SVG: {font: \"STIX-Web\"}});}</script>                <script type=\"text/javascript\">window.PlotlyConfig = {MathJaxConfig: 'local'};</script>\n",
              "        <script charset=\"utf-8\" src=\"https://cdn.plot.ly/plotly-2.35.2.min.js\"></script>                <div id=\"0569df7f-20da-4ebc-a153-c72d00f39efd\" class=\"plotly-graph-div\" style=\"height:525px; width:100%;\"></div>            <script type=\"text/javascript\">                                    window.PLOTLYENV=window.PLOTLYENV || {};                                    if (document.getElementById(\"0569df7f-20da-4ebc-a153-c72d00f39efd\")) {                    Plotly.newPlot(                        \"0569df7f-20da-4ebc-a153-c72d00f39efd\",                        [{\"alignmentgroup\":\"True\",\"bingroup\":\"x\",\"hovertemplate\":\"Fat Level=%{x}\\u003cbr\\u003ecount=%{y}\\u003cextra\\u003e\\u003c\\u002fextra\\u003e\",\"legendgroup\":\"\",\"marker\":{\"color\":\"#aec7e8\",\"opacity\":0.8,\"pattern\":{\"shape\":\"\"}},\"name\":\"\",\"nbinsx\":20,\"offsetgroup\":\"\",\"orientation\":\"v\",\"showlegend\":false,\"x\":[3,4,2,1,2,2,2,2,2,1,1,2,3,3,0,0,2,40,70,15,7,70,25,20,10,85,75,55,20,20,30,55,40,70,70,80,20,75,50,70,25,10,40,50,20,20,10,10,5,25,15,80,50,15,20],\"xaxis\":\"x\",\"yaxis\":\"y\",\"type\":\"histogram\"},{\"alignmentgroup\":\"True\",\"hovertemplate\":\"Fat Level=%{x}\\u003cextra\\u003e\\u003c\\u002fextra\\u003e\",\"legendgroup\":\"\",\"marker\":{\"color\":\"#aec7e8\"},\"name\":\"\",\"notched\":true,\"offsetgroup\":\"\",\"showlegend\":false,\"x\":[3,4,2,1,2,2,2,2,2,1,1,2,3,3,0,0,2,40,70,15,7,70,25,20,10,85,75,55,20,20,30,55,40,70,70,80,20,75,50,70,25,10,40,50,20,20,10,10,5,25,15,80,50,15,20],\"xaxis\":\"x2\",\"yaxis\":\"y2\",\"type\":\"box\"}],                        {\"template\":{\"data\":{\"barpolar\":[{\"marker\":{\"line\":{\"color\":\"white\",\"width\":0.5},\"pattern\":{\"fillmode\":\"overlay\",\"size\":10,\"solidity\":0.2}},\"type\":\"barpolar\"}],\"bar\":[{\"error_x\":{\"color\":\"#2a3f5f\"},\"error_y\":{\"color\":\"#2a3f5f\"},\"marker\":{\"line\":{\"color\":\"white\",\"width\":0.5},\"pattern\":{\"fillmode\":\"overlay\",\"size\":10,\"solidity\":0.2}},\"type\":\"bar\"}],\"carpet\":[{\"aaxis\":{\"endlinecolor\":\"#2a3f5f\",\"gridcolor\":\"#C8D4E3\",\"linecolor\":\"#C8D4E3\",\"minorgridcolor\":\"#C8D4E3\",\"startlinecolor\":\"#2a3f5f\"},\"baxis\":{\"endlinecolor\":\"#2a3f5f\",\"gridcolor\":\"#C8D4E3\",\"linecolor\":\"#C8D4E3\",\"minorgridcolor\":\"#C8D4E3\",\"startlinecolor\":\"#2a3f5f\"},\"type\":\"carpet\"}],\"choropleth\":[{\"colorbar\":{\"outlinewidth\":0,\"ticks\":\"\"},\"type\":\"choropleth\"}],\"contourcarpet\":[{\"colorbar\":{\"outlinewidth\":0,\"ticks\":\"\"},\"type\":\"contourcarpet\"}],\"contour\":[{\"colorbar\":{\"outlinewidth\":0,\"ticks\":\"\"},\"colorscale\":[[0.0,\"#0d0887\"],[0.1111111111111111,\"#46039f\"],[0.2222222222222222,\"#7201a8\"],[0.3333333333333333,\"#9c179e\"],[0.4444444444444444,\"#bd3786\"],[0.5555555555555556,\"#d8576b\"],[0.6666666666666666,\"#ed7953\"],[0.7777777777777778,\"#fb9f3a\"],[0.8888888888888888,\"#fdca26\"],[1.0,\"#f0f921\"]],\"type\":\"contour\"}],\"heatmapgl\":[{\"colorbar\":{\"outlinewidth\":0,\"ticks\":\"\"},\"colorscale\":[[0.0,\"#0d0887\"],[0.1111111111111111,\"#46039f\"],[0.2222222222222222,\"#7201a8\"],[0.3333333333333333,\"#9c179e\"],[0.4444444444444444,\"#bd3786\"],[0.5555555555555556,\"#d8576b\"],[0.6666666666666666,\"#ed7953\"],[0.7777777777777778,\"#fb9f3a\"],[0.8888888888888888,\"#fdca26\"],[1.0,\"#f0f921\"]],\"type\":\"heatmapgl\"}],\"heatmap\":[{\"colorbar\":{\"outlinewidth\":0,\"ticks\":\"\"},\"colorscale\":[[0.0,\"#0d0887\"],[0.1111111111111111,\"#46039f\"],[0.2222222222222222,\"#7201a8\"],[0.3333333333333333,\"#9c179e\"],[0.4444444444444444,\"#bd3786\"],[0.5555555555555556,\"#d8576b\"],[0.6666666666666666,\"#ed7953\"],[0.7777777777777778,\"#fb9f3a\"],[0.8888888888888888,\"#fdca26\"],[1.0,\"#f0f921\"]],\"type\":\"heatmap\"}],\"histogram2dcontour\":[{\"colorbar\":{\"outlinewidth\":0,\"ticks\":\"\"},\"colorscale\":[[0.0,\"#0d0887\"],[0.1111111111111111,\"#46039f\"],[0.2222222222222222,\"#7201a8\"],[0.3333333333333333,\"#9c179e\"],[0.4444444444444444,\"#bd3786\"],[0.5555555555555556,\"#d8576b\"],[0.6666666666666666,\"#ed7953\"],[0.7777777777777778,\"#fb9f3a\"],[0.8888888888888888,\"#fdca26\"],[1.0,\"#f0f921\"]],\"type\":\"histogram2dcontour\"}],\"histogram2d\":[{\"colorbar\":{\"outlinewidth\":0,\"ticks\":\"\"},\"colorscale\":[[0.0,\"#0d0887\"],[0.1111111111111111,\"#46039f\"],[0.2222222222222222,\"#7201a8\"],[0.3333333333333333,\"#9c179e\"],[0.4444444444444444,\"#bd3786\"],[0.5555555555555556,\"#d8576b\"],[0.6666666666666666,\"#ed7953\"],[0.7777777777777778,\"#fb9f3a\"],[0.8888888888888888,\"#fdca26\"],[1.0,\"#f0f921\"]],\"type\":\"histogram2d\"}],\"histogram\":[{\"marker\":{\"pattern\":{\"fillmode\":\"overlay\",\"size\":10,\"solidity\":0.2}},\"type\":\"histogram\"}],\"mesh3d\":[{\"colorbar\":{\"outlinewidth\":0,\"ticks\":\"\"},\"type\":\"mesh3d\"}],\"parcoords\":[{\"line\":{\"colorbar\":{\"outlinewidth\":0,\"ticks\":\"\"}},\"type\":\"parcoords\"}],\"pie\":[{\"automargin\":true,\"type\":\"pie\"}],\"scatter3d\":[{\"line\":{\"colorbar\":{\"outlinewidth\":0,\"ticks\":\"\"}},\"marker\":{\"colorbar\":{\"outlinewidth\":0,\"ticks\":\"\"}},\"type\":\"scatter3d\"}],\"scattercarpet\":[{\"marker\":{\"colorbar\":{\"outlinewidth\":0,\"ticks\":\"\"}},\"type\":\"scattercarpet\"}],\"scattergeo\":[{\"marker\":{\"colorbar\":{\"outlinewidth\":0,\"ticks\":\"\"}},\"type\":\"scattergeo\"}],\"scattergl\":[{\"marker\":{\"colorbar\":{\"outlinewidth\":0,\"ticks\":\"\"}},\"type\":\"scattergl\"}],\"scattermapbox\":[{\"marker\":{\"colorbar\":{\"outlinewidth\":0,\"ticks\":\"\"}},\"type\":\"scattermapbox\"}],\"scatterpolargl\":[{\"marker\":{\"colorbar\":{\"outlinewidth\":0,\"ticks\":\"\"}},\"type\":\"scatterpolargl\"}],\"scatterpolar\":[{\"marker\":{\"colorbar\":{\"outlinewidth\":0,\"ticks\":\"\"}},\"type\":\"scatterpolar\"}],\"scatter\":[{\"fillpattern\":{\"fillmode\":\"overlay\",\"size\":10,\"solidity\":0.2},\"type\":\"scatter\"}],\"scatterternary\":[{\"marker\":{\"colorbar\":{\"outlinewidth\":0,\"ticks\":\"\"}},\"type\":\"scatterternary\"}],\"surface\":[{\"colorbar\":{\"outlinewidth\":0,\"ticks\":\"\"},\"colorscale\":[[0.0,\"#0d0887\"],[0.1111111111111111,\"#46039f\"],[0.2222222222222222,\"#7201a8\"],[0.3333333333333333,\"#9c179e\"],[0.4444444444444444,\"#bd3786\"],[0.5555555555555556,\"#d8576b\"],[0.6666666666666666,\"#ed7953\"],[0.7777777777777778,\"#fb9f3a\"],[0.8888888888888888,\"#fdca26\"],[1.0,\"#f0f921\"]],\"type\":\"surface\"}],\"table\":[{\"cells\":{\"fill\":{\"color\":\"#EBF0F8\"},\"line\":{\"color\":\"white\"}},\"header\":{\"fill\":{\"color\":\"#C8D4E3\"},\"line\":{\"color\":\"white\"}},\"type\":\"table\"}]},\"layout\":{\"annotationdefaults\":{\"arrowcolor\":\"#2a3f5f\",\"arrowhead\":0,\"arrowwidth\":1},\"autotypenumbers\":\"strict\",\"coloraxis\":{\"colorbar\":{\"outlinewidth\":0,\"ticks\":\"\"}},\"colorscale\":{\"diverging\":[[0,\"#8e0152\"],[0.1,\"#c51b7d\"],[0.2,\"#de77ae\"],[0.3,\"#f1b6da\"],[0.4,\"#fde0ef\"],[0.5,\"#f7f7f7\"],[0.6,\"#e6f5d0\"],[0.7,\"#b8e186\"],[0.8,\"#7fbc41\"],[0.9,\"#4d9221\"],[1,\"#276419\"]],\"sequential\":[[0.0,\"#0d0887\"],[0.1111111111111111,\"#46039f\"],[0.2222222222222222,\"#7201a8\"],[0.3333333333333333,\"#9c179e\"],[0.4444444444444444,\"#bd3786\"],[0.5555555555555556,\"#d8576b\"],[0.6666666666666666,\"#ed7953\"],[0.7777777777777778,\"#fb9f3a\"],[0.8888888888888888,\"#fdca26\"],[1.0,\"#f0f921\"]],\"sequentialminus\":[[0.0,\"#0d0887\"],[0.1111111111111111,\"#46039f\"],[0.2222222222222222,\"#7201a8\"],[0.3333333333333333,\"#9c179e\"],[0.4444444444444444,\"#bd3786\"],[0.5555555555555556,\"#d8576b\"],[0.6666666666666666,\"#ed7953\"],[0.7777777777777778,\"#fb9f3a\"],[0.8888888888888888,\"#fdca26\"],[1.0,\"#f0f921\"]]},\"colorway\":[\"#636efa\",\"#EF553B\",\"#00cc96\",\"#ab63fa\",\"#FFA15A\",\"#19d3f3\",\"#FF6692\",\"#B6E880\",\"#FF97FF\",\"#FECB52\"],\"font\":{\"color\":\"#2a3f5f\"},\"geo\":{\"bgcolor\":\"white\",\"lakecolor\":\"white\",\"landcolor\":\"white\",\"showlakes\":true,\"showland\":true,\"subunitcolor\":\"#C8D4E3\"},\"hoverlabel\":{\"align\":\"left\"},\"hovermode\":\"closest\",\"mapbox\":{\"style\":\"light\"},\"paper_bgcolor\":\"white\",\"plot_bgcolor\":\"white\",\"polar\":{\"angularaxis\":{\"gridcolor\":\"#EBF0F8\",\"linecolor\":\"#EBF0F8\",\"ticks\":\"\"},\"bgcolor\":\"white\",\"radialaxis\":{\"gridcolor\":\"#EBF0F8\",\"linecolor\":\"#EBF0F8\",\"ticks\":\"\"}},\"scene\":{\"xaxis\":{\"backgroundcolor\":\"white\",\"gridcolor\":\"#DFE8F3\",\"gridwidth\":2,\"linecolor\":\"#EBF0F8\",\"showbackground\":true,\"ticks\":\"\",\"zerolinecolor\":\"#EBF0F8\"},\"yaxis\":{\"backgroundcolor\":\"white\",\"gridcolor\":\"#DFE8F3\",\"gridwidth\":2,\"linecolor\":\"#EBF0F8\",\"showbackground\":true,\"ticks\":\"\",\"zerolinecolor\":\"#EBF0F8\"},\"zaxis\":{\"backgroundcolor\":\"white\",\"gridcolor\":\"#DFE8F3\",\"gridwidth\":2,\"linecolor\":\"#EBF0F8\",\"showbackground\":true,\"ticks\":\"\",\"zerolinecolor\":\"#EBF0F8\"}},\"shapedefaults\":{\"line\":{\"color\":\"#2a3f5f\"}},\"ternary\":{\"aaxis\":{\"gridcolor\":\"#DFE8F3\",\"linecolor\":\"#A2B1C6\",\"ticks\":\"\"},\"baxis\":{\"gridcolor\":\"#DFE8F3\",\"linecolor\":\"#A2B1C6\",\"ticks\":\"\"},\"bgcolor\":\"white\",\"caxis\":{\"gridcolor\":\"#DFE8F3\",\"linecolor\":\"#A2B1C6\",\"ticks\":\"\"}},\"title\":{\"x\":0.05},\"xaxis\":{\"automargin\":true,\"gridcolor\":\"#EBF0F8\",\"linecolor\":\"#EBF0F8\",\"ticks\":\"\",\"title\":{\"standoff\":15},\"zerolinecolor\":\"#EBF0F8\",\"zerolinewidth\":2},\"yaxis\":{\"automargin\":true,\"gridcolor\":\"#EBF0F8\",\"linecolor\":\"#EBF0F8\",\"ticks\":\"\",\"title\":{\"standoff\":15},\"zerolinecolor\":\"#EBF0F8\",\"zerolinewidth\":2}}},\"xaxis\":{\"anchor\":\"y\",\"domain\":[0.0,1.0],\"title\":{\"text\":\"Fat Level\",\"font\":{\"size\":14}}},\"yaxis\":{\"anchor\":\"x\",\"domain\":[0.0,0.8316],\"title\":{\"text\":\"count\",\"font\":{\"size\":14}}},\"xaxis2\":{\"anchor\":\"y2\",\"domain\":[0.0,1.0],\"matches\":\"x\",\"showticklabels\":false,\"showgrid\":true},\"yaxis2\":{\"anchor\":\"x2\",\"domain\":[0.8416,1.0],\"matches\":\"y2\",\"showticklabels\":false,\"showline\":false,\"ticks\":\"\",\"showgrid\":false},\"legend\":{\"tracegroupgap\":0},\"title\":{\"text\":\"Distribution of Fat Levels\",\"font\":{\"size\":18}},\"barmode\":\"relative\",\"font\":{\"family\":\"Arial, sans-serif\",\"size\":12},\"bargap\":0.1},                        {\"responsive\": true}                    ).then(function(){\n",
              "                            \n",
              "var gd = document.getElementById('0569df7f-20da-4ebc-a153-c72d00f39efd');\n",
              "var x = new MutationObserver(function (mutations, observer) {{\n",
              "        var display = window.getComputedStyle(gd).display;\n",
              "        if (!display || display === 'none') {{\n",
              "            console.log([gd, 'removed!']);\n",
              "            Plotly.purge(gd);\n",
              "            observer.disconnect();\n",
              "        }}\n",
              "}});\n",
              "\n",
              "// Listen for the removal of the full notebook cells\n",
              "var notebookContainer = gd.closest('#notebook-container');\n",
              "if (notebookContainer) {{\n",
              "    x.observe(notebookContainer, {childList: true});\n",
              "}}\n",
              "\n",
              "// Listen for the clearing of the current output cell\n",
              "var outputEl = gd.closest('.output');\n",
              "if (outputEl) {{\n",
              "    x.observe(outputEl, {childList: true});\n",
              "}}\n",
              "\n",
              "                        })                };                            </script>        </div>\n",
              "</body>\n",
              "</html>"
            ]
          },
          "metadata": {}
        }
      ]
    },
    {
      "cell_type": "code",
      "source": [
        "unique_classes, class_counts = np.unique(classes, return_counts=True)\n",
        "df_classes = pd.DataFrame({\"Class\": unique_classes, \"Count\": class_counts})\n",
        "\n",
        "\n",
        "fig = px.pie(\n",
        "    df_classes, names=\"Class\", values=\"Count\",\n",
        "    title=\"Class Distribution\",\n",
        "    color_discrete_sequence=[\"#1f77b4\", \"#aec7e8\"],\n",
        "    hole=0.3\n",
        ")\n",
        "\n",
        "fig.update_layout(\n",
        "    template=\"plotly_white\",\n",
        "    title_x=0.5,\n",
        "    legend_title_text=\"Class Categories\",\n",
        "    legend=dict(\n",
        "        x=0.7,\n",
        "        y=0.9,\n",
        "    )\n",
        ")\n",
        "\n",
        "fig.show()"
      ],
      "metadata": {
        "colab": {
          "base_uri": "https://localhost:8080/",
          "height": 542
        },
        "id": "VbeDhg43nDcV",
        "outputId": "032c5572-76ac-4387-d866-b9001590dc77"
      },
      "execution_count": 151,
      "outputs": [
        {
          "output_type": "display_data",
          "data": {
            "text/html": [
              "<html>\n",
              "<head><meta charset=\"utf-8\" /></head>\n",
              "<body>\n",
              "    <div>            <script src=\"https://cdnjs.cloudflare.com/ajax/libs/mathjax/2.7.5/MathJax.js?config=TeX-AMS-MML_SVG\"></script><script type=\"text/javascript\">if (window.MathJax && window.MathJax.Hub && window.MathJax.Hub.Config) {window.MathJax.Hub.Config({SVG: {font: \"STIX-Web\"}});}</script>                <script type=\"text/javascript\">window.PlotlyConfig = {MathJaxConfig: 'local'};</script>\n",
              "        <script charset=\"utf-8\" src=\"https://cdn.plot.ly/plotly-2.35.2.min.js\"></script>                <div id=\"64f88eb3-8181-48cc-83f9-6d9d73fc563d\" class=\"plotly-graph-div\" style=\"height:525px; width:100%;\"></div>            <script type=\"text/javascript\">                                    window.PLOTLYENV=window.PLOTLYENV || {};                                    if (document.getElementById(\"64f88eb3-8181-48cc-83f9-6d9d73fc563d\")) {                    Plotly.newPlot(                        \"64f88eb3-8181-48cc-83f9-6d9d73fc563d\",                        [{\"domain\":{\"x\":[0.0,1.0],\"y\":[0.0,1.0]},\"hole\":0.3,\"hovertemplate\":\"Class=%{label}\\u003cbr\\u003eCount=%{value}\\u003cextra\\u003e\\u003c\\u002fextra\\u003e\",\"labels\":[0,1],\"legendgroup\":\"\",\"name\":\"\",\"showlegend\":true,\"values\":[17,38],\"type\":\"pie\"}],                        {\"template\":{\"data\":{\"barpolar\":[{\"marker\":{\"line\":{\"color\":\"white\",\"width\":0.5},\"pattern\":{\"fillmode\":\"overlay\",\"size\":10,\"solidity\":0.2}},\"type\":\"barpolar\"}],\"bar\":[{\"error_x\":{\"color\":\"#2a3f5f\"},\"error_y\":{\"color\":\"#2a3f5f\"},\"marker\":{\"line\":{\"color\":\"white\",\"width\":0.5},\"pattern\":{\"fillmode\":\"overlay\",\"size\":10,\"solidity\":0.2}},\"type\":\"bar\"}],\"carpet\":[{\"aaxis\":{\"endlinecolor\":\"#2a3f5f\",\"gridcolor\":\"#C8D4E3\",\"linecolor\":\"#C8D4E3\",\"minorgridcolor\":\"#C8D4E3\",\"startlinecolor\":\"#2a3f5f\"},\"baxis\":{\"endlinecolor\":\"#2a3f5f\",\"gridcolor\":\"#C8D4E3\",\"linecolor\":\"#C8D4E3\",\"minorgridcolor\":\"#C8D4E3\",\"startlinecolor\":\"#2a3f5f\"},\"type\":\"carpet\"}],\"choropleth\":[{\"colorbar\":{\"outlinewidth\":0,\"ticks\":\"\"},\"type\":\"choropleth\"}],\"contourcarpet\":[{\"colorbar\":{\"outlinewidth\":0,\"ticks\":\"\"},\"type\":\"contourcarpet\"}],\"contour\":[{\"colorbar\":{\"outlinewidth\":0,\"ticks\":\"\"},\"colorscale\":[[0.0,\"#0d0887\"],[0.1111111111111111,\"#46039f\"],[0.2222222222222222,\"#7201a8\"],[0.3333333333333333,\"#9c179e\"],[0.4444444444444444,\"#bd3786\"],[0.5555555555555556,\"#d8576b\"],[0.6666666666666666,\"#ed7953\"],[0.7777777777777778,\"#fb9f3a\"],[0.8888888888888888,\"#fdca26\"],[1.0,\"#f0f921\"]],\"type\":\"contour\"}],\"heatmapgl\":[{\"colorbar\":{\"outlinewidth\":0,\"ticks\":\"\"},\"colorscale\":[[0.0,\"#0d0887\"],[0.1111111111111111,\"#46039f\"],[0.2222222222222222,\"#7201a8\"],[0.3333333333333333,\"#9c179e\"],[0.4444444444444444,\"#bd3786\"],[0.5555555555555556,\"#d8576b\"],[0.6666666666666666,\"#ed7953\"],[0.7777777777777778,\"#fb9f3a\"],[0.8888888888888888,\"#fdca26\"],[1.0,\"#f0f921\"]],\"type\":\"heatmapgl\"}],\"heatmap\":[{\"colorbar\":{\"outlinewidth\":0,\"ticks\":\"\"},\"colorscale\":[[0.0,\"#0d0887\"],[0.1111111111111111,\"#46039f\"],[0.2222222222222222,\"#7201a8\"],[0.3333333333333333,\"#9c179e\"],[0.4444444444444444,\"#bd3786\"],[0.5555555555555556,\"#d8576b\"],[0.6666666666666666,\"#ed7953\"],[0.7777777777777778,\"#fb9f3a\"],[0.8888888888888888,\"#fdca26\"],[1.0,\"#f0f921\"]],\"type\":\"heatmap\"}],\"histogram2dcontour\":[{\"colorbar\":{\"outlinewidth\":0,\"ticks\":\"\"},\"colorscale\":[[0.0,\"#0d0887\"],[0.1111111111111111,\"#46039f\"],[0.2222222222222222,\"#7201a8\"],[0.3333333333333333,\"#9c179e\"],[0.4444444444444444,\"#bd3786\"],[0.5555555555555556,\"#d8576b\"],[0.6666666666666666,\"#ed7953\"],[0.7777777777777778,\"#fb9f3a\"],[0.8888888888888888,\"#fdca26\"],[1.0,\"#f0f921\"]],\"type\":\"histogram2dcontour\"}],\"histogram2d\":[{\"colorbar\":{\"outlinewidth\":0,\"ticks\":\"\"},\"colorscale\":[[0.0,\"#0d0887\"],[0.1111111111111111,\"#46039f\"],[0.2222222222222222,\"#7201a8\"],[0.3333333333333333,\"#9c179e\"],[0.4444444444444444,\"#bd3786\"],[0.5555555555555556,\"#d8576b\"],[0.6666666666666666,\"#ed7953\"],[0.7777777777777778,\"#fb9f3a\"],[0.8888888888888888,\"#fdca26\"],[1.0,\"#f0f921\"]],\"type\":\"histogram2d\"}],\"histogram\":[{\"marker\":{\"pattern\":{\"fillmode\":\"overlay\",\"size\":10,\"solidity\":0.2}},\"type\":\"histogram\"}],\"mesh3d\":[{\"colorbar\":{\"outlinewidth\":0,\"ticks\":\"\"},\"type\":\"mesh3d\"}],\"parcoords\":[{\"line\":{\"colorbar\":{\"outlinewidth\":0,\"ticks\":\"\"}},\"type\":\"parcoords\"}],\"pie\":[{\"automargin\":true,\"type\":\"pie\"}],\"scatter3d\":[{\"line\":{\"colorbar\":{\"outlinewidth\":0,\"ticks\":\"\"}},\"marker\":{\"colorbar\":{\"outlinewidth\":0,\"ticks\":\"\"}},\"type\":\"scatter3d\"}],\"scattercarpet\":[{\"marker\":{\"colorbar\":{\"outlinewidth\":0,\"ticks\":\"\"}},\"type\":\"scattercarpet\"}],\"scattergeo\":[{\"marker\":{\"colorbar\":{\"outlinewidth\":0,\"ticks\":\"\"}},\"type\":\"scattergeo\"}],\"scattergl\":[{\"marker\":{\"colorbar\":{\"outlinewidth\":0,\"ticks\":\"\"}},\"type\":\"scattergl\"}],\"scattermapbox\":[{\"marker\":{\"colorbar\":{\"outlinewidth\":0,\"ticks\":\"\"}},\"type\":\"scattermapbox\"}],\"scatterpolargl\":[{\"marker\":{\"colorbar\":{\"outlinewidth\":0,\"ticks\":\"\"}},\"type\":\"scatterpolargl\"}],\"scatterpolar\":[{\"marker\":{\"colorbar\":{\"outlinewidth\":0,\"ticks\":\"\"}},\"type\":\"scatterpolar\"}],\"scatter\":[{\"fillpattern\":{\"fillmode\":\"overlay\",\"size\":10,\"solidity\":0.2},\"type\":\"scatter\"}],\"scatterternary\":[{\"marker\":{\"colorbar\":{\"outlinewidth\":0,\"ticks\":\"\"}},\"type\":\"scatterternary\"}],\"surface\":[{\"colorbar\":{\"outlinewidth\":0,\"ticks\":\"\"},\"colorscale\":[[0.0,\"#0d0887\"],[0.1111111111111111,\"#46039f\"],[0.2222222222222222,\"#7201a8\"],[0.3333333333333333,\"#9c179e\"],[0.4444444444444444,\"#bd3786\"],[0.5555555555555556,\"#d8576b\"],[0.6666666666666666,\"#ed7953\"],[0.7777777777777778,\"#fb9f3a\"],[0.8888888888888888,\"#fdca26\"],[1.0,\"#f0f921\"]],\"type\":\"surface\"}],\"table\":[{\"cells\":{\"fill\":{\"color\":\"#EBF0F8\"},\"line\":{\"color\":\"white\"}},\"header\":{\"fill\":{\"color\":\"#C8D4E3\"},\"line\":{\"color\":\"white\"}},\"type\":\"table\"}]},\"layout\":{\"annotationdefaults\":{\"arrowcolor\":\"#2a3f5f\",\"arrowhead\":0,\"arrowwidth\":1},\"autotypenumbers\":\"strict\",\"coloraxis\":{\"colorbar\":{\"outlinewidth\":0,\"ticks\":\"\"}},\"colorscale\":{\"diverging\":[[0,\"#8e0152\"],[0.1,\"#c51b7d\"],[0.2,\"#de77ae\"],[0.3,\"#f1b6da\"],[0.4,\"#fde0ef\"],[0.5,\"#f7f7f7\"],[0.6,\"#e6f5d0\"],[0.7,\"#b8e186\"],[0.8,\"#7fbc41\"],[0.9,\"#4d9221\"],[1,\"#276419\"]],\"sequential\":[[0.0,\"#0d0887\"],[0.1111111111111111,\"#46039f\"],[0.2222222222222222,\"#7201a8\"],[0.3333333333333333,\"#9c179e\"],[0.4444444444444444,\"#bd3786\"],[0.5555555555555556,\"#d8576b\"],[0.6666666666666666,\"#ed7953\"],[0.7777777777777778,\"#fb9f3a\"],[0.8888888888888888,\"#fdca26\"],[1.0,\"#f0f921\"]],\"sequentialminus\":[[0.0,\"#0d0887\"],[0.1111111111111111,\"#46039f\"],[0.2222222222222222,\"#7201a8\"],[0.3333333333333333,\"#9c179e\"],[0.4444444444444444,\"#bd3786\"],[0.5555555555555556,\"#d8576b\"],[0.6666666666666666,\"#ed7953\"],[0.7777777777777778,\"#fb9f3a\"],[0.8888888888888888,\"#fdca26\"],[1.0,\"#f0f921\"]]},\"colorway\":[\"#636efa\",\"#EF553B\",\"#00cc96\",\"#ab63fa\",\"#FFA15A\",\"#19d3f3\",\"#FF6692\",\"#B6E880\",\"#FF97FF\",\"#FECB52\"],\"font\":{\"color\":\"#2a3f5f\"},\"geo\":{\"bgcolor\":\"white\",\"lakecolor\":\"white\",\"landcolor\":\"white\",\"showlakes\":true,\"showland\":true,\"subunitcolor\":\"#C8D4E3\"},\"hoverlabel\":{\"align\":\"left\"},\"hovermode\":\"closest\",\"mapbox\":{\"style\":\"light\"},\"paper_bgcolor\":\"white\",\"plot_bgcolor\":\"white\",\"polar\":{\"angularaxis\":{\"gridcolor\":\"#EBF0F8\",\"linecolor\":\"#EBF0F8\",\"ticks\":\"\"},\"bgcolor\":\"white\",\"radialaxis\":{\"gridcolor\":\"#EBF0F8\",\"linecolor\":\"#EBF0F8\",\"ticks\":\"\"}},\"scene\":{\"xaxis\":{\"backgroundcolor\":\"white\",\"gridcolor\":\"#DFE8F3\",\"gridwidth\":2,\"linecolor\":\"#EBF0F8\",\"showbackground\":true,\"ticks\":\"\",\"zerolinecolor\":\"#EBF0F8\"},\"yaxis\":{\"backgroundcolor\":\"white\",\"gridcolor\":\"#DFE8F3\",\"gridwidth\":2,\"linecolor\":\"#EBF0F8\",\"showbackground\":true,\"ticks\":\"\",\"zerolinecolor\":\"#EBF0F8\"},\"zaxis\":{\"backgroundcolor\":\"white\",\"gridcolor\":\"#DFE8F3\",\"gridwidth\":2,\"linecolor\":\"#EBF0F8\",\"showbackground\":true,\"ticks\":\"\",\"zerolinecolor\":\"#EBF0F8\"}},\"shapedefaults\":{\"line\":{\"color\":\"#2a3f5f\"}},\"ternary\":{\"aaxis\":{\"gridcolor\":\"#DFE8F3\",\"linecolor\":\"#A2B1C6\",\"ticks\":\"\"},\"baxis\":{\"gridcolor\":\"#DFE8F3\",\"linecolor\":\"#A2B1C6\",\"ticks\":\"\"},\"bgcolor\":\"white\",\"caxis\":{\"gridcolor\":\"#DFE8F3\",\"linecolor\":\"#A2B1C6\",\"ticks\":\"\"}},\"title\":{\"x\":0.05},\"xaxis\":{\"automargin\":true,\"gridcolor\":\"#EBF0F8\",\"linecolor\":\"#EBF0F8\",\"ticks\":\"\",\"title\":{\"standoff\":15},\"zerolinecolor\":\"#EBF0F8\",\"zerolinewidth\":2},\"yaxis\":{\"automargin\":true,\"gridcolor\":\"#EBF0F8\",\"linecolor\":\"#EBF0F8\",\"ticks\":\"\",\"title\":{\"standoff\":15},\"zerolinecolor\":\"#EBF0F8\",\"zerolinewidth\":2}}},\"legend\":{\"tracegroupgap\":0,\"title\":{\"text\":\"Class Categories\"},\"x\":0.7,\"y\":0.9},\"title\":{\"text\":\"Class Distribution\",\"x\":0.5},\"piecolorway\":[\"#1f77b4\",\"#aec7e8\"]},                        {\"responsive\": true}                    ).then(function(){\n",
              "                            \n",
              "var gd = document.getElementById('64f88eb3-8181-48cc-83f9-6d9d73fc563d');\n",
              "var x = new MutationObserver(function (mutations, observer) {{\n",
              "        var display = window.getComputedStyle(gd).display;\n",
              "        if (!display || display === 'none') {{\n",
              "            console.log([gd, 'removed!']);\n",
              "            Plotly.purge(gd);\n",
              "            observer.disconnect();\n",
              "        }}\n",
              "}});\n",
              "\n",
              "// Listen for the removal of the full notebook cells\n",
              "var notebookContainer = gd.closest('#notebook-container');\n",
              "if (notebookContainer) {{\n",
              "    x.observe(notebookContainer, {childList: true});\n",
              "}}\n",
              "\n",
              "// Listen for the clearing of the current output cell\n",
              "var outputEl = gd.closest('.output');\n",
              "if (outputEl) {{\n",
              "    x.observe(outputEl, {childList: true});\n",
              "}}\n",
              "\n",
              "                        })                };                            </script>        </div>\n",
              "</body>\n",
              "</html>"
            ]
          },
          "metadata": {}
        }
      ]
    },
    {
      "cell_type": "code",
      "source": [
        "# Display sample images with fat levels\n",
        "plt.figure(figsize=(12,6))\n",
        "for i in range(min(5, len(images_rgb))):  # Display first 5 images\n",
        "    plt.subplot(1, 5, i + 1)\n",
        "    plt.imshow(images_rgb[i].astype(np.uint8))  # Ensure correct dtype\n",
        "    plt.axis('off')\n",
        "    plt.title(f\"Fat: {fats[i]:.2f}\")\n",
        "plt.show()"
      ],
      "metadata": {
        "trusted": true,
        "execution": {
          "iopub.status.busy": "2025-01-16T06:41:08.631007Z",
          "iopub.execute_input": "2025-01-16T06:41:08.6313Z",
          "iopub.status.idle": "2025-01-16T06:41:08.796607Z",
          "shell.execute_reply.started": "2025-01-16T06:41:08.631273Z",
          "shell.execute_reply": "2025-01-16T06:41:08.795718Z"
        },
        "colab": {
          "base_uri": "https://localhost:8080/",
          "height": 156
        },
        "id": "k2v7_IGX8GGM",
        "outputId": "f4cfbe92-11fd-41d4-9f72-80290641028a"
      },
      "outputs": [
        {
          "output_type": "display_data",
          "data": {
            "text/plain": [
              "<Figure size 1200x600 with 5 Axes>"
            ],
            "image/png": "[encoded data removed]"
          },
          "metadata": {}
        }
      ],
      "execution_count": 66
    },
    {
      "cell_type": "code",
      "source": [
        "classes"
      ],
      "metadata": {
        "id": "g67W4Ao5EhKx",
        "outputId": "2c3653be-8354-4046-e86b-4166573220f6",
        "colab": {
          "base_uri": "https://localhost:8080/"
        }
      },
      "execution_count": 67,
      "outputs": [
        {
          "output_type": "execute_result",
          "data": {
            "text/plain": [
              "array([0, 0, 0, 0, 0, 0, 0, 0, 0, 0, 0, 0, 0, 0, 0, 0, 0, 1, 1, 1, 1, 1,\n",
              "       1, 1, 1, 1, 1, 1, 1, 1, 1, 1, 1, 1, 1, 1, 1, 1, 1, 1, 1, 1, 1, 1,\n",
              "       1, 1, 1, 1, 1, 1, 1, 1, 1, 1, 1], dtype=uint8)"
            ]
          },
          "metadata": {},
          "execution_count": 67
        }
      ]
    },
    {
      "cell_type": "markdown",
      "source": [
        "## **Image Preparation**"
      ],
      "metadata": {
        "id": "0fj4v41m_1EC"
      }
    },
    {
      "cell_type": "code",
      "source": [
        "image_size = (299, 299)\n",
        "X_resized = np.array([smart_resize(img, image_size) for img in images_rgb])\n",
        "labels = classes"
      ],
      "metadata": {
        "id": "F2gH6LJQFzva"
      },
      "execution_count": 68,
      "outputs": []
    },
    {
      "cell_type": "markdown",
      "source": [
        "## **Models**"
      ],
      "metadata": {
        "id": "EQ623CcIfBDj"
      }
    },
    {
      "cell_type": "markdown",
      "source": [
        "### InceptionResNetV2"
      ],
      "metadata": {
        "id": "9QgVGSl0AeGp"
      }
    },
    {
      "cell_type": "code",
      "source": [
        "X_resized = X_resized / 255.0  # Scale pixel values\n",
        "\n",
        "# k-Fold Cross Validation (5 Folds)\n",
        "kf = StratifiedKFold(n_splits=5, shuffle=True, random_state=42)\n",
        "\n",
        "fold_accuracies = []\n",
        "fold_reports = []\n",
        "\n",
        "for fold, (train_idx, test_idx) in enumerate(kf.split(X_resized, labels)):\n",
        "    X_train, X_test = X_resized[train_idx], X_resized[test_idx]\n",
        "    y_train, y_test = labels[train_idx], labels[test_idx]\n",
        "\n",
        "    # сompute Class Weights to Handle Imbalance\n",
        "    class_weights = compute_class_weight(\"balanced\", classes=np.unique(y_train), y=y_train)\n",
        "    class_weights_dict = {i: class_weights[i] for i in range(len(class_weights))}\n",
        "\n",
        "    base_model = InceptionResNetV2(weights=\"imagenet\", include_top=False, input_shape=(299, 299, 3))\n",
        "\n",
        "    # Freeze All Layers Except the Last 15\n",
        "    for layer in base_model.layers[:-15]:\n",
        "        layer.trainable = False\n",
        "\n",
        "    # Classification Layers with Strong Regularization\n",
        "    x = Flatten()(base_model.output)\n",
        "    x = Dense(128, activation=\"relu\", kernel_regularizer=tf.keras.regularizers.l2(0.01))(x)  # L2 Regularization\n",
        "    x = Dropout(0.3)(x)\n",
        "    x = Dense(1, activation=\"sigmoid\")(x)  # Binary classification\n",
        "\n",
        "    model = Model(inputs=base_model.input, outputs=x)\n",
        "\n",
        "    model.compile(\n",
        "        optimizer=Adam(learning_rate=0.0001),\n",
        "        loss=\"binary_crossentropy\",\n",
        "        metrics=[\"accuracy\"]\n",
        "    )\n",
        "\n",
        "    early_stopping = tf.keras.callbacks.EarlyStopping(\n",
        "        monitor='val_loss', patience=5, restore_best_weights=True, verbose=1\n",
        "    )\n",
        "\n",
        "    lr_reduction = tf.keras.callbacks.ReduceLROnPlateau(\n",
        "        monitor='val_loss', patience=3, factor=0.5, min_lr=1e-6, verbose=1\n",
        "    )\n",
        "\n",
        "    history = model.fit(\n",
        "        X_train, y_train,\n",
        "        validation_data=(X_test, y_test),\n",
        "        epochs=30,\n",
        "        batch_size=32,\n",
        "        class_weight=class_weights_dict,\n",
        "        callbacks=[early_stopping, lr_reduction],\n",
        "        verbose=1\n",
        "    )\n",
        "\n",
        "    y_pred = (model.predict(X_test) > 0.5).astype(int).flatten()\n",
        "    acc = np.mean(y_pred == y_test)\n",
        "    fold_accuracies.append(acc)\n",
        "    fold_reports.append(classification_report(y_test, y_pred, output_dict=True))\n",
        "\n",
        "    print(f\"\\nClassification Report for Fold {fold + 1}:\")\n",
        "    print(classification_report(y_test, y_pred))\n",
        "\n",
        "average_accuracy = np.mean(fold_accuracies)\n",
        "print(f\"\\nAverage Accuracy Across Folds: {average_accuracy:.4f}\")"
      ],
      "metadata": {
        "trusted": true,
        "execution": {
          "iopub.status.busy": "2025-01-16T06:44:36.867923Z",
          "iopub.execute_input": "2025-01-16T06:44:36.868383Z",
          "iopub.status.idle": "2025-01-16T06:44:36.947409Z",
          "shell.execute_reply.started": "2025-01-16T06:44:36.868356Z",
          "shell.execute_reply": "2025-01-16T06:44:36.946782Z"
        },
        "id": "vs9JFx4y8GGN",
        "colab": {
          "base_uri": "https://localhost:8080/"
        },
        "outputId": "c7651e21-94c4-4ca2-bca5-4e746eea876d"
      },
      "outputs": [
        {
          "output_type": "stream",
          "name": "stdout",
          "text": [
            "Epoch 1/30\n",
            "\u001b[1m2/2\u001b[0m \u001b[32m━━━━━━━━━━━━━━━━━━━━\u001b[0m\u001b[37m\u001b[0m \u001b[1m108s\u001b[0m 32s/step - accuracy: 0.4129 - loss: 4.6892 - val_accuracy: 0.8182 - val_loss: 2.9502 - learning_rate: 1.0000e-04\n",
            "Epoch 2/30\n",
            "\u001b[1m2/2\u001b[0m \u001b[32m━━━━━━━━━━━━━━━━━━━━\u001b[0m\u001b[37m\u001b[0m \u001b[1m59s\u001b[0m 17s/step - accuracy: 0.7765 - loss: 2.9820 - val_accuracy: 0.4545 - val_loss: 3.2323 - learning_rate: 1.0000e-04\n",
            "Epoch 3/30\n",
            "\u001b[1m2/2\u001b[0m \u001b[32m━━━━━━━━━━━━━━━━━━━━\u001b[0m\u001b[37m\u001b[0m \u001b[1m39s\u001b[0m 18s/step - accuracy: 0.6117 - loss: 3.0542 - val_accuracy: 0.6364 - val_loss: 3.8620 - learning_rate: 1.0000e-04\n",
            "Epoch 4/30\n",
            "\u001b[1m2/2\u001b[0m \u001b[32m━━━━━━━━━━━━━━━━━━━━\u001b[0m\u001b[37m\u001b[0m \u001b[1m0s\u001b[0m 8s/step - accuracy: 0.7770 - loss: 3.0789  \n",
            "Epoch 4: ReduceLROnPlateau reducing learning rate to 4.999999873689376e-05.\n",
            "\u001b[1m2/2\u001b[0m \u001b[32m━━━━━━━━━━━━━━━━━━━━\u001b[0m\u001b[37m\u001b[0m \u001b[1m39s\u001b[0m 19s/step - accuracy: 0.7756 - loss: 3.0675 - val_accuracy: 0.6364 - val_loss: 3.4166 - learning_rate: 1.0000e-04\n",
            "Epoch 5/30\n",
            "\u001b[1m2/2\u001b[0m \u001b[32m━━━━━━━━━━━━━━━━━━━━\u001b[0m\u001b[37m\u001b[0m \u001b[1m41s\u001b[0m 19s/step - accuracy: 1.0000 - loss: 2.4460 - val_accuracy: 0.7273 - val_loss: 2.8972 - learning_rate: 5.0000e-05\n",
            "Epoch 6/30\n",
            "\u001b[1m2/2\u001b[0m \u001b[32m━━━━━━━━━━━━━━━━━━━━\u001b[0m\u001b[37m\u001b[0m \u001b[1m42s\u001b[0m 18s/step - accuracy: 0.8267 - loss: 2.5584 - val_accuracy: 0.9091 - val_loss: 2.6722 - learning_rate: 5.0000e-05\n",
            "Epoch 7/30\n",
            "\u001b[1m2/2\u001b[0m \u001b[32m━━━━━━━━━━━━━━━━━━━━\u001b[0m\u001b[37m\u001b[0m \u001b[1m38s\u001b[0m 19s/step - accuracy: 0.8627 - loss: 2.4529 - val_accuracy: 0.9091 - val_loss: 2.6750 - learning_rate: 5.0000e-05\n",
            "Epoch 8/30\n",
            "\u001b[1m2/2\u001b[0m \u001b[32m━━━━━━━━━━━━━━━━━━━━\u001b[0m\u001b[37m\u001b[0m \u001b[1m39s\u001b[0m 17s/step - accuracy: 0.9489 - loss: 2.3672 - val_accuracy: 0.7273 - val_loss: 2.9114 - learning_rate: 5.0000e-05\n",
            "Epoch 9/30\n",
            "\u001b[1m2/2\u001b[0m \u001b[32m━━━━━━━━━━━━━━━━━━━━\u001b[0m\u001b[37m\u001b[0m \u001b[1m0s\u001b[0m 7s/step - accuracy: 1.0000 - loss: 2.2963  \n",
            "Epoch 9: ReduceLROnPlateau reducing learning rate to 2.499999936844688e-05.\n",
            "\u001b[1m2/2\u001b[0m \u001b[32m━━━━━━━━━━━━━━━━━━━━\u001b[0m\u001b[37m\u001b[0m \u001b[1m43s\u001b[0m 17s/step - accuracy: 1.0000 - loss: 2.2929 - val_accuracy: 0.6364 - val_loss: 3.2337 - learning_rate: 5.0000e-05\n",
            "Epoch 10/30\n",
            "\u001b[1m2/2\u001b[0m \u001b[32m━━━━━━━━━━━━━━━━━━━━\u001b[0m\u001b[37m\u001b[0m \u001b[1m42s\u001b[0m 19s/step - accuracy: 0.9233 - loss: 2.4596 - val_accuracy: 0.6364 - val_loss: 3.2156 - learning_rate: 2.5000e-05\n",
            "Epoch 11/30\n",
            "\u001b[1m2/2\u001b[0m \u001b[32m━━━━━━━━━━━━━━━━━━━━\u001b[0m\u001b[37m\u001b[0m \u001b[1m38s\u001b[0m 17s/step - accuracy: 0.9744 - loss: 2.2645 - val_accuracy: 0.6364 - val_loss: 3.1103 - learning_rate: 2.5000e-05\n",
            "Epoch 11: early stopping\n",
            "Restoring model weights from the end of the best epoch: 6.\n",
            "\u001b[1m1/1\u001b[0m \u001b[32m━━━━━━━━━━━━━━━━━━━━\u001b[0m\u001b[37m\u001b[0m \u001b[1m15s\u001b[0m 15s/step\n",
            "\n",
            "🔹 Classification Report for Fold 1:\n",
            "              precision    recall  f1-score   support\n",
            "\n",
            "           0       1.00      0.75      0.86         4\n",
            "           1       0.88      1.00      0.93         7\n",
            "\n",
            "    accuracy                           0.91        11\n",
            "   macro avg       0.94      0.88      0.90        11\n",
            "weighted avg       0.92      0.91      0.91        11\n",
            "\n",
            "Epoch 1/30\n",
            "\u001b[1m2/2\u001b[0m \u001b[32m━━━━━━━━━━━━━━━━━━━━\u001b[0m\u001b[37m\u001b[0m \u001b[1m71s\u001b[0m 25s/step - accuracy: 0.5417 - loss: 4.2908 - val_accuracy: 0.6364 - val_loss: 3.0634 - learning_rate: 1.0000e-04\n",
            "Epoch 2/30\n",
            "\u001b[1m2/2\u001b[0m \u001b[32m━━━━━━━━━━━━━━━━━━━━\u001b[0m\u001b[37m\u001b[0m \u001b[1m76s\u001b[0m 17s/step - accuracy: 0.8371 - loss: 3.2174 - val_accuracy: 0.6364 - val_loss: 4.7111 - learning_rate: 1.0000e-04\n",
            "Epoch 3/30\n",
            "\u001b[1m2/2\u001b[0m \u001b[32m━━━━━━━━━━━━━━━━━━━━\u001b[0m\u001b[37m\u001b[0m \u001b[1m34s\u001b[0m 15s/step - accuracy: 0.7348 - loss: 3.4246 - val_accuracy: 0.9091 - val_loss: 2.6596 - learning_rate: 1.0000e-04\n",
            "Epoch 4/30\n",
            "\u001b[1m2/2\u001b[0m \u001b[32m━━━━━━━━━━━━━━━━━━━━\u001b[0m\u001b[37m\u001b[0m \u001b[1m58s\u001b[0m 25s/step - accuracy: 0.5919 - loss: 2.8915 - val_accuracy: 0.8182 - val_loss: 2.6201 - learning_rate: 1.0000e-04\n",
            "Epoch 5/30\n",
            "\u001b[1m2/2\u001b[0m \u001b[32m━━━━━━━━━━━━━━━━━━━━\u001b[0m\u001b[37m\u001b[0m \u001b[1m72s\u001b[0m 21s/step - accuracy: 0.5966 - loss: 2.9938 - val_accuracy: 0.6364 - val_loss: 3.2614 - learning_rate: 1.0000e-04\n",
            "Epoch 6/30\n",
            "\u001b[1m2/2\u001b[0m \u001b[32m━━━━━━━━━━━━━━━━━━━━\u001b[0m\u001b[37m\u001b[0m \u001b[1m80s\u001b[0m 19s/step - accuracy: 0.9848 - loss: 2.3878 - val_accuracy: 0.6364 - val_loss: 4.5081 - learning_rate: 1.0000e-04\n",
            "Epoch 7/30\n",
            "\u001b[1m2/2\u001b[0m \u001b[32m━━━━━━━━━━━━━━━━━━━━\u001b[0m\u001b[37m\u001b[0m \u001b[1m0s\u001b[0m 6s/step - accuracy: 0.9730 - loss: 2.6371  \n",
            "Epoch 7: ReduceLROnPlateau reducing learning rate to 4.999999873689376e-05.\n",
            "\u001b[1m2/2\u001b[0m \u001b[32m━━━━━━━━━━━━━━━━━━━━\u001b[0m\u001b[37m\u001b[0m \u001b[1m38s\u001b[0m 17s/step - accuracy: 0.9744 - loss: 2.6150 - val_accuracy: 0.6364 - val_loss: 4.6521 - learning_rate: 1.0000e-04\n",
            "Epoch 8/30\n",
            "\u001b[1m2/2\u001b[0m \u001b[32m━━━━━━━━━━━━━━━━━━━━\u001b[0m\u001b[37m\u001b[0m \u001b[1m42s\u001b[0m 19s/step - accuracy: 1.0000 - loss: 2.2695 - val_accuracy: 0.6364 - val_loss: 4.5784 - learning_rate: 5.0000e-05\n",
            "Epoch 9/30\n",
            "\u001b[1m2/2\u001b[0m \u001b[32m━━━━━━━━━━━━━━━━━━━━\u001b[0m\u001b[37m\u001b[0m \u001b[1m43s\u001b[0m 18s/step - accuracy: 0.9489 - loss: 2.2689 - val_accuracy: 0.6364 - val_loss: 4.2791 - learning_rate: 5.0000e-05\n",
            "Epoch 9: early stopping\n",
            "Restoring model weights from the end of the best epoch: 4.\n",
            "\u001b[1m1/1\u001b[0m \u001b[32m━━━━━━━━━━━━━━━━━━━━\u001b[0m\u001b[37m\u001b[0m \u001b[1m13s\u001b[0m 13s/step\n",
            "\n",
            "🔹 Classification Report for Fold 2:\n",
            "              precision    recall  f1-score   support\n",
            "\n",
            "           0       0.67      1.00      0.80         4\n",
            "           1       1.00      0.71      0.83         7\n",
            "\n",
            "    accuracy                           0.82        11\n",
            "   macro avg       0.83      0.86      0.82        11\n",
            "weighted avg       0.88      0.82      0.82        11\n",
            "\n",
            "Epoch 1/30\n",
            "\u001b[1m2/2\u001b[0m \u001b[32m━━━━━━━━━━━━━━━━━━━━\u001b[0m\u001b[37m\u001b[0m \u001b[1m77s\u001b[0m 28s/step - accuracy: 0.4792 - loss: 3.6032 - val_accuracy: 0.5455 - val_loss: 3.4698 - learning_rate: 1.0000e-04\n",
            "Epoch 2/30\n",
            "\u001b[1m2/2\u001b[0m \u001b[32m━━━━━━━━━━━━━━━━━━━━\u001b[0m\u001b[37m\u001b[0m \u001b[1m72s\u001b[0m 19s/step - accuracy: 0.5814 - loss: 3.3378 - val_accuracy: 0.7273 - val_loss: 4.1616 - learning_rate: 1.0000e-04\n",
            "Epoch 3/30\n",
            "\u001b[1m2/2\u001b[0m \u001b[32m━━━━━━━━━━━━━━━━━━━━\u001b[0m\u001b[37m\u001b[0m \u001b[1m38s\u001b[0m 17s/step - accuracy: 0.8570 - loss: 2.8465 - val_accuracy: 0.7273 - val_loss: 4.9916 - learning_rate: 1.0000e-04\n",
            "Epoch 4/30\n",
            "\u001b[1m2/2\u001b[0m \u001b[32m━━━━━━━━━━━━━━━━━━━━\u001b[0m\u001b[37m\u001b[0m \u001b[1m0s\u001b[0m 9s/step - accuracy: 0.9347 - loss: 2.5997  \n",
            "Epoch 4: ReduceLROnPlateau reducing learning rate to 4.999999873689376e-05.\n",
            "\u001b[1m2/2\u001b[0m \u001b[32m━━━━━━━━━━━━━━━━━━━━\u001b[0m\u001b[37m\u001b[0m \u001b[1m43s\u001b[0m 19s/step - accuracy: 0.9337 - loss: 2.5974 - val_accuracy: 0.7273 - val_loss: 4.4764 - learning_rate: 1.0000e-04\n",
            "Epoch 5/30\n",
            "\u001b[1m2/2\u001b[0m \u001b[32m━━━━━━━━━━━━━━━━━━━━\u001b[0m\u001b[37m\u001b[0m \u001b[1m40s\u001b[0m 20s/step - accuracy: 0.9593 - loss: 2.4008 - val_accuracy: 0.7273 - val_loss: 4.5888 - learning_rate: 5.0000e-05\n",
            "Epoch 6/30\n",
            "\u001b[1m2/2\u001b[0m \u001b[32m━━━━━━━━━━━━━━━━━━━━\u001b[0m\u001b[37m\u001b[0m \u001b[1m41s\u001b[0m 19s/step - accuracy: 0.9744 - loss: 2.3310 - val_accuracy: 0.7273 - val_loss: 4.7666 - learning_rate: 5.0000e-05\n",
            "Epoch 6: early stopping\n",
            "Restoring model weights from the end of the best epoch: 1.\n",
            "\u001b[1m1/1\u001b[0m \u001b[32m━━━━━━━━━━━━━━━━━━━━\u001b[0m\u001b[37m\u001b[0m \u001b[1m13s\u001b[0m 13s/step\n",
            "\n",
            "🔹 Classification Report for Fold 3:\n",
            "              precision    recall  f1-score   support\n",
            "\n",
            "           0       0.38      1.00      0.55         3\n",
            "           1       1.00      0.38      0.55         8\n",
            "\n",
            "    accuracy                           0.55        11\n",
            "   macro avg       0.69      0.69      0.55        11\n",
            "weighted avg       0.83      0.55      0.55        11\n",
            "\n",
            "Epoch 1/30\n",
            "\u001b[1m2/2\u001b[0m \u001b[32m━━━━━━━━━━━━━━━━━━━━\u001b[0m\u001b[37m\u001b[0m \u001b[1m74s\u001b[0m 27s/step - accuracy: 0.3873 - loss: 4.8447 - val_accuracy: 0.7273 - val_loss: 4.9829 - learning_rate: 1.0000e-04\n",
            "Epoch 2/30\n",
            "\u001b[1m2/2\u001b[0m \u001b[32m━━━━━━━━━━━━━━━━━━━━\u001b[0m\u001b[37m\u001b[0m \u001b[1m39s\u001b[0m 19s/step - accuracy: 0.7396 - loss: 4.5473 - val_accuracy: 0.2727 - val_loss: 5.0763 - learning_rate: 1.0000e-04\n",
            "Epoch 3/30\n",
            "\u001b[1m2/2\u001b[0m \u001b[32m━━━━━━━━━━━━━━━━━━━━\u001b[0m\u001b[37m\u001b[0m \u001b[1m41s\u001b[0m 17s/step - accuracy: 0.3267 - loss: 4.0357 - val_accuracy: 0.2727 - val_loss: 3.7556 - learning_rate: 1.0000e-04\n",
            "Epoch 4/30\n",
            "\u001b[1m2/2\u001b[0m \u001b[32m━━━━━━━━━━━━━━━━━━━━\u001b[0m\u001b[37m\u001b[0m \u001b[1m41s\u001b[0m 20s/step - accuracy: 0.5606 - loss: 3.0610 - val_accuracy: 0.7273 - val_loss: 3.0864 - learning_rate: 1.0000e-04\n",
            "Epoch 5/30\n",
            "\u001b[1m2/2\u001b[0m \u001b[32m━━━━━━━━━━━━━━━━━━━━\u001b[0m\u001b[37m\u001b[0m \u001b[1m39s\u001b[0m 17s/step - accuracy: 0.7547 - loss: 3.1319 - val_accuracy: 0.7273 - val_loss: 3.2041 - learning_rate: 1.0000e-04\n",
            "Epoch 6/30\n",
            "\u001b[1m2/2\u001b[0m \u001b[32m━━━━━━━━━━━━━━━━━━━━\u001b[0m\u001b[37m\u001b[0m \u001b[1m43s\u001b[0m 20s/step - accuracy: 0.8059 - loss: 3.0770 - val_accuracy: 0.8182 - val_loss: 2.6539 - learning_rate: 1.0000e-04\n",
            "Epoch 7/30\n",
            "\u001b[1m2/2\u001b[0m \u001b[32m━━━━━━━━━━━━━━━━━━━━\u001b[0m\u001b[37m\u001b[0m \u001b[1m45s\u001b[0m 21s/step - accuracy: 0.8826 - loss: 2.4306 - val_accuracy: 0.7273 - val_loss: 2.6157 - learning_rate: 1.0000e-04\n",
            "Epoch 8/30\n",
            "\u001b[1m2/2\u001b[0m \u001b[32m━━━━━━━━━━━━━━━━━━━━\u001b[0m\u001b[37m\u001b[0m \u001b[1m73s\u001b[0m 14s/step - accuracy: 0.8419 - loss: 2.4562 - val_accuracy: 0.7273 - val_loss: 2.6222 - learning_rate: 1.0000e-04\n",
            "Epoch 9/30\n",
            "\u001b[1m2/2\u001b[0m \u001b[32m━━━━━━━━━━━━━━━━━━━━\u001b[0m\u001b[37m\u001b[0m \u001b[1m46s\u001b[0m 20s/step - accuracy: 0.8314 - loss: 2.3460 - val_accuracy: 0.7273 - val_loss: 2.4301 - learning_rate: 1.0000e-04\n",
            "Epoch 10/30\n",
            "\u001b[1m2/2\u001b[0m \u001b[32m━━━━━━━━━━━━━━━━━━━━\u001b[0m\u001b[37m\u001b[0m \u001b[1m38s\u001b[0m 14s/step - accuracy: 0.9233 - loss: 2.2356 - val_accuracy: 0.8182 - val_loss: 2.4613 - learning_rate: 1.0000e-04\n",
            "Epoch 11/30\n",
            "\u001b[1m2/2\u001b[0m \u001b[32m━━━━━━━━━━━━━━━━━━━━\u001b[0m\u001b[37m\u001b[0m \u001b[1m38s\u001b[0m 13s/step - accuracy: 1.0000 - loss: 2.1012 - val_accuracy: 0.7273 - val_loss: 2.6081 - learning_rate: 1.0000e-04\n",
            "Epoch 12/30\n",
            "\u001b[1m2/2\u001b[0m \u001b[32m━━━━━━━━━━━━━━━━━━━━\u001b[0m\u001b[37m\u001b[0m \u001b[1m0s\u001b[0m 9s/step - accuracy: 1.0000 - loss: 2.0648  \n",
            "Epoch 12: ReduceLROnPlateau reducing learning rate to 4.999999873689376e-05.\n",
            "\u001b[1m2/2\u001b[0m \u001b[32m━━━━━━━━━━━━━━━━━━━━\u001b[0m\u001b[37m\u001b[0m \u001b[1m41s\u001b[0m 14s/step - accuracy: 1.0000 - loss: 2.0635 - val_accuracy: 0.7273 - val_loss: 2.6253 - learning_rate: 1.0000e-04\n",
            "Epoch 13/30\n",
            "\u001b[1m2/2\u001b[0m \u001b[32m━━━━━━━━━━━━━━━━━━━━\u001b[0m\u001b[37m\u001b[0m \u001b[1m39s\u001b[0m 20s/step - accuracy: 0.9697 - loss: 2.0220 - val_accuracy: 0.8182 - val_loss: 2.4958 - learning_rate: 5.0000e-05\n",
            "Epoch 14/30\n",
            "\u001b[1m2/2\u001b[0m \u001b[32m━━━━━━━━━━━━━━━━━━━━\u001b[0m\u001b[37m\u001b[0m \u001b[1m35s\u001b[0m 13s/step - accuracy: 1.0000 - loss: 1.9974 - val_accuracy: 0.8182 - val_loss: 2.3200 - learning_rate: 5.0000e-05\n",
            "Epoch 15/30\n",
            "\u001b[1m2/2\u001b[0m \u001b[32m━━━━━━━━━━━━━━━━━━━━\u001b[0m\u001b[37m\u001b[0m \u001b[1m41s\u001b[0m 17s/step - accuracy: 1.0000 - loss: 1.9353 - val_accuracy: 0.8182 - val_loss: 2.2400 - learning_rate: 5.0000e-05\n",
            "Epoch 16/30\n",
            "\u001b[1m2/2\u001b[0m \u001b[32m━━━━━━━━━━━━━━━━━━━━\u001b[0m\u001b[37m\u001b[0m \u001b[1m34s\u001b[0m 14s/step - accuracy: 1.0000 - loss: 1.9100 - val_accuracy: 0.7273 - val_loss: 2.2080 - learning_rate: 5.0000e-05\n",
            "Epoch 17/30\n",
            "\u001b[1m2/2\u001b[0m \u001b[32m━━━━━━━━━━━━━━━━━━━━\u001b[0m\u001b[37m\u001b[0m \u001b[1m44s\u001b[0m 17s/step - accuracy: 0.9744 - loss: 1.8978 - val_accuracy: 0.7273 - val_loss: 2.1925 - learning_rate: 5.0000e-05\n",
            "Epoch 18/30\n",
            "\u001b[1m2/2\u001b[0m \u001b[32m━━━━━━━━━━━━━━━━━━━━\u001b[0m\u001b[37m\u001b[0m \u001b[1m39s\u001b[0m 20s/step - accuracy: 0.9848 - loss: 1.8737 - val_accuracy: 0.7273 - val_loss: 2.1739 - learning_rate: 5.0000e-05\n",
            "Epoch 19/30\n",
            "\u001b[1m2/2\u001b[0m \u001b[32m━━━━━━━━━━━━━━━━━━━━\u001b[0m\u001b[37m\u001b[0m \u001b[1m42s\u001b[0m 20s/step - accuracy: 1.0000 - loss: 1.8466 - val_accuracy: 0.7273 - val_loss: 2.1659 - learning_rate: 5.0000e-05\n",
            "Epoch 20/30\n",
            "\u001b[1m2/2\u001b[0m \u001b[32m━━━━━━━━━━━━━━━━━━━━\u001b[0m\u001b[37m\u001b[0m \u001b[1m40s\u001b[0m 19s/step - accuracy: 1.0000 - loss: 1.8163 - val_accuracy: 0.8182 - val_loss: 2.1734 - learning_rate: 5.0000e-05\n",
            "Epoch 21/30\n",
            "\u001b[1m2/2\u001b[0m \u001b[32m━━━━━━━━━━━━━━━━━━━━\u001b[0m\u001b[37m\u001b[0m \u001b[1m36s\u001b[0m 16s/step - accuracy: 1.0000 - loss: 1.7910 - val_accuracy: 0.8182 - val_loss: 2.1866 - learning_rate: 5.0000e-05\n",
            "Epoch 22/30\n",
            "\u001b[1m2/2\u001b[0m \u001b[32m━━━━━━━━━━━━━━━━━━━━\u001b[0m\u001b[37m\u001b[0m \u001b[1m0s\u001b[0m 7s/step - accuracy: 1.0000 - loss: 1.7787  \n",
            "Epoch 22: ReduceLROnPlateau reducing learning rate to 2.499999936844688e-05.\n",
            "\u001b[1m2/2\u001b[0m \u001b[32m━━━━━━━━━━━━━━━━━━━━\u001b[0m\u001b[37m\u001b[0m \u001b[1m44s\u001b[0m 18s/step - accuracy: 1.0000 - loss: 1.7777 - val_accuracy: 0.8182 - val_loss: 2.1986 - learning_rate: 5.0000e-05\n",
            "Epoch 23/30\n",
            "\u001b[1m2/2\u001b[0m \u001b[32m━━━━━━━━━━━━━━━━━━━━\u001b[0m\u001b[37m\u001b[0m \u001b[1m41s\u001b[0m 19s/step - accuracy: 1.0000 - loss: 1.7616 - val_accuracy: 0.8182 - val_loss: 2.1978 - learning_rate: 2.5000e-05\n",
            "Epoch 24/30\n",
            "\u001b[1m2/2\u001b[0m \u001b[32m━━━━━━━━━━━━━━━━━━━━\u001b[0m\u001b[37m\u001b[0m \u001b[1m38s\u001b[0m 13s/step - accuracy: 1.0000 - loss: 1.7457 - val_accuracy: 0.8182 - val_loss: 2.1904 - learning_rate: 2.5000e-05\n",
            "Epoch 24: early stopping\n",
            "Restoring model weights from the end of the best epoch: 19.\n"
          ]
        },
        {
          "output_type": "stream",
          "name": "stderr",
          "text": [
            "WARNING:tensorflow:5 out of the last 5 calls to <function TensorFlowTrainer.make_predict_function.<locals>.one_step_on_data_distributed at 0x7bc03bb6c180> triggered tf.function retracing. Tracing is expensive and the excessive number of tracings could be due to (1) creating @tf.function repeatedly in a loop, (2) passing tensors with different shapes, (3) passing Python objects instead of tensors. For (1), please define your @tf.function outside of the loop. For (2), @tf.function has reduce_retracing=True option that can avoid unnecessary retracing. For (3), please refer to https://www.tensorflow.org/guide/function#controlling_retracing and https://www.tensorflow.org/api_docs/python/tf/function for  more details.\n"
          ]
        },
        {
          "output_type": "stream",
          "name": "stdout",
          "text": [
            "\u001b[1m1/1\u001b[0m \u001b[32m━━━━━━━━━━━━━━━━━━━━\u001b[0m\u001b[37m\u001b[0m \u001b[1m12s\u001b[0m 12s/step\n",
            "\n",
            "🔹 Classification Report for Fold 4:\n",
            "              precision    recall  f1-score   support\n",
            "\n",
            "           0       0.50      0.33      0.40         3\n",
            "           1       0.78      0.88      0.82         8\n",
            "\n",
            "    accuracy                           0.73        11\n",
            "   macro avg       0.64      0.60      0.61        11\n",
            "weighted avg       0.70      0.73      0.71        11\n",
            "\n",
            "Epoch 1/30\n",
            "\u001b[1m2/2\u001b[0m \u001b[32m━━━━━━━━━━━━━━━━━━━━\u001b[0m\u001b[37m\u001b[0m \u001b[1m74s\u001b[0m 26s/step - accuracy: 0.3617 - loss: 5.1127 - val_accuracy: 0.7273 - val_loss: 4.2142 - learning_rate: 1.0000e-04\n",
            "Epoch 2/30\n",
            "\u001b[1m2/2\u001b[0m \u001b[32m━━━━━━━━━━━━━━━━━━━━\u001b[0m\u001b[37m\u001b[0m \u001b[1m38s\u001b[0m 18s/step - accuracy: 0.5417 - loss: 4.2281 - val_accuracy: 0.2727 - val_loss: 4.4329 - learning_rate: 1.0000e-04\n",
            "Epoch 3/30\n",
            "\u001b[1m2/2\u001b[0m \u001b[32m━━━━━━━━━━━━━━━━━━━━\u001b[0m\u001b[37m\u001b[0m \u001b[1m44s\u001b[0m 17s/step - accuracy: 0.3570 - loss: 3.7435 - val_accuracy: 0.7273 - val_loss: 2.9438 - learning_rate: 1.0000e-04\n",
            "Epoch 4/30\n",
            "\u001b[1m2/2\u001b[0m \u001b[32m━━━━━━━━━━━━━━━━━━━━\u001b[0m\u001b[37m\u001b[0m \u001b[1m74s\u001b[0m 14s/step - accuracy: 0.6581 - loss: 2.9655 - val_accuracy: 0.7273 - val_loss: 3.0378 - learning_rate: 1.0000e-04\n",
            "Epoch 5/30\n",
            "\u001b[1m2/2\u001b[0m \u001b[32m━━━━━━━━━━━━━━━━━━━━\u001b[0m\u001b[37m\u001b[0m \u001b[1m45s\u001b[0m 17s/step - accuracy: 0.7348 - loss: 3.1093 - val_accuracy: 0.7273 - val_loss: 3.0189 - learning_rate: 1.0000e-04\n",
            "Epoch 6/30\n",
            "\u001b[1m2/2\u001b[0m \u001b[32m━━━━━━━━━━━━━━━━━━━━\u001b[0m\u001b[37m\u001b[0m \u001b[1m45s\u001b[0m 20s/step - accuracy: 0.7652 - loss: 2.9556 - val_accuracy: 0.7273 - val_loss: 2.6819 - learning_rate: 1.0000e-04\n",
            "Epoch 7/30\n",
            "\u001b[1m2/2\u001b[0m \u001b[32m━━━━━━━━━━━━━━━━━━━━\u001b[0m\u001b[37m\u001b[0m \u001b[1m37s\u001b[0m 18s/step - accuracy: 0.8116 - loss: 2.5847 - val_accuracy: 0.9091 - val_loss: 2.5950 - learning_rate: 1.0000e-04\n",
            "Epoch 8/30\n",
            "\u001b[1m2/2\u001b[0m \u001b[32m━━━━━━━━━━━━━━━━━━━━\u001b[0m\u001b[37m\u001b[0m \u001b[1m41s\u001b[0m 16s/step - accuracy: 0.7803 - loss: 2.4906 - val_accuracy: 0.7273 - val_loss: 2.7329 - learning_rate: 1.0000e-04\n",
            "Epoch 9/30\n",
            "\u001b[1m2/2\u001b[0m \u001b[32m━━━━━━━━━━━━━━━━━━━━\u001b[0m\u001b[37m\u001b[0m \u001b[1m43s\u001b[0m 19s/step - accuracy: 0.5616 - loss: 2.6898 - val_accuracy: 0.9091 - val_loss: 2.4304 - learning_rate: 1.0000e-04\n",
            "Epoch 10/30\n",
            "\u001b[1m2/2\u001b[0m \u001b[32m━━━━━━━━━━━━━━━━━━━━\u001b[0m\u001b[37m\u001b[0m \u001b[1m36s\u001b[0m 14s/step - accuracy: 0.7756 - loss: 2.4159 - val_accuracy: 0.8182 - val_loss: 2.4879 - learning_rate: 1.0000e-04\n",
            "Epoch 11/30\n",
            "\u001b[1m2/2\u001b[0m \u001b[32m━━━━━━━━━━━━━━━━━━━━\u001b[0m\u001b[37m\u001b[0m \u001b[1m46s\u001b[0m 17s/step - accuracy: 0.8977 - loss: 2.2676 - val_accuracy: 0.7273 - val_loss: 2.7677 - learning_rate: 1.0000e-04\n",
            "Epoch 12/30\n",
            "\u001b[1m2/2\u001b[0m \u001b[32m━━━━━━━━━━━━━━━━━━━━\u001b[0m\u001b[37m\u001b[0m \u001b[1m0s\u001b[0m 9s/step - accuracy: 0.8920 - loss: 2.2448  \n",
            "Epoch 12: ReduceLROnPlateau reducing learning rate to 4.999999873689376e-05.\n",
            "\u001b[1m2/2\u001b[0m \u001b[32m━━━━━━━━━━━━━━━━━━━━\u001b[0m\u001b[37m\u001b[0m \u001b[1m35s\u001b[0m 14s/step - accuracy: 0.8977 - loss: 2.2393 - val_accuracy: 0.7273 - val_loss: 2.9159 - learning_rate: 1.0000e-04\n",
            "Epoch 13/30\n",
            "\u001b[1m2/2\u001b[0m \u001b[32m━━━━━━━━━━━━━━━━━━━━\u001b[0m\u001b[37m\u001b[0m \u001b[1m44s\u001b[0m 17s/step - accuracy: 0.8977 - loss: 2.3320 - val_accuracy: 0.7273 - val_loss: 2.8051 - learning_rate: 5.0000e-05\n",
            "Epoch 14/30\n",
            "\u001b[1m2/2\u001b[0m \u001b[32m━━━━━━━━━━━━━━━━━━━━\u001b[0m\u001b[37m\u001b[0m \u001b[1m44s\u001b[0m 17s/step - accuracy: 0.9233 - loss: 2.1644 - val_accuracy: 0.7273 - val_loss: 2.6249 - learning_rate: 5.0000e-05\n",
            "Epoch 14: early stopping\n",
            "Restoring model weights from the end of the best epoch: 9.\n"
          ]
        },
        {
          "output_type": "stream",
          "name": "stderr",
          "text": [
            "WARNING:tensorflow:6 out of the last 6 calls to <function TensorFlowTrainer.make_predict_function.<locals>.one_step_on_data_distributed at 0x7bc02c9c7f60> triggered tf.function retracing. Tracing is expensive and the excessive number of tracings could be due to (1) creating @tf.function repeatedly in a loop, (2) passing tensors with different shapes, (3) passing Python objects instead of tensors. For (1), please define your @tf.function outside of the loop. For (2), @tf.function has reduce_retracing=True option that can avoid unnecessary retracing. For (3), please refer to https://www.tensorflow.org/guide/function#controlling_retracing and https://www.tensorflow.org/api_docs/python/tf/function for  more details.\n"
          ]
        },
        {
          "output_type": "stream",
          "name": "stdout",
          "text": [
            "\u001b[1m1/1\u001b[0m \u001b[32m━━━━━━━━━━━━━━━━━━━━\u001b[0m\u001b[37m\u001b[0m \u001b[1m16s\u001b[0m 16s/step\n",
            "\n",
            "🔹 Classification Report for Fold 5:\n",
            "              precision    recall  f1-score   support\n",
            "\n",
            "           0       0.75      1.00      0.86         3\n",
            "           1       1.00      0.88      0.93         8\n",
            "\n",
            "    accuracy                           0.91        11\n",
            "   macro avg       0.88      0.94      0.90        11\n",
            "weighted avg       0.93      0.91      0.91        11\n",
            "\n",
            "\n",
            "🔥 Average Accuracy Across Folds: 0.7818\n"
          ]
        }
      ],
      "execution_count": 22
    },
    {
      "cell_type": "code",
      "source": [
        "# Accuracy Trend\n",
        "plt.figure(figsize=(8, 4))\n",
        "plt.plot(range(1, 6), fold_accuracies, marker='o', label=\"Fold Accuracies\")\n",
        "plt.axhline(y=np.mean(fold_accuracies), color='r', linestyle='--', label=\"Average Accuracy\")\n",
        "plt.xlabel(\"Fold Number\")\n",
        "plt.ylabel(\"Accuracy\")\n",
        "plt.title(\"Cross-Validation Accuracy Per Fold (Optimized Model)\")\n",
        "plt.legend()\n",
        "plt.show()"
      ],
      "metadata": {
        "id": "Synq7eAOGpSF"
      },
      "execution_count": 15,
      "outputs": []
    },
    {
      "cell_type": "markdown",
      "source": [
        "**Conclusion:** InceptionResNetV2 achieved an average accuracy of **0.7818**, showing strong performance but some overfitting."
      ],
      "metadata": {
        "id": "RXuNZgFofz6X"
      }
    },
    {
      "cell_type": "markdown",
      "source": [
        "### MobileNetV2"
      ],
      "metadata": {
        "id": "4ZYcZUxQL1yD"
      }
    },
    {
      "cell_type": "code",
      "source": [
        "X_resized = X_resized / 255.0\n",
        "image_size = (224, 224)  #  to match MobileNetV2\n",
        "X_resized = np.array([resize(img, image_size).numpy() for img in X_resized])  # Resize dataset\n",
        "\n",
        "# 5-Fold Cross Validation\n",
        "kf = StratifiedKFold(n_splits=5, shuffle=True, random_state=42)\n"
      ],
      "metadata": {
        "id": "HjFu46bmL6-q"
      },
      "execution_count": 32,
      "outputs": []
    },
    {
      "cell_type": "code",
      "source": [
        "fold_accuracies = []\n",
        "fold_reports = []"
      ],
      "metadata": {
        "id": "SmYWgz9LMFVj"
      },
      "execution_count": 33,
      "outputs": []
    },
    {
      "cell_type": "code",
      "source": [
        "for fold, (train_idx, test_idx) in enumerate(kf.split(X_resized, labels)):\n",
        "    X_train, X_test = X_resized[train_idx], X_resized[test_idx]\n",
        "    y_train, y_test = labels[train_idx], labels[test_idx]\n",
        "\n",
        "    # Compute Class Weights\n",
        "    class_weights = compute_class_weight(\"balanced\", classes=np.unique(y_train), y=y_train)\n",
        "    class_weights_dict = {i: class_weights[i] for i in range(len(class_weights))}\n",
        "\n",
        "    # Data Augmentation\n",
        "    datagen = ImageDataGenerator(\n",
        "        rotation_range=20,\n",
        "        width_shift_range=0.2,\n",
        "        height_shift_range=0.2,\n",
        "        shear_range=0.2,\n",
        "        zoom_range=0.2,\n",
        "        horizontal_flip=True,\n",
        "        brightness_range=[0.9, 1.1],\n",
        "        fill_mode='nearest'\n",
        "    )\n",
        "    train_generator = datagen.flow(X_train, y_train, batch_size=32, shuffle=True)\n",
        "    base_model = MobileNetV2(weights=\"imagenet\", include_top=False, input_shape=(224, 224, 3))\n",
        "\n",
        "    for layer in base_model.layers[:-5]:\n",
        "        layer.trainable = False\n",
        "\n",
        "    x = Flatten()(base_model.output)\n",
        "    x = Dense(128, activation=\"relu\", kernel_regularizer=tf.keras.regularizers.l2(0.01))(x)  # Added L2 Regularization\n",
        "    x = Dropout(0.3)(x)\n",
        "    x = Dense(1, activation=\"sigmoid\")(x)  # Binary classification\n",
        "\n",
        "    model = Model(inputs=base_model.input, outputs=x)\n",
        "\n",
        "    model.compile(\n",
        "        optimizer=Adam(learning_rate=0.00005),\n",
        "        loss=\"binary_crossentropy\",\n",
        "        metrics=[\"accuracy\"]\n",
        "    )\n",
        "\n",
        "    early_stopping = tf.keras.callbacks.EarlyStopping(\n",
        "        monitor='val_loss',\n",
        "        patience=5,\n",
        "        restore_best_weights=True,\n",
        "        verbose=1\n",
        "    )\n",
        "\n",
        "    lr_reduction = tf.keras.callbacks.ReduceLROnPlateau(\n",
        "        monitor='val_loss',\n",
        "        patience=3,\n",
        "        factor=0.5,\n",
        "        min_lr=1e-6,\n",
        "        verbose=1\n",
        "    )\n",
        "\n",
        "    steps_per_epoch = max(1, len(X_train) // 32)\n",
        "\n",
        "    history = model.fit(\n",
        "        train_generator,\n",
        "        validation_data=(X_test, y_test),\n",
        "        epochs=30,\n",
        "        steps_per_epoch=steps_per_epoch,\n",
        "        class_weight=class_weights_dict,\n",
        "        callbacks=[early_stopping, lr_reduction],\n",
        "        verbose=1\n",
        "    )\n",
        "\n",
        "    y_pred = (model.predict(X_test) > 0.5).astype(int).flatten()\n",
        "    acc = np.mean(y_pred == y_test)\n",
        "    fold_accuracies.append(acc)\n",
        "    fold_reports.append(classification_report(y_test, y_pred))\n",
        "\n",
        "    print(f\"\\nClassification Report for Fold {fold + 1}:\")\n",
        "    print(classification_report(y_test, y_pred))"
      ],
      "metadata": {
        "id": "6kE67RzTLa5B",
        "outputId": "1dafc08a-91f5-4d87-bd6e-5ce5d426e221",
        "colab": {
          "base_uri": "https://localhost:8080/"
        }
      },
      "execution_count": 34,
      "outputs": [
        {
          "output_type": "stream",
          "name": "stderr",
          "text": [
            "/usr/local/lib/python3.11/dist-packages/keras/src/trainers/data_adapters/py_dataset_adapter.py:121: UserWarning: Your `PyDataset` class should call `super().__init__(**kwargs)` in its constructor. `**kwargs` can include `workers`, `use_multiprocessing`, `max_queue_size`. Do not pass these arguments to `fit()`, as they will be ignored.\n",
            "  self._warn_if_super_not_called()\n"
          ]
        },
        {
          "output_type": "stream",
          "name": "stdout",
          "text": [
            "Epoch 1/30\n",
            "\u001b[1m1/1\u001b[0m \u001b[32m━━━━━━━━━━━━━━━━━━━━\u001b[0m\u001b[37m\u001b[0m \u001b[1m11s\u001b[0m 11s/step - accuracy: 0.5000 - loss: 3.2579 - val_accuracy: 0.6364 - val_loss: 3.1823 - learning_rate: 5.0000e-05\n",
            "Epoch 2/30\n",
            "\u001b[1m1/1\u001b[0m \u001b[32m━━━━━━━━━━━━━━━━━━━━\u001b[0m\u001b[37m\u001b[0m \u001b[1m4s\u001b[0m 4s/step - accuracy: 0.7188 - loss: 5.3734 - val_accuracy: 0.3636 - val_loss: 3.2997 - learning_rate: 5.0000e-05\n",
            "Epoch 3/30\n",
            "\u001b[1m1/1\u001b[0m \u001b[32m━━━━━━━━━━━━━━━━━━━━\u001b[0m\u001b[37m\u001b[0m \u001b[1m4s\u001b[0m 4s/step - accuracy: 0.6667 - loss: 3.1947 - val_accuracy: 0.3636 - val_loss: 3.5453 - learning_rate: 5.0000e-05\n",
            "Epoch 4/30\n",
            "\u001b[1m1/1\u001b[0m \u001b[32m━━━━━━━━━━━━━━━━━━━━\u001b[0m\u001b[37m\u001b[0m \u001b[1m0s\u001b[0m 1s/step - accuracy: 0.3438 - loss: 4.0901\n",
            "Epoch 4: ReduceLROnPlateau reducing learning rate to 2.499999936844688e-05.\n",
            "\u001b[1m1/1\u001b[0m \u001b[32m━━━━━━━━━━━━━━━━━━━━\u001b[0m\u001b[37m\u001b[0m \u001b[1m2s\u001b[0m 2s/step - accuracy: 0.3438 - loss: 4.0901 - val_accuracy: 0.3636 - val_loss: 3.5072 - learning_rate: 5.0000e-05\n",
            "Epoch 5/30\n",
            "\u001b[1m1/1\u001b[0m \u001b[32m━━━━━━━━━━━━━━━━━━━━\u001b[0m\u001b[37m\u001b[0m \u001b[1m3s\u001b[0m 3s/step - accuracy: 0.4167 - loss: 3.5166 - val_accuracy: 0.3636 - val_loss: 3.4086 - learning_rate: 2.5000e-05\n",
            "Epoch 6/30\n",
            "\u001b[1m1/1\u001b[0m \u001b[32m━━━━━━━━━━━━━━━━━━━━\u001b[0m\u001b[37m\u001b[0m \u001b[1m2s\u001b[0m 2s/step - accuracy: 0.1875 - loss: 3.4967 - val_accuracy: 0.3636 - val_loss: 3.2804 - learning_rate: 2.5000e-05\n",
            "Epoch 6: early stopping\n",
            "Restoring model weights from the end of the best epoch: 1.\n",
            "\u001b[1m1/1\u001b[0m \u001b[32m━━━━━━━━━━━━━━━━━━━━\u001b[0m\u001b[37m\u001b[0m \u001b[1m2s\u001b[0m 2s/step\n",
            "\n",
            "Classification Report for Fold 1:\n",
            "              precision    recall  f1-score   support\n",
            "\n",
            "           0       0.00      0.00      0.00         4\n",
            "           1       0.64      1.00      0.78         7\n",
            "\n",
            "    accuracy                           0.64        11\n",
            "   macro avg       0.32      0.50      0.39        11\n",
            "weighted avg       0.40      0.64      0.49        11\n",
            "\n"
          ]
        },
        {
          "output_type": "stream",
          "name": "stderr",
          "text": [
            "/usr/local/lib/python3.11/dist-packages/sklearn/metrics/_classification.py:1565: UndefinedMetricWarning: Precision is ill-defined and being set to 0.0 in labels with no predicted samples. Use `zero_division` parameter to control this behavior.\n",
            "  _warn_prf(average, modifier, f\"{metric.capitalize()} is\", len(result))\n",
            "/usr/local/lib/python3.11/dist-packages/sklearn/metrics/_classification.py:1565: UndefinedMetricWarning: Precision is ill-defined and being set to 0.0 in labels with no predicted samples. Use `zero_division` parameter to control this behavior.\n",
            "  _warn_prf(average, modifier, f\"{metric.capitalize()} is\", len(result))\n",
            "/usr/local/lib/python3.11/dist-packages/sklearn/metrics/_classification.py:1565: UndefinedMetricWarning: Precision is ill-defined and being set to 0.0 in labels with no predicted samples. Use `zero_division` parameter to control this behavior.\n",
            "  _warn_prf(average, modifier, f\"{metric.capitalize()} is\", len(result))\n",
            "/usr/local/lib/python3.11/dist-packages/sklearn/metrics/_classification.py:1565: UndefinedMetricWarning: Precision is ill-defined and being set to 0.0 in labels with no predicted samples. Use `zero_division` parameter to control this behavior.\n",
            "  _warn_prf(average, modifier, f\"{metric.capitalize()} is\", len(result))\n",
            "/usr/local/lib/python3.11/dist-packages/sklearn/metrics/_classification.py:1565: UndefinedMetricWarning: Precision is ill-defined and being set to 0.0 in labels with no predicted samples. Use `zero_division` parameter to control this behavior.\n",
            "  _warn_prf(average, modifier, f\"{metric.capitalize()} is\", len(result))\n",
            "/usr/local/lib/python3.11/dist-packages/sklearn/metrics/_classification.py:1565: UndefinedMetricWarning: Precision is ill-defined and being set to 0.0 in labels with no predicted samples. Use `zero_division` parameter to control this behavior.\n",
            "  _warn_prf(average, modifier, f\"{metric.capitalize()} is\", len(result))\n",
            "/usr/local/lib/python3.11/dist-packages/keras/src/trainers/data_adapters/py_dataset_adapter.py:121: UserWarning: Your `PyDataset` class should call `super().__init__(**kwargs)` in its constructor. `**kwargs` can include `workers`, `use_multiprocessing`, `max_queue_size`. Do not pass these arguments to `fit()`, as they will be ignored.\n",
            "  self._warn_if_super_not_called()\n"
          ]
        },
        {
          "output_type": "stream",
          "name": "stdout",
          "text": [
            "Epoch 1/30\n",
            "\u001b[1m1/1\u001b[0m \u001b[32m━━━━━━━━━━━━━━━━━━━━\u001b[0m\u001b[37m\u001b[0m \u001b[1m10s\u001b[0m 10s/step - accuracy: 0.1667 - loss: 3.8624 - val_accuracy: 0.6364 - val_loss: 3.2213 - learning_rate: 5.0000e-05\n",
            "Epoch 2/30\n",
            "\u001b[1m1/1\u001b[0m \u001b[32m━━━━━━━━━━━━━━━━━━━━\u001b[0m\u001b[37m\u001b[0m \u001b[1m4s\u001b[0m 4s/step - accuracy: 0.6562 - loss: 5.9754 - val_accuracy: 0.6364 - val_loss: 3.1966 - learning_rate: 5.0000e-05\n",
            "Epoch 3/30\n",
            "\u001b[1m1/1\u001b[0m \u001b[32m━━━━━━━━━━━━━━━━━━━━\u001b[0m\u001b[37m\u001b[0m \u001b[1m1s\u001b[0m 1s/step - accuracy: 0.5833 - loss: 5.6847 - val_accuracy: 0.6364 - val_loss: 3.1055 - learning_rate: 5.0000e-05\n",
            "Epoch 4/30\n",
            "\u001b[1m1/1\u001b[0m \u001b[32m━━━━━━━━━━━━━━━━━━━━\u001b[0m\u001b[37m\u001b[0m \u001b[1m2s\u001b[0m 2s/step - accuracy: 0.6562 - loss: 3.2148 - val_accuracy: 0.3636 - val_loss: 3.1203 - learning_rate: 5.0000e-05\n",
            "Epoch 5/30\n",
            "\u001b[1m1/1\u001b[0m \u001b[32m━━━━━━━━━━━━━━━━━━━━\u001b[0m\u001b[37m\u001b[0m \u001b[1m3s\u001b[0m 3s/step - accuracy: 0.2500 - loss: 3.2641 - val_accuracy: 0.3636 - val_loss: 3.1553 - learning_rate: 5.0000e-05\n",
            "Epoch 6/30\n",
            "\u001b[1m1/1\u001b[0m \u001b[32m━━━━━━━━━━━━━━━━━━━━\u001b[0m\u001b[37m\u001b[0m \u001b[1m0s\u001b[0m 1s/step - accuracy: 0.2812 - loss: 3.3961\n",
            "Epoch 6: ReduceLROnPlateau reducing learning rate to 2.499999936844688e-05.\n",
            "\u001b[1m1/1\u001b[0m \u001b[32m━━━━━━━━━━━━━━━━━━━━\u001b[0m\u001b[37m\u001b[0m \u001b[1m2s\u001b[0m 2s/step - accuracy: 0.2812 - loss: 3.3961 - val_accuracy: 0.3636 - val_loss: 3.1480 - learning_rate: 5.0000e-05\n",
            "Epoch 7/30\n",
            "\u001b[1m1/1\u001b[0m \u001b[32m━━━━━━━━━━━━━━━━━━━━\u001b[0m\u001b[37m\u001b[0m \u001b[1m4s\u001b[0m 4s/step - accuracy: 0.1667 - loss: 3.1864 - val_accuracy: 0.3636 - val_loss: 3.1212 - learning_rate: 2.5000e-05\n",
            "Epoch 8/30\n",
            "\u001b[1m1/1\u001b[0m \u001b[32m━━━━━━━━━━━━━━━━━━━━\u001b[0m\u001b[37m\u001b[0m \u001b[1m3s\u001b[0m 3s/step - accuracy: 0.3750 - loss: 3.1512 - val_accuracy: 0.3636 - val_loss: 3.0853 - learning_rate: 2.5000e-05\n",
            "Epoch 9/30\n",
            "\u001b[1m1/1\u001b[0m \u001b[32m━━━━━━━━━━━━━━━━━━━━\u001b[0m\u001b[37m\u001b[0m \u001b[1m7s\u001b[0m 7s/step - accuracy: 0.2188 - loss: 3.0862 - val_accuracy: 0.3636 - val_loss: 3.0483 - learning_rate: 2.5000e-05\n",
            "Epoch 10/30\n",
            "\u001b[1m1/1\u001b[0m \u001b[32m━━━━━━━━━━━━━━━━━━━━\u001b[0m\u001b[37m\u001b[0m \u001b[1m1s\u001b[0m 1s/step - accuracy: 0.6667 - loss: 2.9140 - val_accuracy: 0.3636 - val_loss: 3.0189 - learning_rate: 2.5000e-05\n",
            "Epoch 11/30\n",
            "\u001b[1m1/1\u001b[0m \u001b[32m━━━━━━━━━━━━━━━━━━━━\u001b[0m\u001b[37m\u001b[0m \u001b[1m6s\u001b[0m 6s/step - accuracy: 0.6875 - loss: 3.0776 - val_accuracy: 0.3636 - val_loss: 2.9946 - learning_rate: 2.5000e-05\n",
            "Epoch 12/30\n",
            "\u001b[1m1/1\u001b[0m \u001b[32m━━━━━━━━━━━━━━━━━━━━\u001b[0m\u001b[37m\u001b[0m \u001b[1m1s\u001b[0m 947ms/step - accuracy: 0.8333 - loss: 2.8978 - val_accuracy: 0.3636 - val_loss: 2.9754 - learning_rate: 2.5000e-05\n",
            "Epoch 13/30\n",
            "\u001b[1m1/1\u001b[0m \u001b[32m━━━━━━━━━━━━━━━━━━━━\u001b[0m\u001b[37m\u001b[0m \u001b[1m3s\u001b[0m 3s/step - accuracy: 0.6250 - loss: 3.1574 - val_accuracy: 0.3636 - val_loss: 2.9659 - learning_rate: 2.5000e-05\n",
            "Epoch 14/30\n",
            "\u001b[1m1/1\u001b[0m \u001b[32m━━━━━━━━━━━━━━━━━━━━\u001b[0m\u001b[37m\u001b[0m \u001b[1m1s\u001b[0m 977ms/step - accuracy: 0.9167 - loss: 2.6747 - val_accuracy: 0.3636 - val_loss: 2.9525 - learning_rate: 2.5000e-05\n",
            "Epoch 15/30\n",
            "\u001b[1m1/1\u001b[0m \u001b[32m━━━━━━━━━━━━━━━━━━━━\u001b[0m\u001b[37m\u001b[0m \u001b[1m2s\u001b[0m 2s/step - accuracy: 0.5938 - loss: 2.9842 - val_accuracy: 0.3636 - val_loss: 2.9442 - learning_rate: 2.5000e-05\n",
            "Epoch 16/30\n",
            "\u001b[1m1/1\u001b[0m \u001b[32m━━━━━━━━━━━━━━━━━━━━\u001b[0m\u001b[37m\u001b[0m \u001b[1m1s\u001b[0m 1s/step - accuracy: 0.6667 - loss: 3.0206 - val_accuracy: 0.3636 - val_loss: 2.9377 - learning_rate: 2.5000e-05\n",
            "Epoch 17/30\n",
            "\u001b[1m1/1\u001b[0m \u001b[32m━━━━━━━━━━━━━━━━━━━━\u001b[0m\u001b[37m\u001b[0m \u001b[1m4s\u001b[0m 4s/step - accuracy: 0.7500 - loss: 2.7474 - val_accuracy: 0.3636 - val_loss: 2.9278 - learning_rate: 2.5000e-05\n",
            "Epoch 18/30\n",
            "\u001b[1m1/1\u001b[0m \u001b[32m━━━━━━━━━━━━━━━━━━━━\u001b[0m\u001b[37m\u001b[0m \u001b[1m3s\u001b[0m 3s/step - accuracy: 0.4688 - loss: 3.0398 - val_accuracy: 0.3636 - val_loss: 2.9250 - learning_rate: 2.5000e-05\n",
            "Epoch 19/30\n",
            "\u001b[1m1/1\u001b[0m \u001b[32m━━━━━━━━━━━━━━━━━━━━\u001b[0m\u001b[37m\u001b[0m \u001b[1m6s\u001b[0m 6s/step - accuracy: 0.9167 - loss: 2.7460 - val_accuracy: 0.3636 - val_loss: 2.9231 - learning_rate: 2.5000e-05\n",
            "Epoch 20/30\n",
            "\u001b[1m1/1\u001b[0m \u001b[32m━━━━━━━━━━━━━━━━━━━━\u001b[0m\u001b[37m\u001b[0m \u001b[1m2s\u001b[0m 2s/step - accuracy: 0.6250 - loss: 2.8172 - val_accuracy: 0.3636 - val_loss: 2.9222 - learning_rate: 2.5000e-05\n",
            "Epoch 21/30\n",
            "\u001b[1m1/1\u001b[0m \u001b[32m━━━━━━━━━━━━━━━━━━━━\u001b[0m\u001b[37m\u001b[0m \u001b[1m4s\u001b[0m 4s/step - accuracy: 0.4688 - loss: 2.9149 - val_accuracy: 0.3636 - val_loss: 2.9258 - learning_rate: 2.5000e-05\n",
            "Epoch 22/30\n",
            "\u001b[1m1/1\u001b[0m \u001b[32m━━━━━━━━━━━━━━━━━━━━\u001b[0m\u001b[37m\u001b[0m \u001b[1m2s\u001b[0m 2s/step - accuracy: 0.2500 - loss: 2.8059 - val_accuracy: 0.3636 - val_loss: 2.9171 - learning_rate: 2.5000e-05\n",
            "Epoch 23/30\n",
            "\u001b[1m1/1\u001b[0m \u001b[32m━━━━━━━━━━━━━━━━━━━━\u001b[0m\u001b[37m\u001b[0m \u001b[1m2s\u001b[0m 2s/step - accuracy: 0.3333 - loss: 2.8420 - val_accuracy: 0.3636 - val_loss: 2.9015 - learning_rate: 2.5000e-05\n",
            "Epoch 24/30\n",
            "\u001b[1m1/1\u001b[0m \u001b[32m━━━━━━━━━━━━━━━━━━━━\u001b[0m\u001b[37m\u001b[0m \u001b[1m2s\u001b[0m 2s/step - accuracy: 0.3438 - loss: 2.7918 - val_accuracy: 0.3636 - val_loss: 2.8815 - learning_rate: 2.5000e-05\n",
            "Epoch 25/30\n",
            "\u001b[1m1/1\u001b[0m \u001b[32m━━━━━━━━━━━━━━━━━━━━\u001b[0m\u001b[37m\u001b[0m \u001b[1m4s\u001b[0m 4s/step - accuracy: 0.3125 - loss: 2.8069 - val_accuracy: 0.3636 - val_loss: 2.8571 - learning_rate: 2.5000e-05\n",
            "Epoch 26/30\n",
            "\u001b[1m1/1\u001b[0m \u001b[32m━━━━━━━━━━━━━━━━━━━━\u001b[0m\u001b[37m\u001b[0m \u001b[1m1s\u001b[0m 1s/step - accuracy: 0.3333 - loss: 2.7964 - val_accuracy: 0.3636 - val_loss: 2.8330 - learning_rate: 2.5000e-05\n",
            "Epoch 27/30\n",
            "\u001b[1m1/1\u001b[0m \u001b[32m━━━━━━━━━━━━━━━━━━━━\u001b[0m\u001b[37m\u001b[0m \u001b[1m4s\u001b[0m 4s/step - accuracy: 0.6667 - loss: 2.7217 - val_accuracy: 0.3636 - val_loss: 2.8106 - learning_rate: 2.5000e-05\n",
            "Epoch 28/30\n",
            "\u001b[1m1/1\u001b[0m \u001b[32m━━━━━━━━━━━━━━━━━━━━\u001b[0m\u001b[37m\u001b[0m \u001b[1m4s\u001b[0m 4s/step - accuracy: 0.5312 - loss: 2.7067 - val_accuracy: 0.3636 - val_loss: 2.7874 - learning_rate: 2.5000e-05\n",
            "Epoch 29/30\n",
            "\u001b[1m1/1\u001b[0m \u001b[32m━━━━━━━━━━━━━━━━━━━━\u001b[0m\u001b[37m\u001b[0m \u001b[1m5s\u001b[0m 5s/step - accuracy: 0.2500 - loss: 2.8136 - val_accuracy: 0.3636 - val_loss: 2.7685 - learning_rate: 2.5000e-05\n",
            "Epoch 30/30\n",
            "\u001b[1m1/1\u001b[0m \u001b[32m━━━━━━━━━━━━━━━━━━━━\u001b[0m\u001b[37m\u001b[0m \u001b[1m2s\u001b[0m 2s/step - accuracy: 0.5938 - loss: 2.7094 - val_accuracy: 0.3636 - val_loss: 2.7507 - learning_rate: 2.5000e-05\n",
            "Restoring model weights from the end of the best epoch: 30.\n",
            "\u001b[1m1/1\u001b[0m \u001b[32m━━━━━━━━━━━━━━━━━━━━\u001b[0m\u001b[37m\u001b[0m \u001b[1m2s\u001b[0m 2s/step\n",
            "\n",
            "Classification Report for Fold 2:\n",
            "              precision    recall  f1-score   support\n",
            "\n",
            "           0       0.36      1.00      0.53         4\n",
            "           1       0.00      0.00      0.00         7\n",
            "\n",
            "    accuracy                           0.36        11\n",
            "   macro avg       0.18      0.50      0.27        11\n",
            "weighted avg       0.13      0.36      0.19        11\n",
            "\n"
          ]
        },
        {
          "output_type": "stream",
          "name": "stderr",
          "text": [
            "/usr/local/lib/python3.11/dist-packages/sklearn/metrics/_classification.py:1565: UndefinedMetricWarning: Precision is ill-defined and being set to 0.0 in labels with no predicted samples. Use `zero_division` parameter to control this behavior.\n",
            "  _warn_prf(average, modifier, f\"{metric.capitalize()} is\", len(result))\n",
            "/usr/local/lib/python3.11/dist-packages/sklearn/metrics/_classification.py:1565: UndefinedMetricWarning: Precision is ill-defined and being set to 0.0 in labels with no predicted samples. Use `zero_division` parameter to control this behavior.\n",
            "  _warn_prf(average, modifier, f\"{metric.capitalize()} is\", len(result))\n",
            "/usr/local/lib/python3.11/dist-packages/sklearn/metrics/_classification.py:1565: UndefinedMetricWarning: Precision is ill-defined and being set to 0.0 in labels with no predicted samples. Use `zero_division` parameter to control this behavior.\n",
            "  _warn_prf(average, modifier, f\"{metric.capitalize()} is\", len(result))\n",
            "/usr/local/lib/python3.11/dist-packages/sklearn/metrics/_classification.py:1565: UndefinedMetricWarning: Precision is ill-defined and being set to 0.0 in labels with no predicted samples. Use `zero_division` parameter to control this behavior.\n",
            "  _warn_prf(average, modifier, f\"{metric.capitalize()} is\", len(result))\n",
            "/usr/local/lib/python3.11/dist-packages/sklearn/metrics/_classification.py:1565: UndefinedMetricWarning: Precision is ill-defined and being set to 0.0 in labels with no predicted samples. Use `zero_division` parameter to control this behavior.\n",
            "  _warn_prf(average, modifier, f\"{metric.capitalize()} is\", len(result))\n",
            "/usr/local/lib/python3.11/dist-packages/sklearn/metrics/_classification.py:1565: UndefinedMetricWarning: Precision is ill-defined and being set to 0.0 in labels with no predicted samples. Use `zero_division` parameter to control this behavior.\n",
            "  _warn_prf(average, modifier, f\"{metric.capitalize()} is\", len(result))\n",
            "/usr/local/lib/python3.11/dist-packages/keras/src/trainers/data_adapters/py_dataset_adapter.py:121: UserWarning: Your `PyDataset` class should call `super().__init__(**kwargs)` in its constructor. `**kwargs` can include `workers`, `use_multiprocessing`, `max_queue_size`. Do not pass these arguments to `fit()`, as they will be ignored.\n",
            "  self._warn_if_super_not_called()\n"
          ]
        },
        {
          "output_type": "stream",
          "name": "stdout",
          "text": [
            "Epoch 1/30\n",
            "\u001b[1m1/1\u001b[0m \u001b[32m━━━━━━━━━━━━━━━━━━━━\u001b[0m\u001b[37m\u001b[0m \u001b[1m12s\u001b[0m 12s/step - accuracy: 0.4062 - loss: 3.6026 - val_accuracy: 0.2727 - val_loss: 3.6054 - learning_rate: 5.0000e-05\n",
            "Epoch 2/30\n",
            "\u001b[1m1/1\u001b[0m \u001b[32m━━━━━━━━━━━━━━━━━━━━\u001b[0m\u001b[37m\u001b[0m \u001b[1m1s\u001b[0m 1s/step - accuracy: 0.1667 - loss: 6.3159 - val_accuracy: 0.7273 - val_loss: 3.0748 - learning_rate: 5.0000e-05\n",
            "Epoch 3/30\n",
            "\u001b[1m1/1\u001b[0m \u001b[32m━━━━━━━━━━━━━━━━━━━━\u001b[0m\u001b[37m\u001b[0m \u001b[1m6s\u001b[0m 6s/step - accuracy: 0.2500 - loss: 3.3789 - val_accuracy: 0.7273 - val_loss: 3.1199 - learning_rate: 5.0000e-05\n",
            "Epoch 4/30\n",
            "\u001b[1m1/1\u001b[0m \u001b[32m━━━━━━━━━━━━━━━━━━━━\u001b[0m\u001b[37m\u001b[0m \u001b[1m2s\u001b[0m 2s/step - accuracy: 0.6875 - loss: 3.9747 - val_accuracy: 0.7273 - val_loss: 3.1124 - learning_rate: 5.0000e-05\n",
            "Epoch 5/30\n",
            "\u001b[1m1/1\u001b[0m \u001b[32m━━━━━━━━━━━━━━━━━━━━\u001b[0m\u001b[37m\u001b[0m \u001b[1m2s\u001b[0m 2s/step - accuracy: 0.5833 - loss: 3.4622 - val_accuracy: 0.7273 - val_loss: 3.0177 - learning_rate: 5.0000e-05\n",
            "Epoch 6/30\n",
            "\u001b[1m1/1\u001b[0m \u001b[32m━━━━━━━━━━━━━━━━━━━━\u001b[0m\u001b[37m\u001b[0m \u001b[1m2s\u001b[0m 2s/step - accuracy: 0.4375 - loss: 3.0957 - val_accuracy: 0.7273 - val_loss: 2.9696 - learning_rate: 5.0000e-05\n",
            "Epoch 7/30\n",
            "\u001b[1m1/1\u001b[0m \u001b[32m━━━━━━━━━━━━━━━━━━━━\u001b[0m\u001b[37m\u001b[0m \u001b[1m6s\u001b[0m 6s/step - accuracy: 0.5000 - loss: 3.0765 - val_accuracy: 0.7273 - val_loss: 2.9460 - learning_rate: 5.0000e-05\n",
            "Epoch 8/30\n",
            "\u001b[1m1/1\u001b[0m \u001b[32m━━━━━━━━━━━━━━━━━━━━\u001b[0m\u001b[37m\u001b[0m \u001b[1m2s\u001b[0m 2s/step - accuracy: 0.3333 - loss: 3.2422 - val_accuracy: 0.7273 - val_loss: 2.9453 - learning_rate: 5.0000e-05\n",
            "Epoch 9/30\n",
            "\u001b[1m1/1\u001b[0m \u001b[32m━━━━━━━━━━━━━━━━━━━━\u001b[0m\u001b[37m\u001b[0m \u001b[1m2s\u001b[0m 2s/step - accuracy: 0.4167 - loss: 3.7716 - val_accuracy: 0.7273 - val_loss: 2.8913 - learning_rate: 5.0000e-05\n",
            "Epoch 10/30\n",
            "\u001b[1m1/1\u001b[0m \u001b[32m━━━━━━━━━━━━━━━━━━━━\u001b[0m\u001b[37m\u001b[0m \u001b[1m2s\u001b[0m 2s/step - accuracy: 0.6562 - loss: 2.9158 - val_accuracy: 0.7273 - val_loss: 2.8515 - learning_rate: 5.0000e-05\n",
            "Epoch 11/30\n",
            "\u001b[1m1/1\u001b[0m \u001b[32m━━━━━━━━━━━━━━━━━━━━\u001b[0m\u001b[37m\u001b[0m \u001b[1m2s\u001b[0m 2s/step - accuracy: 0.2500 - loss: 3.0227 - val_accuracy: 0.7273 - val_loss: 2.8449 - learning_rate: 5.0000e-05\n",
            "Epoch 12/30\n",
            "\u001b[1m1/1\u001b[0m \u001b[32m━━━━━━━━━━━━━━━━━━━━\u001b[0m\u001b[37m\u001b[0m \u001b[1m2s\u001b[0m 2s/step - accuracy: 0.6250 - loss: 2.9877 - val_accuracy: 0.7273 - val_loss: 2.8159 - learning_rate: 5.0000e-05\n",
            "Epoch 13/30\n",
            "\u001b[1m1/1\u001b[0m \u001b[32m━━━━━━━━━━━━━━━━━━━━\u001b[0m\u001b[37m\u001b[0m \u001b[1m3s\u001b[0m 3s/step - accuracy: 0.6562 - loss: 2.9886 - val_accuracy: 0.7273 - val_loss: 2.7690 - learning_rate: 5.0000e-05\n",
            "Epoch 14/30\n",
            "\u001b[1m1/1\u001b[0m \u001b[32m━━━━━━━━━━━━━━━━━━━━\u001b[0m\u001b[37m\u001b[0m \u001b[1m2s\u001b[0m 2s/step - accuracy: 0.7500 - loss: 2.6908 - val_accuracy: 0.7273 - val_loss: 2.7453 - learning_rate: 5.0000e-05\n",
            "Epoch 15/30\n",
            "\u001b[1m1/1\u001b[0m \u001b[32m━━━━━━━━━━━━━━━━━━━━\u001b[0m\u001b[37m\u001b[0m \u001b[1m2s\u001b[0m 2s/step - accuracy: 0.5000 - loss: 2.8384 - val_accuracy: 0.7273 - val_loss: 2.7154 - learning_rate: 5.0000e-05\n",
            "Epoch 16/30\n",
            "\u001b[1m1/1\u001b[0m \u001b[32m━━━━━━━━━━━━━━━━━━━━\u001b[0m\u001b[37m\u001b[0m \u001b[1m2s\u001b[0m 2s/step - accuracy: 0.4062 - loss: 2.9416 - val_accuracy: 0.7273 - val_loss: 2.6712 - learning_rate: 5.0000e-05\n",
            "Epoch 17/30\n",
            "\u001b[1m1/1\u001b[0m \u001b[32m━━━━━━━━━━━━━━━━━━━━\u001b[0m\u001b[37m\u001b[0m \u001b[1m1s\u001b[0m 1s/step - accuracy: 0.5833 - loss: 2.6702 - val_accuracy: 0.7273 - val_loss: 2.6291 - learning_rate: 5.0000e-05\n",
            "Epoch 18/30\n",
            "\u001b[1m1/1\u001b[0m \u001b[32m━━━━━━━━━━━━━━━━━━━━\u001b[0m\u001b[37m\u001b[0m \u001b[1m2s\u001b[0m 2s/step - accuracy: 0.3125 - loss: 2.7788 - val_accuracy: 0.7273 - val_loss: 2.5974 - learning_rate: 5.0000e-05\n",
            "Epoch 19/30\n",
            "\u001b[1m1/1\u001b[0m \u001b[32m━━━━━━━━━━━━━━━━━━━━\u001b[0m\u001b[37m\u001b[0m \u001b[1m3s\u001b[0m 3s/step - accuracy: 0.2500 - loss: 2.7412 - val_accuracy: 0.7273 - val_loss: 2.5996 - learning_rate: 5.0000e-05\n",
            "Epoch 20/30\n",
            "\u001b[1m1/1\u001b[0m \u001b[32m━━━━━━━━━━━━━━━━━━━━\u001b[0m\u001b[37m\u001b[0m \u001b[1m3s\u001b[0m 3s/step - accuracy: 0.5312 - loss: 2.8271 - val_accuracy: 0.7273 - val_loss: 2.5927 - learning_rate: 5.0000e-05\n",
            "Epoch 21/30\n",
            "\u001b[1m1/1\u001b[0m \u001b[32m━━━━━━━━━━━━━━━━━━━━\u001b[0m\u001b[37m\u001b[0m \u001b[1m3s\u001b[0m 3s/step - accuracy: 0.6667 - loss: 2.7486 - val_accuracy: 0.7273 - val_loss: 2.5636 - learning_rate: 5.0000e-05\n",
            "Epoch 22/30\n",
            "\u001b[1m1/1\u001b[0m \u001b[32m━━━━━━━━━━━━━━━━━━━━\u001b[0m\u001b[37m\u001b[0m \u001b[1m2s\u001b[0m 2s/step - accuracy: 0.5938 - loss: 2.7757 - val_accuracy: 0.7273 - val_loss: 2.5248 - learning_rate: 5.0000e-05\n",
            "Epoch 23/30\n",
            "\u001b[1m1/1\u001b[0m \u001b[32m━━━━━━━━━━━━━━━━━━━━\u001b[0m\u001b[37m\u001b[0m \u001b[1m2s\u001b[0m 2s/step - accuracy: 0.8333 - loss: 2.4545 - val_accuracy: 0.7273 - val_loss: 2.4919 - learning_rate: 5.0000e-05\n",
            "Epoch 24/30\n",
            "\u001b[1m1/1\u001b[0m \u001b[32m━━━━━━━━━━━━━━━━━━━━\u001b[0m\u001b[37m\u001b[0m \u001b[1m2s\u001b[0m 2s/step - accuracy: 0.5938 - loss: 2.5814 - val_accuracy: 0.7273 - val_loss: 2.4507 - learning_rate: 5.0000e-05\n",
            "Epoch 25/30\n",
            "\u001b[1m1/1\u001b[0m \u001b[32m━━━━━━━━━━━━━━━━━━━━\u001b[0m\u001b[37m\u001b[0m \u001b[1m3s\u001b[0m 3s/step - accuracy: 0.4167 - loss: 2.7305 - val_accuracy: 0.7273 - val_loss: 2.4033 - learning_rate: 5.0000e-05\n",
            "Epoch 26/30\n",
            "\u001b[1m1/1\u001b[0m \u001b[32m━━━━━━━━━━━━━━━━━━━━\u001b[0m\u001b[37m\u001b[0m \u001b[1m2s\u001b[0m 2s/step - accuracy: 0.3750 - loss: 2.5457 - val_accuracy: 0.7273 - val_loss: 2.3681 - learning_rate: 5.0000e-05\n",
            "Epoch 27/30\n",
            "\u001b[1m1/1\u001b[0m \u001b[32m━━━━━━━━━━━━━━━━━━━━\u001b[0m\u001b[37m\u001b[0m \u001b[1m5s\u001b[0m 5s/step - accuracy: 0.2188 - loss: 2.5615 - val_accuracy: 0.7273 - val_loss: 2.3437 - learning_rate: 5.0000e-05\n",
            "Epoch 28/30\n",
            "\u001b[1m1/1\u001b[0m \u001b[32m━━━━━━━━━━━━━━━━━━━━\u001b[0m\u001b[37m\u001b[0m \u001b[1m1s\u001b[0m 1s/step - accuracy: 0.5833 - loss: 2.3933 - val_accuracy: 0.7273 - val_loss: 2.3288 - learning_rate: 5.0000e-05\n",
            "Epoch 29/30\n",
            "\u001b[1m1/1\u001b[0m \u001b[32m━━━━━━━━━━━━━━━━━━━━\u001b[0m\u001b[37m\u001b[0m \u001b[1m6s\u001b[0m 6s/step - accuracy: 0.2500 - loss: 2.5949 - val_accuracy: 0.7273 - val_loss: 2.3016 - learning_rate: 5.0000e-05\n",
            "Epoch 30/30\n",
            "\u001b[1m1/1\u001b[0m \u001b[32m━━━━━━━━━━━━━━━━━━━━\u001b[0m\u001b[37m\u001b[0m \u001b[1m2s\u001b[0m 2s/step - accuracy: 0.4688 - loss: 2.3773 - val_accuracy: 0.7273 - val_loss: 2.2786 - learning_rate: 5.0000e-05\n",
            "Restoring model weights from the end of the best epoch: 30.\n",
            "\u001b[1m1/1\u001b[0m \u001b[32m━━━━━━━━━━━━━━━━━━━━\u001b[0m\u001b[37m\u001b[0m \u001b[1m3s\u001b[0m 3s/step\n",
            "\n",
            "Classification Report for Fold 3:\n",
            "              precision    recall  f1-score   support\n",
            "\n",
            "           0       0.00      0.00      0.00         3\n",
            "           1       0.73      1.00      0.84         8\n",
            "\n",
            "    accuracy                           0.73        11\n",
            "   macro avg       0.36      0.50      0.42        11\n",
            "weighted avg       0.53      0.73      0.61        11\n",
            "\n"
          ]
        },
        {
          "output_type": "stream",
          "name": "stderr",
          "text": [
            "/usr/local/lib/python3.11/dist-packages/sklearn/metrics/_classification.py:1565: UndefinedMetricWarning: Precision is ill-defined and being set to 0.0 in labels with no predicted samples. Use `zero_division` parameter to control this behavior.\n",
            "  _warn_prf(average, modifier, f\"{metric.capitalize()} is\", len(result))\n",
            "/usr/local/lib/python3.11/dist-packages/sklearn/metrics/_classification.py:1565: UndefinedMetricWarning: Precision is ill-defined and being set to 0.0 in labels with no predicted samples. Use `zero_division` parameter to control this behavior.\n",
            "  _warn_prf(average, modifier, f\"{metric.capitalize()} is\", len(result))\n",
            "/usr/local/lib/python3.11/dist-packages/sklearn/metrics/_classification.py:1565: UndefinedMetricWarning: Precision is ill-defined and being set to 0.0 in labels with no predicted samples. Use `zero_division` parameter to control this behavior.\n",
            "  _warn_prf(average, modifier, f\"{metric.capitalize()} is\", len(result))\n",
            "/usr/local/lib/python3.11/dist-packages/sklearn/metrics/_classification.py:1565: UndefinedMetricWarning: Precision is ill-defined and being set to 0.0 in labels with no predicted samples. Use `zero_division` parameter to control this behavior.\n",
            "  _warn_prf(average, modifier, f\"{metric.capitalize()} is\", len(result))\n",
            "/usr/local/lib/python3.11/dist-packages/sklearn/metrics/_classification.py:1565: UndefinedMetricWarning: Precision is ill-defined and being set to 0.0 in labels with no predicted samples. Use `zero_division` parameter to control this behavior.\n",
            "  _warn_prf(average, modifier, f\"{metric.capitalize()} is\", len(result))\n",
            "/usr/local/lib/python3.11/dist-packages/sklearn/metrics/_classification.py:1565: UndefinedMetricWarning: Precision is ill-defined and being set to 0.0 in labels with no predicted samples. Use `zero_division` parameter to control this behavior.\n",
            "  _warn_prf(average, modifier, f\"{metric.capitalize()} is\", len(result))\n",
            "/usr/local/lib/python3.11/dist-packages/keras/src/trainers/data_adapters/py_dataset_adapter.py:121: UserWarning: Your `PyDataset` class should call `super().__init__(**kwargs)` in its constructor. `**kwargs` can include `workers`, `use_multiprocessing`, `max_queue_size`. Do not pass these arguments to `fit()`, as they will be ignored.\n",
            "  self._warn_if_super_not_called()\n"
          ]
        },
        {
          "output_type": "stream",
          "name": "stdout",
          "text": [
            "Epoch 1/30\n",
            "\u001b[1m1/1\u001b[0m \u001b[32m━━━━━━━━━━━━━━━━━━━━\u001b[0m\u001b[37m\u001b[0m \u001b[1m16s\u001b[0m 16s/step - accuracy: 0.2500 - loss: 3.5111 - val_accuracy: 0.7273 - val_loss: 3.1581 - learning_rate: 5.0000e-05\n",
            "Epoch 2/30\n",
            "\u001b[1m1/1\u001b[0m \u001b[32m━━━━━━━━━━━━━━━━━━━━\u001b[0m\u001b[37m\u001b[0m \u001b[1m2s\u001b[0m 2s/step - accuracy: 0.6562 - loss: 6.7136 - val_accuracy: 0.7273 - val_loss: 3.0985 - learning_rate: 5.0000e-05\n",
            "Epoch 3/30\n",
            "\u001b[1m1/1\u001b[0m \u001b[32m━━━━━━━━━━━━━━━━━━━━\u001b[0m\u001b[37m\u001b[0m \u001b[1m7s\u001b[0m 7s/step - accuracy: 0.6562 - loss: 5.1849 - val_accuracy: 0.7273 - val_loss: 3.0509 - learning_rate: 5.0000e-05\n",
            "Epoch 4/30\n",
            "\u001b[1m1/1\u001b[0m \u001b[32m━━━━━━━━━━━━━━━━━━━━\u001b[0m\u001b[37m\u001b[0m \u001b[1m2s\u001b[0m 2s/step - accuracy: 0.5000 - loss: 3.3374 - val_accuracy: 0.2727 - val_loss: 3.1613 - learning_rate: 5.0000e-05\n",
            "Epoch 5/30\n",
            "\u001b[1m1/1\u001b[0m \u001b[32m━━━━━━━━━━━━━━━━━━━━\u001b[0m\u001b[37m\u001b[0m \u001b[1m7s\u001b[0m 7s/step - accuracy: 0.2812 - loss: 4.1032 - val_accuracy: 0.2727 - val_loss: 3.1516 - learning_rate: 5.0000e-05\n",
            "Epoch 6/30\n",
            "\u001b[1m1/1\u001b[0m \u001b[32m━━━━━━━━━━━━━━━━━━━━\u001b[0m\u001b[37m\u001b[0m \u001b[1m0s\u001b[0m 527ms/step - accuracy: 0.4167 - loss: 3.6340\n",
            "Epoch 6: ReduceLROnPlateau reducing learning rate to 2.499999936844688e-05.\n",
            "\u001b[1m1/1\u001b[0m \u001b[32m━━━━━━━━━━━━━━━━━━━━\u001b[0m\u001b[37m\u001b[0m \u001b[1m1s\u001b[0m 976ms/step - accuracy: 0.4167 - loss: 3.6340 - val_accuracy: 0.2727 - val_loss: 3.0593 - learning_rate: 5.0000e-05\n",
            "Epoch 7/30\n",
            "\u001b[1m1/1\u001b[0m \u001b[32m━━━━━━━━━━━━━━━━━━━━\u001b[0m\u001b[37m\u001b[0m \u001b[1m5s\u001b[0m 5s/step - accuracy: 0.3125 - loss: 3.5107 - val_accuracy: 0.7273 - val_loss: 3.0006 - learning_rate: 2.5000e-05\n",
            "Epoch 8/30\n",
            "\u001b[1m1/1\u001b[0m \u001b[32m━━━━━━━━━━━━━━━━━━━━\u001b[0m\u001b[37m\u001b[0m \u001b[1m2s\u001b[0m 2s/step - accuracy: 0.4167 - loss: 3.1554 - val_accuracy: 0.7273 - val_loss: 2.9433 - learning_rate: 2.5000e-05\n",
            "Epoch 9/30\n",
            "\u001b[1m1/1\u001b[0m \u001b[32m━━━━━━━━━━━━━━━━━━━━\u001b[0m\u001b[37m\u001b[0m \u001b[1m2s\u001b[0m 2s/step - accuracy: 0.5312 - loss: 3.1495 - val_accuracy: 0.7273 - val_loss: 2.9089 - learning_rate: 2.5000e-05\n",
            "Epoch 10/30\n",
            "\u001b[1m1/1\u001b[0m \u001b[32m━━━━━━━━━━━━━━━━━━━━\u001b[0m\u001b[37m\u001b[0m \u001b[1m1s\u001b[0m 1s/step - accuracy: 0.7500 - loss: 2.6941 - val_accuracy: 0.7273 - val_loss: 2.8775 - learning_rate: 2.5000e-05\n",
            "Epoch 11/30\n",
            "\u001b[1m1/1\u001b[0m \u001b[32m━━━━━━━━━━━━━━━━━━━━\u001b[0m\u001b[37m\u001b[0m \u001b[1m1s\u001b[0m 1s/step - accuracy: 0.7500 - loss: 3.1968 - val_accuracy: 0.7273 - val_loss: 2.8568 - learning_rate: 2.5000e-05\n",
            "Epoch 12/30\n",
            "\u001b[1m1/1\u001b[0m \u001b[32m━━━━━━━━━━━━━━━━━━━━\u001b[0m\u001b[37m\u001b[0m \u001b[1m2s\u001b[0m 2s/step - accuracy: 0.6250 - loss: 3.4326 - val_accuracy: 0.7273 - val_loss: 2.8411 - learning_rate: 2.5000e-05\n",
            "Epoch 13/30\n",
            "\u001b[1m1/1\u001b[0m \u001b[32m━━━━━━━━━━━━━━━━━━━━\u001b[0m\u001b[37m\u001b[0m \u001b[1m5s\u001b[0m 5s/step - accuracy: 0.7188 - loss: 3.3190 - val_accuracy: 0.7273 - val_loss: 2.8277 - learning_rate: 2.5000e-05\n",
            "Epoch 14/30\n",
            "\u001b[1m1/1\u001b[0m \u001b[32m━━━━━━━━━━━━━━━━━━━━\u001b[0m\u001b[37m\u001b[0m \u001b[1m2s\u001b[0m 2s/step - accuracy: 0.6667 - loss: 3.3444 - val_accuracy: 0.7273 - val_loss: 2.8196 - learning_rate: 2.5000e-05\n",
            "Epoch 15/30\n",
            "\u001b[1m1/1\u001b[0m \u001b[32m━━━━━━━━━━━━━━━━━━━━\u001b[0m\u001b[37m\u001b[0m \u001b[1m2s\u001b[0m 2s/step - accuracy: 0.6875 - loss: 3.0625 - val_accuracy: 0.7273 - val_loss: 2.8206 - learning_rate: 2.5000e-05\n",
            "Epoch 16/30\n",
            "\u001b[1m1/1\u001b[0m \u001b[32m━━━━━━━━━━━━━━━━━━━━\u001b[0m\u001b[37m\u001b[0m \u001b[1m1s\u001b[0m 1s/step - accuracy: 0.5000 - loss: 3.2065 - val_accuracy: 0.7273 - val_loss: 2.8332 - learning_rate: 2.5000e-05\n",
            "Epoch 17/30\n",
            "\u001b[1m1/1\u001b[0m \u001b[32m━━━━━━━━━━━━━━━━━━━━\u001b[0m\u001b[37m\u001b[0m \u001b[1m0s\u001b[0m 2s/step - accuracy: 0.4688 - loss: 2.9708\n",
            "Epoch 17: ReduceLROnPlateau reducing learning rate to 1.249999968422344e-05.\n",
            "\u001b[1m1/1\u001b[0m \u001b[32m━━━━━━━━━━━━━━━━━━━━\u001b[0m\u001b[37m\u001b[0m \u001b[1m2s\u001b[0m 2s/step - accuracy: 0.4688 - loss: 2.9708 - val_accuracy: 0.7273 - val_loss: 2.8488 - learning_rate: 2.5000e-05\n",
            "Epoch 18/30\n",
            "\u001b[1m1/1\u001b[0m \u001b[32m━━━━━━━━━━━━━━━━━━━━\u001b[0m\u001b[37m\u001b[0m \u001b[1m1s\u001b[0m 967ms/step - accuracy: 0.5000 - loss: 2.9503 - val_accuracy: 0.7273 - val_loss: 2.8548 - learning_rate: 1.2500e-05\n",
            "Epoch 19/30\n",
            "\u001b[1m1/1\u001b[0m \u001b[32m━━━━━━━━━━━━━━━━━━━━\u001b[0m\u001b[37m\u001b[0m \u001b[1m3s\u001b[0m 3s/step - accuracy: 0.4167 - loss: 2.9280 - val_accuracy: 0.7273 - val_loss: 2.8526 - learning_rate: 1.2500e-05\n",
            "Epoch 19: early stopping\n",
            "Restoring model weights from the end of the best epoch: 14.\n",
            "\u001b[1m1/1\u001b[0m \u001b[32m━━━━━━━━━━━━━━━━━━━━\u001b[0m\u001b[37m\u001b[0m \u001b[1m3s\u001b[0m 3s/step\n",
            "\n",
            "Classification Report for Fold 4:\n",
            "              precision    recall  f1-score   support\n",
            "\n",
            "           0       0.00      0.00      0.00         3\n",
            "           1       0.73      1.00      0.84         8\n",
            "\n",
            "    accuracy                           0.73        11\n",
            "   macro avg       0.36      0.50      0.42        11\n",
            "weighted avg       0.53      0.73      0.61        11\n",
            "\n"
          ]
        },
        {
          "output_type": "stream",
          "name": "stderr",
          "text": [
            "/usr/local/lib/python3.11/dist-packages/sklearn/metrics/_classification.py:1565: UndefinedMetricWarning: Precision is ill-defined and being set to 0.0 in labels with no predicted samples. Use `zero_division` parameter to control this behavior.\n",
            "  _warn_prf(average, modifier, f\"{metric.capitalize()} is\", len(result))\n",
            "/usr/local/lib/python3.11/dist-packages/sklearn/metrics/_classification.py:1565: UndefinedMetricWarning: Precision is ill-defined and being set to 0.0 in labels with no predicted samples. Use `zero_division` parameter to control this behavior.\n",
            "  _warn_prf(average, modifier, f\"{metric.capitalize()} is\", len(result))\n",
            "/usr/local/lib/python3.11/dist-packages/sklearn/metrics/_classification.py:1565: UndefinedMetricWarning: Precision is ill-defined and being set to 0.0 in labels with no predicted samples. Use `zero_division` parameter to control this behavior.\n",
            "  _warn_prf(average, modifier, f\"{metric.capitalize()} is\", len(result))\n",
            "/usr/local/lib/python3.11/dist-packages/sklearn/metrics/_classification.py:1565: UndefinedMetricWarning: Precision is ill-defined and being set to 0.0 in labels with no predicted samples. Use `zero_division` parameter to control this behavior.\n",
            "  _warn_prf(average, modifier, f\"{metric.capitalize()} is\", len(result))\n",
            "/usr/local/lib/python3.11/dist-packages/sklearn/metrics/_classification.py:1565: UndefinedMetricWarning: Precision is ill-defined and being set to 0.0 in labels with no predicted samples. Use `zero_division` parameter to control this behavior.\n",
            "  _warn_prf(average, modifier, f\"{metric.capitalize()} is\", len(result))\n",
            "/usr/local/lib/python3.11/dist-packages/sklearn/metrics/_classification.py:1565: UndefinedMetricWarning: Precision is ill-defined and being set to 0.0 in labels with no predicted samples. Use `zero_division` parameter to control this behavior.\n",
            "  _warn_prf(average, modifier, f\"{metric.capitalize()} is\", len(result))\n",
            "/usr/local/lib/python3.11/dist-packages/keras/src/trainers/data_adapters/py_dataset_adapter.py:121: UserWarning: Your `PyDataset` class should call `super().__init__(**kwargs)` in its constructor. `**kwargs` can include `workers`, `use_multiprocessing`, `max_queue_size`. Do not pass these arguments to `fit()`, as they will be ignored.\n",
            "  self._warn_if_super_not_called()\n"
          ]
        },
        {
          "output_type": "stream",
          "name": "stdout",
          "text": [
            "Epoch 1/30\n",
            "\u001b[1m1/1\u001b[0m \u001b[32m━━━━━━━━━━━━━━━━━━━━\u001b[0m\u001b[37m\u001b[0m \u001b[1m13s\u001b[0m 13s/step - accuracy: 0.7500 - loss: 3.2096 - val_accuracy: 0.2727 - val_loss: 3.6505 - learning_rate: 5.0000e-05\n",
            "Epoch 2/30\n",
            "\u001b[1m1/1\u001b[0m \u001b[32m━━━━━━━━━━━━━━━━━━━━\u001b[0m\u001b[37m\u001b[0m \u001b[1m2s\u001b[0m 2s/step - accuracy: 0.2812 - loss: 6.2731 - val_accuracy: 0.2727 - val_loss: 3.2847 - learning_rate: 5.0000e-05\n",
            "Epoch 3/30\n",
            "\u001b[1m1/1\u001b[0m \u001b[32m━━━━━━━━━━━━━━━━━━━━\u001b[0m\u001b[37m\u001b[0m \u001b[1m6s\u001b[0m 6s/step - accuracy: 0.2812 - loss: 4.4621 - val_accuracy: 0.7273 - val_loss: 3.0428 - learning_rate: 5.0000e-05\n",
            "Epoch 4/30\n",
            "\u001b[1m1/1\u001b[0m \u001b[32m━━━━━━━━━━━━━━━━━━━━\u001b[0m\u001b[37m\u001b[0m \u001b[1m1s\u001b[0m 995ms/step - accuracy: 0.5000 - loss: 3.7191 - val_accuracy: 0.7273 - val_loss: 3.0062 - learning_rate: 5.0000e-05\n",
            "Epoch 5/30\n",
            "\u001b[1m1/1\u001b[0m \u001b[32m━━━━━━━━━━━━━━━━━━━━\u001b[0m\u001b[37m\u001b[0m \u001b[1m4s\u001b[0m 4s/step - accuracy: 0.6667 - loss: 3.2150 - val_accuracy: 0.7273 - val_loss: 2.9709 - learning_rate: 5.0000e-05\n",
            "Epoch 6/30\n",
            "\u001b[1m1/1\u001b[0m \u001b[32m━━━━━━━━━━━━━━━━━━━━\u001b[0m\u001b[37m\u001b[0m \u001b[1m3s\u001b[0m 3s/step - accuracy: 0.7188 - loss: 3.1457 - val_accuracy: 0.7273 - val_loss: 2.9428 - learning_rate: 5.0000e-05\n",
            "Epoch 7/30\n",
            "\u001b[1m1/1\u001b[0m \u001b[32m━━━━━━━━━━━━━━━━━━━━\u001b[0m\u001b[37m\u001b[0m \u001b[1m1s\u001b[0m 1s/step - accuracy: 0.4167 - loss: 3.0770 - val_accuracy: 0.7273 - val_loss: 2.9213 - learning_rate: 5.0000e-05\n",
            "Epoch 8/30\n",
            "\u001b[1m1/1\u001b[0m \u001b[32m━━━━━━━━━━━━━━━━━━━━\u001b[0m\u001b[37m\u001b[0m \u001b[1m2s\u001b[0m 2s/step - accuracy: 0.4688 - loss: 3.0441 - val_accuracy: 0.7273 - val_loss: 2.8818 - learning_rate: 5.0000e-05\n",
            "Epoch 9/30\n",
            "\u001b[1m1/1\u001b[0m \u001b[32m━━━━━━━━━━━━━━━━━━━━\u001b[0m\u001b[37m\u001b[0m \u001b[1m2s\u001b[0m 2s/step - accuracy: 0.3750 - loss: 3.2505 - val_accuracy: 0.7273 - val_loss: 2.8400 - learning_rate: 5.0000e-05\n",
            "Epoch 10/30\n",
            "\u001b[1m1/1\u001b[0m \u001b[32m━━━━━━━━━━━━━━━━━━━━\u001b[0m\u001b[37m\u001b[0m \u001b[1m1s\u001b[0m 971ms/step - accuracy: 0.3333 - loss: 3.1369 - val_accuracy: 0.7273 - val_loss: 2.8117 - learning_rate: 5.0000e-05\n",
            "Epoch 11/30\n",
            "\u001b[1m1/1\u001b[0m \u001b[32m━━━━━━━━━━━━━━━━━━━━\u001b[0m\u001b[37m\u001b[0m \u001b[1m1s\u001b[0m 1s/step - accuracy: 0.6667 - loss: 2.8363 - val_accuracy: 0.7273 - val_loss: 2.7886 - learning_rate: 5.0000e-05\n",
            "Epoch 12/30\n",
            "\u001b[1m1/1\u001b[0m \u001b[32m━━━━━━━━━━━━━━━━━━━━\u001b[0m\u001b[37m\u001b[0m \u001b[1m2s\u001b[0m 2s/step - accuracy: 0.4688 - loss: 3.1636 - val_accuracy: 0.7273 - val_loss: 2.7649 - learning_rate: 5.0000e-05\n",
            "Epoch 13/30\n",
            "\u001b[1m1/1\u001b[0m \u001b[32m━━━━━━━━━━━━━━━━━━━━\u001b[0m\u001b[37m\u001b[0m \u001b[1m5s\u001b[0m 5s/step - accuracy: 0.6250 - loss: 2.9911 - val_accuracy: 0.7273 - val_loss: 2.7314 - learning_rate: 5.0000e-05\n",
            "Epoch 14/30\n",
            "\u001b[1m1/1\u001b[0m \u001b[32m━━━━━━━━━━━━━━━━━━━━\u001b[0m\u001b[37m\u001b[0m \u001b[1m1s\u001b[0m 974ms/step - accuracy: 0.1667 - loss: 3.4178 - val_accuracy: 0.7273 - val_loss: 2.6950 - learning_rate: 5.0000e-05\n",
            "Epoch 15/30\n",
            "\u001b[1m1/1\u001b[0m \u001b[32m━━━━━━━━━━━━━━━━━━━━\u001b[0m\u001b[37m\u001b[0m \u001b[1m7s\u001b[0m 7s/step - accuracy: 0.4688 - loss: 2.8811 - val_accuracy: 0.7273 - val_loss: 2.6631 - learning_rate: 5.0000e-05\n",
            "Epoch 16/30\n",
            "\u001b[1m1/1\u001b[0m \u001b[32m━━━━━━━━━━━━━━━━━━━━\u001b[0m\u001b[37m\u001b[0m \u001b[1m1s\u001b[0m 1s/step - accuracy: 0.8333 - loss: 2.5587 - val_accuracy: 0.7273 - val_loss: 2.6316 - learning_rate: 5.0000e-05\n",
            "Epoch 17/30\n",
            "\u001b[1m1/1\u001b[0m \u001b[32m━━━━━━━━━━━━━━━━━━━━\u001b[0m\u001b[37m\u001b[0m \u001b[1m5s\u001b[0m 5s/step - accuracy: 0.4375 - loss: 2.8261 - val_accuracy: 0.7273 - val_loss: 2.6054 - learning_rate: 5.0000e-05\n",
            "Epoch 18/30\n",
            "\u001b[1m1/1\u001b[0m \u001b[32m━━━━━━━━━━━━━━━━━━━━\u001b[0m\u001b[37m\u001b[0m \u001b[1m1s\u001b[0m 1s/step - accuracy: 0.4167 - loss: 2.8703 - val_accuracy: 0.7273 - val_loss: 2.5963 - learning_rate: 5.0000e-05\n",
            "Epoch 19/30\n",
            "\u001b[1m1/1\u001b[0m \u001b[32m━━━━━━━━━━━━━━━━━━━━\u001b[0m\u001b[37m\u001b[0m \u001b[1m3s\u001b[0m 3s/step - accuracy: 0.5625 - loss: 2.7403 - val_accuracy: 0.7273 - val_loss: 2.5943 - learning_rate: 5.0000e-05\n",
            "Epoch 20/30\n",
            "\u001b[1m1/1\u001b[0m \u001b[32m━━━━━━━━━━━━━━━━━━━━\u001b[0m\u001b[37m\u001b[0m \u001b[1m1s\u001b[0m 1s/step - accuracy: 0.7500 - loss: 2.8104 - val_accuracy: 0.7273 - val_loss: 2.5720 - learning_rate: 5.0000e-05\n",
            "Epoch 21/30\n",
            "\u001b[1m1/1\u001b[0m \u001b[32m━━━━━━━━━━━━━━━━━━━━\u001b[0m\u001b[37m\u001b[0m \u001b[1m2s\u001b[0m 2s/step - accuracy: 0.6875 - loss: 2.7715 - val_accuracy: 0.7273 - val_loss: 2.5243 - learning_rate: 5.0000e-05\n",
            "Epoch 22/30\n",
            "\u001b[1m1/1\u001b[0m \u001b[32m━━━━━━━━━━━━━━━━━━━━\u001b[0m\u001b[37m\u001b[0m \u001b[1m1s\u001b[0m 1s/step - accuracy: 0.4167 - loss: 2.6358 - val_accuracy: 0.7273 - val_loss: 2.4980 - learning_rate: 5.0000e-05\n",
            "Epoch 23/30\n",
            "\u001b[1m1/1\u001b[0m \u001b[32m━━━━━━━━━━━━━━━━━━━━\u001b[0m\u001b[37m\u001b[0m \u001b[1m6s\u001b[0m 6s/step - accuracy: 0.5625 - loss: 2.6634 - val_accuracy: 0.7273 - val_loss: 2.4665 - learning_rate: 5.0000e-05\n",
            "Epoch 24/30\n",
            "\u001b[1m1/1\u001b[0m \u001b[32m━━━━━━━━━━━━━━━━━━━━\u001b[0m\u001b[37m\u001b[0m \u001b[1m1s\u001b[0m 1s/step - accuracy: 0.4167 - loss: 2.6392 - val_accuracy: 0.7273 - val_loss: 2.4389 - learning_rate: 5.0000e-05\n",
            "Epoch 25/30\n",
            "\u001b[1m1/1\u001b[0m \u001b[32m━━━━━━━━━━━━━━━━━━━━\u001b[0m\u001b[37m\u001b[0m \u001b[1m6s\u001b[0m 6s/step - accuracy: 0.5833 - loss: 2.5606 - val_accuracy: 0.7273 - val_loss: 2.3991 - learning_rate: 5.0000e-05\n",
            "Epoch 26/30\n",
            "\u001b[1m1/1\u001b[0m \u001b[32m━━━━━━━━━━━━━━━━━━━━\u001b[0m\u001b[37m\u001b[0m \u001b[1m2s\u001b[0m 2s/step - accuracy: 0.5000 - loss: 2.5919 - val_accuracy: 0.7273 - val_loss: 2.3691 - learning_rate: 5.0000e-05\n",
            "Epoch 27/30\n",
            "\u001b[1m1/1\u001b[0m \u001b[32m━━━━━━━━━━━━━━━━━━━━\u001b[0m\u001b[37m\u001b[0m \u001b[1m5s\u001b[0m 5s/step - accuracy: 0.1562 - loss: 2.7074 - val_accuracy: 0.7273 - val_loss: 2.3423 - learning_rate: 5.0000e-05\n",
            "Epoch 28/30\n",
            "\u001b[1m1/1\u001b[0m \u001b[32m━━━━━━━━━━━━━━━━━━━━\u001b[0m\u001b[37m\u001b[0m \u001b[1m1s\u001b[0m 1s/step - accuracy: 0.4167 - loss: 2.5503 - val_accuracy: 0.7273 - val_loss: 2.3182 - learning_rate: 5.0000e-05\n",
            "Epoch 29/30\n",
            "\u001b[1m1/1\u001b[0m \u001b[32m━━━━━━━━━━━━━━━━━━━━\u001b[0m\u001b[37m\u001b[0m \u001b[1m7s\u001b[0m 7s/step - accuracy: 0.2188 - loss: 2.5558 - val_accuracy: 0.7273 - val_loss: 2.3002 - learning_rate: 5.0000e-05\n",
            "Epoch 30/30\n",
            "\u001b[1m1/1\u001b[0m \u001b[32m━━━━━━━━━━━━━━━━━━━━\u001b[0m\u001b[37m\u001b[0m \u001b[1m1s\u001b[0m 1s/step - accuracy: 0.2500 - loss: 2.6307 - val_accuracy: 0.7273 - val_loss: 2.2643 - learning_rate: 5.0000e-05\n",
            "Restoring model weights from the end of the best epoch: 30.\n",
            "\u001b[1m1/1\u001b[0m \u001b[32m━━━━━━━━━━━━━━━━━━━━\u001b[0m\u001b[37m\u001b[0m \u001b[1m3s\u001b[0m 3s/step\n",
            "\n",
            "Classification Report for Fold 5:\n",
            "              precision    recall  f1-score   support\n",
            "\n",
            "           0       0.00      0.00      0.00         3\n",
            "           1       0.73      1.00      0.84         8\n",
            "\n",
            "    accuracy                           0.73        11\n",
            "   macro avg       0.36      0.50      0.42        11\n",
            "weighted avg       0.53      0.73      0.61        11\n",
            "\n"
          ]
        },
        {
          "output_type": "stream",
          "name": "stderr",
          "text": [
            "/usr/local/lib/python3.11/dist-packages/sklearn/metrics/_classification.py:1565: UndefinedMetricWarning: Precision is ill-defined and being set to 0.0 in labels with no predicted samples. Use `zero_division` parameter to control this behavior.\n",
            "  _warn_prf(average, modifier, f\"{metric.capitalize()} is\", len(result))\n",
            "/usr/local/lib/python3.11/dist-packages/sklearn/metrics/_classification.py:1565: UndefinedMetricWarning: Precision is ill-defined and being set to 0.0 in labels with no predicted samples. Use `zero_division` parameter to control this behavior.\n",
            "  _warn_prf(average, modifier, f\"{metric.capitalize()} is\", len(result))\n",
            "/usr/local/lib/python3.11/dist-packages/sklearn/metrics/_classification.py:1565: UndefinedMetricWarning: Precision is ill-defined and being set to 0.0 in labels with no predicted samples. Use `zero_division` parameter to control this behavior.\n",
            "  _warn_prf(average, modifier, f\"{metric.capitalize()} is\", len(result))\n",
            "/usr/local/lib/python3.11/dist-packages/sklearn/metrics/_classification.py:1565: UndefinedMetricWarning: Precision is ill-defined and being set to 0.0 in labels with no predicted samples. Use `zero_division` parameter to control this behavior.\n",
            "  _warn_prf(average, modifier, f\"{metric.capitalize()} is\", len(result))\n",
            "/usr/local/lib/python3.11/dist-packages/sklearn/metrics/_classification.py:1565: UndefinedMetricWarning: Precision is ill-defined and being set to 0.0 in labels with no predicted samples. Use `zero_division` parameter to control this behavior.\n",
            "  _warn_prf(average, modifier, f\"{metric.capitalize()} is\", len(result))\n",
            "/usr/local/lib/python3.11/dist-packages/sklearn/metrics/_classification.py:1565: UndefinedMetricWarning: Precision is ill-defined and being set to 0.0 in labels with no predicted samples. Use `zero_division` parameter to control this behavior.\n",
            "  _warn_prf(average, modifier, f\"{metric.capitalize()} is\", len(result))\n"
          ]
        }
      ]
    },
    {
      "cell_type": "code",
      "source": [
        "print(f\"\\nAverage Accuracy Across Folds: {np.mean(fold_accuracies):.4f}\")\n",
        "\n",
        "plt.figure(figsize=(8, 4))\n",
        "plt.plot(range(1, 6), fold_accuracies, marker='o', label=\"Fold Accuracies\")\n",
        "plt.axhline(y=np.mean(fold_accuracies), color='r', linestyle='--', label=\"Average Accuracy\")\n",
        "plt.xlabel(\"Fold Number\")\n",
        "plt.ylabel(\"Accuracy\")\n",
        "plt.title(\"Cross-Validation Accuracy Per Fold\")\n",
        "plt.legend()\n",
        "plt.show()"
      ],
      "metadata": {
        "id": "G4Xk2ZWOMMqQ",
        "outputId": "cc0da93e-db29-4a0e-f895-948b0ed5f5a8",
        "colab": {
          "base_uri": "https://localhost:8080/",
          "height": 446
        }
      },
      "execution_count": 35,
      "outputs": [
        {
          "output_type": "stream",
          "name": "stdout",
          "text": [
            "\n",
            "Average Accuracy Across Folds: 0.6364\n"
          ]
        },
        {
          "output_type": "display_data",
          "data": {
            "text/plain": [
              "<Figure size 800x400 with 1 Axes>"
            ],
            "image/png": "[encoded data removed]"
          },
          "metadata": {}
        }
      ]
    },
    {
      "cell_type": "markdown",
      "source": [
        "**MobileNetV2**  with data augmentation performed inconsistently across folds, with accuracy varying between 36% and 73%. The model struggles with class imbalance and generalization, requiring better data preprocessing, fine-tuning, and architectural adjustments."
      ],
      "metadata": {
        "id": "ZVd0QKFRgd2E"
      }
    },
    {
      "cell_type": "markdown",
      "source": [
        "### Feature Extraction + Random Forest"
      ],
      "metadata": {
        "id": "rlpcN8-BLkLK"
      }
    },
    {
      "cell_type": "code",
      "source": [
        "image_size = (299, 299)\n",
        "X_resized = np.array([smart_resize(img, image_size) for img in images_rgb])\n",
        "labels = classes\n",
        "X_resized = X_resized / 255.0\n",
        "\n",
        "# Pre-trained MobileNetV2 Model (Feature Extractor)\n",
        "base_model = MobileNetV2(weights=\"imagenet\", include_top=False, input_shape=(299, 299, 3))\n",
        "feature_extractor = Model(inputs=base_model.input, outputs=base_model.output)\n",
        "\n",
        "# Extract Features\n",
        "X_features = feature_extractor.predict(X_resized)  # Convert images to feature vectors\n",
        "X_features = X_features.reshape(X_features.shape[0], -1)  # Flatten features"
      ],
      "metadata": {
        "id": "ZGQjQY-ELlaO",
        "colab": {
          "base_uri": "https://localhost:8080/"
        },
        "outputId": "2e1eded9-c749-4930-8f34-712e0fea15cb"
      },
      "execution_count": 36,
      "outputs": [
        {
          "output_type": "stream",
          "name": "stderr",
          "text": [
            "<ipython-input-36-e19812ac1d66>:7: UserWarning: `input_shape` is undefined or non-square, or `rows` is not in [96, 128, 160, 192, 224]. Weights for input shape (224, 224) will be loaded as the default.\n",
            "  base_model = MobileNetV2(weights=\"imagenet\", include_top=False, input_shape=(299, 299, 3))\n"
          ]
        },
        {
          "output_type": "stream",
          "name": "stdout",
          "text": [
            "\u001b[1m2/2\u001b[0m \u001b[32m━━━━━━━━━━━━━━━━━━━━\u001b[0m\u001b[37m\u001b[0m \u001b[1m6s\u001b[0m 3s/step\n"
          ]
        }
      ]
    },
    {
      "cell_type": "code",
      "source": [
        "kf = StratifiedKFold(n_splits=5, shuffle=True, random_state=42)\n",
        "\n",
        "fold_accuracies = []\n",
        "fold_reports = []\n",
        "\n",
        "for fold, (train_idx, test_idx) in enumerate(kf.split(X_features, labels)):\n",
        "    X_train, X_test = X_features[train_idx], X_features[test_idx]\n",
        "    y_train, y_test = labels[train_idx], labels[test_idx]\n",
        "\n",
        "    rf = RandomForestClassifier(n_estimators=100, random_state=42)\n",
        "    rf.fit(X_train, y_train)\n",
        "\n",
        "    y_pred = rf.predict(X_test)\n",
        "    acc = accuracy_score(y_test, y_pred)\n",
        "    fold_accuracies.append(acc)\n",
        "    fold_reports.append(classification_report(y_test, y_pred, output_dict=True))\n",
        "\n",
        "    print(f\"\\nClassification Report for Fold {fold + 1}:\")\n",
        "    print(classification_report(y_test, y_pred))\n",
        "\n",
        "average_accuracy = np.mean(fold_accuracies)\n",
        "print(f\"\\n Average Accuracy Across Folds: {average_accuracy:.4f}\")"
      ],
      "metadata": {
        "id": "1__WMnD3LoIl",
        "colab": {
          "base_uri": "https://localhost:8080/"
        },
        "outputId": "cfdf5a6f-b61d-4089-e1a1-2a87c9aefee0"
      },
      "execution_count": 39,
      "outputs": [
        {
          "output_type": "stream",
          "name": "stdout",
          "text": [
            "\n",
            "Classification Report for Fold 1:\n",
            "              precision    recall  f1-score   support\n",
            "\n",
            "           0       1.00      0.50      0.67         4\n",
            "           1       0.78      1.00      0.88         7\n",
            "\n",
            "    accuracy                           0.82        11\n",
            "   macro avg       0.89      0.75      0.77        11\n",
            "weighted avg       0.86      0.82      0.80        11\n",
            "\n",
            "\n",
            "Classification Report for Fold 2:\n",
            "              precision    recall  f1-score   support\n",
            "\n",
            "           0       1.00      0.25      0.40         4\n",
            "           1       0.70      1.00      0.82         7\n",
            "\n",
            "    accuracy                           0.73        11\n",
            "   macro avg       0.85      0.62      0.61        11\n",
            "weighted avg       0.81      0.73      0.67        11\n",
            "\n"
          ]
        },
        {
          "output_type": "stream",
          "name": "stderr",
          "text": [
            "/usr/local/lib/python3.11/dist-packages/sklearn/metrics/_classification.py:1565: UndefinedMetricWarning: Precision is ill-defined and being set to 0.0 in labels with no predicted samples. Use `zero_division` parameter to control this behavior.\n",
            "  _warn_prf(average, modifier, f\"{metric.capitalize()} is\", len(result))\n",
            "/usr/local/lib/python3.11/dist-packages/sklearn/metrics/_classification.py:1565: UndefinedMetricWarning: Precision is ill-defined and being set to 0.0 in labels with no predicted samples. Use `zero_division` parameter to control this behavior.\n",
            "  _warn_prf(average, modifier, f\"{metric.capitalize()} is\", len(result))\n",
            "/usr/local/lib/python3.11/dist-packages/sklearn/metrics/_classification.py:1565: UndefinedMetricWarning: Precision is ill-defined and being set to 0.0 in labels with no predicted samples. Use `zero_division` parameter to control this behavior.\n",
            "  _warn_prf(average, modifier, f\"{metric.capitalize()} is\", len(result))\n",
            "/usr/local/lib/python3.11/dist-packages/sklearn/metrics/_classification.py:1565: UndefinedMetricWarning: Precision is ill-defined and being set to 0.0 in labels with no predicted samples. Use `zero_division` parameter to control this behavior.\n",
            "  _warn_prf(average, modifier, f\"{metric.capitalize()} is\", len(result))\n",
            "/usr/local/lib/python3.11/dist-packages/sklearn/metrics/_classification.py:1565: UndefinedMetricWarning: Precision is ill-defined and being set to 0.0 in labels with no predicted samples. Use `zero_division` parameter to control this behavior.\n",
            "  _warn_prf(average, modifier, f\"{metric.capitalize()} is\", len(result))\n",
            "/usr/local/lib/python3.11/dist-packages/sklearn/metrics/_classification.py:1565: UndefinedMetricWarning: Precision is ill-defined and being set to 0.0 in labels with no predicted samples. Use `zero_division` parameter to control this behavior.\n",
            "  _warn_prf(average, modifier, f\"{metric.capitalize()} is\", len(result))\n"
          ]
        },
        {
          "output_type": "stream",
          "name": "stdout",
          "text": [
            "\n",
            "Classification Report for Fold 3:\n",
            "              precision    recall  f1-score   support\n",
            "\n",
            "           0       0.00      0.00      0.00         3\n",
            "           1       0.73      1.00      0.84         8\n",
            "\n",
            "    accuracy                           0.73        11\n",
            "   macro avg       0.36      0.50      0.42        11\n",
            "weighted avg       0.53      0.73      0.61        11\n",
            "\n",
            "\n",
            "Classification Report for Fold 4:\n",
            "              precision    recall  f1-score   support\n",
            "\n",
            "           0       1.00      1.00      1.00         3\n",
            "           1       1.00      1.00      1.00         8\n",
            "\n",
            "    accuracy                           1.00        11\n",
            "   macro avg       1.00      1.00      1.00        11\n",
            "weighted avg       1.00      1.00      1.00        11\n",
            "\n",
            "\n",
            "Classification Report for Fold 5:\n",
            "              precision    recall  f1-score   support\n",
            "\n",
            "           0       1.00      0.67      0.80         3\n",
            "           1       0.89      1.00      0.94         8\n",
            "\n",
            "    accuracy                           0.91        11\n",
            "   macro avg       0.94      0.83      0.87        11\n",
            "weighted avg       0.92      0.91      0.90        11\n",
            "\n",
            "\n",
            " Average Accuracy Across Folds: 0.8364\n"
          ]
        }
      ]
    },
    {
      "cell_type": "code",
      "source": [
        "plt.figure(figsize=(8, 4))\n",
        "plt.plot(range(1, 6), fold_accuracies, marker='o', label=\"Fold Accuracies\")\n",
        "plt.axhline(y=average_accuracy, color='r', linestyle='--', label=\"Average Accuracy\")\n",
        "plt.xlabel(\"Fold Number\")\n",
        "plt.ylabel(\"Accuracy\")\n",
        "plt.title(\"Cross-Validation Accuracy Per Fold\")\n",
        "plt.legend()\n",
        "plt.show()"
      ],
      "metadata": {
        "id": "c4zhPyy0NoCg",
        "colab": {
          "base_uri": "https://localhost:8080/",
          "height": 410
        },
        "outputId": "a9dde2e6-35e2-4900-a87c-0896689ca0e8"
      },
      "execution_count": 40,
      "outputs": [
        {
          "output_type": "display_data",
          "data": {
            "text/plain": [
              "<Figure size 800x400 with 1 Axes>"
            ],
            "image/png": "[encoded data removed]"
          },
          "metadata": {}
        }
      ]
    },
    {
      "cell_type": "markdown",
      "source": [
        "**Higher Accuracy (83.64%)** – The Random Forest classifier on MobileNetV2 features performs significantly better than the previous CNN model.\n",
        "\n",
        "But **Class Imbalance Still Present**  as some folds show poor performance on the minority class (e.g., Fold 3 with 0% precision for class 0).\n",
        "--> **Model Stability Varies** – Fold 4 achieves 100% accuracy, while Fold 2 struggles (73%). Performance fluctuates across folds.\n",
        "\n",
        " Pre-trained MobileNetV2 provides meaningful feature embeddings that Random Forest can classify effectively."
      ],
      "metadata": {
        "id": "sdexOLeCgyvg"
      }
    },
    {
      "cell_type": "markdown",
      "source": [
        "### Feature Extraction & XG Boost"
      ],
      "metadata": {
        "id": "aiispzMMVPcj"
      }
    },
    {
      "cell_type": "code",
      "source": [
        "image_size = (299, 299)\n",
        "X_resized = np.array([resize(img, image_size).numpy() for img in images_rgb])\n",
        "X_resized = X_resized / 255.0\n",
        "labels = classes\n",
        "\n",
        "# MobileNetV2 as Feature Extractor\n",
        "base_model = MobileNetV2(weights=\"imagenet\", include_top=False, input_shape=(299, 299, 3))\n",
        "feature_extractor = Model(inputs=base_model.input, outputs=base_model.output)\n",
        "\n",
        "# Extract Features\n",
        "X_features = feature_extractor.predict(X_resized)\n",
        "X_features = X_features.reshape(X_features.shape[0], -1)  # Flatten feature maps\n",
        "\n",
        "# 5-Fold Cross-Validation + XGBoost\n",
        "kf = StratifiedKFold(n_splits=5, shuffle=True, random_state=42)\n",
        "\n",
        "fold_accuracies = []\n",
        "fold_reports = []\n",
        "\n",
        "for fold, (train_idx, test_idx) in enumerate(kf.split(X_features, labels)):\n",
        "    X_train, X_test = X_features[train_idx], X_features[test_idx]\n",
        "    y_train, y_test = labels[train_idx], labels[test_idx]\n",
        "\n",
        "    # XGBoost\n",
        "    xgb = XGBClassifier(\n",
        "        n_estimators=200,\n",
        "        learning_rate=0.05,\n",
        "        max_depth=5,\n",
        "        scale_pos_weight=sum(y_train == 0) / sum(y_train == 1),  # balance minority class\n",
        "        eval_metric=\"logloss\"\n",
        "    )\n",
        "    xgb.fit(X_train, y_train)\n",
        "\n",
        "    y_pred = xgb.predict(X_test)\n",
        "    acc = accuracy_score(y_test, y_pred)\n",
        "    fold_accuracies.append(acc)\n",
        "    fold_reports.append(classification_report(y_test, y_pred))\n",
        "\n",
        "    print(f\"\\nClassification Report for Fold {fold + 1}:\")\n",
        "    print(classification_report(y_test, y_pred))\n",
        "\n",
        "# Average Accuracy Across Folds\n",
        "average_accuracy = np.mean(fold_accuracies)\n",
        "print(f\"\\nAverage Accuracy Across Folds: {average_accuracy:.4f}\")\n"
      ],
      "metadata": {
        "colab": {
          "base_uri": "https://localhost:8080/"
        },
        "id": "dvqTKPWuVOfO",
        "outputId": "7a329ab9-f9ef-4ded-9706-3850c424ab9a"
      },
      "execution_count": 78,
      "outputs": [
        {
          "output_type": "stream",
          "name": "stderr",
          "text": [
            "<ipython-input-78-694588419008>:8: UserWarning: `input_shape` is undefined or non-square, or `rows` is not in [96, 128, 160, 192, 224]. Weights for input shape (224, 224) will be loaded as the default.\n",
            "  base_model = MobileNetV2(weights=\"imagenet\", include_top=False, input_shape=(299, 299, 3))\n"
          ]
        },
        {
          "output_type": "stream",
          "name": "stdout",
          "text": [
            "\u001b[1m2/2\u001b[0m \u001b[32m━━━━━━━━━━━━━━━━━━━━\u001b[0m\u001b[37m\u001b[0m \u001b[1m6s\u001b[0m 3s/step\n",
            "\n",
            "Classification Report for Fold 1:\n",
            "              precision    recall  f1-score   support\n",
            "\n",
            "           0       1.00      0.50      0.67         4\n",
            "           1       0.78      1.00      0.88         7\n",
            "\n",
            "    accuracy                           0.82        11\n",
            "   macro avg       0.89      0.75      0.77        11\n",
            "weighted avg       0.86      0.82      0.80        11\n",
            "\n",
            "\n",
            "Classification Report for Fold 2:\n",
            "              precision    recall  f1-score   support\n",
            "\n",
            "           0       1.00      0.25      0.40         4\n",
            "           1       0.70      1.00      0.82         7\n",
            "\n",
            "    accuracy                           0.73        11\n",
            "   macro avg       0.85      0.62      0.61        11\n",
            "weighted avg       0.81      0.73      0.67        11\n",
            "\n",
            "\n",
            "Classification Report for Fold 3:\n",
            "              precision    recall  f1-score   support\n",
            "\n",
            "           0       0.00      0.00      0.00         3\n",
            "           1       0.67      0.75      0.71         8\n",
            "\n",
            "    accuracy                           0.55        11\n",
            "   macro avg       0.33      0.38      0.35        11\n",
            "weighted avg       0.48      0.55      0.51        11\n",
            "\n",
            "\n",
            "Classification Report for Fold 4:\n",
            "              precision    recall  f1-score   support\n",
            "\n",
            "           0       0.75      1.00      0.86         3\n",
            "           1       1.00      0.88      0.93         8\n",
            "\n",
            "    accuracy                           0.91        11\n",
            "   macro avg       0.88      0.94      0.90        11\n",
            "weighted avg       0.93      0.91      0.91        11\n",
            "\n",
            "\n",
            "Classification Report for Fold 5:\n",
            "              precision    recall  f1-score   support\n",
            "\n",
            "           0       0.50      0.33      0.40         3\n",
            "           1       0.78      0.88      0.82         8\n",
            "\n",
            "    accuracy                           0.73        11\n",
            "   macro avg       0.64      0.60      0.61        11\n",
            "weighted avg       0.70      0.73      0.71        11\n",
            "\n",
            "\n",
            "Average Accuracy Across Folds: 0.7455\n"
          ]
        }
      ]
    },
    {
      "cell_type": "markdown",
      "source": [
        "**Accuracy Improvement with XGBoost** - the average accuracy is **74.55%**, which is **better than CNN (63%) but slightly lower than Random Forest (83.64%)**.\n",
        "\n",
        "**Class Imbalance Remains an Issue** – Some folds show **zero recall for class 0** (e.g., Fold 3), indicating that XGBoost may struggle with underrepresented classes.\n",
        "**Better Performance in Some Folds** – Fold 4 achieves **91% accuracy**, showing XGBoost’s potential, but Fold 3 drops to **55%**, highlighting inconsistency.\n",
        "\n",
        "Feature extraction from MobileNetV2 provides meaningful representations, and XGBoost benefits from them.\n",
        "**Model is Overfitting in Some Cases** – Some folds have **100% recall for one class but poor recall for the other**, meaning the model may favor the majority class."
      ],
      "metadata": {
        "id": "0aqcrwQ_hKp5"
      }
    },
    {
      "cell_type": "markdown",
      "source": [
        "### Feature Extraction + SVM"
      ],
      "metadata": {
        "id": "as7iflLGYj9X"
      }
    },
    {
      "cell_type": "code",
      "source": [
        "image_size = (299, 299)\n",
        "X_resized = np.array([resize(img, image_size).numpy() for img in images_rgb]) / 255.0\n",
        "labels = classes\n",
        "fats = fats\n",
        "\n",
        "base_model = InceptionResNetV2(weights=\"imagenet\", include_top=False, input_shape=(299, 299, 3))\n",
        "feature_extractor = Model(inputs=base_model.input, outputs=base_model.output)\n",
        "\n",
        "# extract features\n",
        "X_features = feature_extractor.predict(X_resized)  # CNN features\n",
        "X_features = X_features.reshape(X_features.shape[0], -1)  # flatten features\n",
        "\n",
        "# 5-Fold Cross-Validation for Classification (SVM)\n",
        "kf = StratifiedKFold(n_splits=5, shuffle=True, random_state=42)\n",
        "fold_accuracies = []\n",
        "fold_reports = []\n",
        "\n",
        "for fold, (train_idx, test_idx) in enumerate(kf.split(X_features, labels)):\n",
        "    X_train, X_test = X_features[train_idx], X_features[test_idx]\n",
        "    y_train, y_test = labels[train_idx], labels[test_idx]\n",
        "\n",
        "    # svm = SVC(kernel=\"linear\", probability=True, random_state=42, class_weight=\"balanced\")\n",
        "    svm = SVC(kernel=\"rbf\", probability=True, random_state=42, class_weight=\"balanced\")\n",
        "    svm.fit(X_train, y_train)\n",
        "\n",
        "    y_pred = svm.predict(X_test)\n",
        "    acc = accuracy_score(y_test, y_pred)\n",
        "    fold_accuracies.append(acc)\n",
        "    fold_reports.append(classification_report(y_test, y_pred))\n",
        "\n",
        "    print(f\"\\nClassification Report for Fold {fold + 1}:\")\n",
        "    print(classification_report(y_test, y_pred))"
      ],
      "metadata": {
        "colab": {
          "base_uri": "https://localhost:8080/"
        },
        "id": "UdbkFI4AX0Po",
        "outputId": "591a1026-9794-471f-815b-3aff660277b4"
      },
      "execution_count": 86,
      "outputs": [
        {
          "output_type": "stream",
          "name": "stdout",
          "text": [
            "\u001b[1m2/2\u001b[0m \u001b[32m━━━━━━━━━━━━━━━━━━━━\u001b[0m\u001b[37m\u001b[0m \u001b[1m50s\u001b[0m 21s/step\n",
            "\n",
            "Classification Report for Fold 1:\n",
            "              precision    recall  f1-score   support\n",
            "\n",
            "           0       0.75      0.75      0.75         4\n",
            "           1       0.86      0.86      0.86         7\n",
            "\n",
            "    accuracy                           0.82        11\n",
            "   macro avg       0.80      0.80      0.80        11\n",
            "weighted avg       0.82      0.82      0.82        11\n",
            "\n",
            "\n",
            "Classification Report for Fold 2:\n",
            "              precision    recall  f1-score   support\n",
            "\n",
            "           0       0.75      0.75      0.75         4\n",
            "           1       0.86      0.86      0.86         7\n",
            "\n",
            "    accuracy                           0.82        11\n",
            "   macro avg       0.80      0.80      0.80        11\n",
            "weighted avg       0.82      0.82      0.82        11\n",
            "\n",
            "\n",
            "Classification Report for Fold 3:\n",
            "              precision    recall  f1-score   support\n",
            "\n",
            "           0       0.33      0.33      0.33         3\n",
            "           1       0.75      0.75      0.75         8\n",
            "\n",
            "    accuracy                           0.64        11\n",
            "   macro avg       0.54      0.54      0.54        11\n",
            "weighted avg       0.64      0.64      0.64        11\n",
            "\n",
            "\n",
            "Classification Report for Fold 4:\n",
            "              precision    recall  f1-score   support\n",
            "\n",
            "           0       0.50      0.67      0.57         3\n",
            "           1       0.86      0.75      0.80         8\n",
            "\n",
            "    accuracy                           0.73        11\n",
            "   macro avg       0.68      0.71      0.69        11\n",
            "weighted avg       0.76      0.73      0.74        11\n",
            "\n",
            "\n",
            "Classification Report for Fold 5:\n",
            "              precision    recall  f1-score   support\n",
            "\n",
            "           0       0.75      1.00      0.86         3\n",
            "           1       1.00      0.88      0.93         8\n",
            "\n",
            "    accuracy                           0.91        11\n",
            "   macro avg       0.88      0.94      0.90        11\n",
            "weighted avg       0.93      0.91      0.91        11\n",
            "\n"
          ]
        }
      ]
    },
    {
      "cell_type": "code",
      "source": [
        "average_accuracy = np.mean(fold_accuracies)\n",
        "print(f\"\\nAverage Accuracy Across Folds (SVM): {average_accuracy:.4f}\")"
      ],
      "metadata": {
        "colab": {
          "base_uri": "https://localhost:8080/"
        },
        "id": "1jkgDY4bYZl_",
        "outputId": "1bd1a00e-cb84-43f5-b91b-da80ad3150dc"
      },
      "execution_count": 87,
      "outputs": [
        {
          "output_type": "stream",
          "name": "stdout",
          "text": [
            "\n",
            "Average Accuracy Across Folds (SVM): 0.7818\n"
          ]
        }
      ]
    },
    {
      "cell_type": "code",
      "source": [
        "lasso = Lasso(alpha=0.1)\n",
        "lasso.fit(X_features, fats)\n",
        "# Predict Steatosis Level\n",
        "fats_pred = lasso.predict(X_features)\n",
        "\n",
        "# R-squared score\n",
        "r2 = r2_score(fats, fats_pred)\n",
        "\n",
        "plt.figure(figsize=(8, 6))\n",
        "sns.regplot(x=fats, y=fats_pred, scatter_kws={\"s\": 60, \"alpha\": 0.7}, line_kws={\"color\": \"red\"}, ci=None)\n",
        "plt.xlabel(\"Actual Steatosis Level (%)\", fontsize=12)\n",
        "plt.ylabel(\"Predicted Steatosis Level (%)\", fontsize=12)\n",
        "plt.title(f\"Lasso Regression: Predicted vs. Actual (R² = {r2:.2f})\", fontsize=14)\n",
        "plt.grid(True)\n",
        "plt.show()"
      ],
      "metadata": {
        "colab": {
          "base_uri": "https://localhost:8080/",
          "height": 625
        },
        "id": "0NNqh9XIYa-e",
        "outputId": "50da390b-2ef5-4fe2-f0ae-3b481af480da"
      },
      "execution_count": 88,
      "outputs": [
        {
          "output_type": "stream",
          "name": "stderr",
          "text": [
            "/usr/local/lib/python3.11/dist-packages/sklearn/linear_model/_coordinate_descent.py:695: ConvergenceWarning: Objective did not converge. You might want to increase the number of iterations, check the scale of the features or consider increasing regularisation. Duality gap: 8.216e+00, tolerance: 4.007e+00\n",
            "  model = cd_fast.enet_coordinate_descent(\n"
          ]
        },
        {
          "output_type": "display_data",
          "data": {
            "text/plain": [
              "<Figure size 800x600 with 1 Axes>"
            ],
            "image/png": "[encoded data removed]"
          },
          "metadata": {}
        }
      ]
    },
    {
      "cell_type": "markdown",
      "source": [
        "**Improved Performance Over XGBoost** – The average accuracy of **78.18%** is higher than XGBoost (**74.55%**) but lower than Random Forest (**83.64%**).\n",
        "\n",
        "**More Stable Results** – SVM achieves **consistent performance across folds**, with **Folds 1, 2, and 5 showing strong recall and precision**.\n",
        "\n",
        "**Class Imbalance Still Exists** – Folds **3 and 4 show weaker performance**, particularly in precision for class 0.\n",
        "\n",
        "The model benefits from a **deeper feature extractor**, leading to better classification performance.\n",
        "5. **SVM with RBF Kernel Performs Better** – A **linear kernel may not capture complex decision boundaries**, so the RBF kernel helps classify non-linearly separable data."
      ],
      "metadata": {
        "id": "46mz4jOuhdzE"
      }
    },
    {
      "cell_type": "markdown",
      "source": [
        "### Stacking + XGBoost"
      ],
      "metadata": {
        "id": "UnPFk7fQe4k3"
      }
    },
    {
      "cell_type": "code",
      "source": [
        "# Input Shape for MobileNetV2\n",
        "image_size = (224, 224)\n",
        "X_resized = np.array([resize(img, image_size).numpy() for img in images_rgb]) / 255.0  # Normalize images\n",
        "labels = classes  # Assuming `classes` contains the labels\n",
        "\n",
        "# MobileNetV2 as Feature Extractor\n",
        "base_model = MobileNetV2(weights=\"imagenet\", include_top=False, input_shape=(224, 224, 3))\n",
        "\n",
        "for layer in base_model.layers[:-30]:\n",
        "    layer.trainable = False\n",
        "\n",
        "feature_extractor = Model(inputs=base_model.input, outputs=base_model.output)\n",
        "\n",
        "X_features = feature_extractor.predict(X_resized)\n",
        "X_features = X_features.reshape(X_features.shape[0], -1)  # Flatten features\n",
        "\n",
        "pca = PCA(n_components=0.95)  # Retain 95% variance\n",
        "X_features_pca = pca.fit_transform(X_features)\n",
        "\n",
        "smote = SMOTE(sampling_strategy='auto', random_state=42)\n",
        "X_balanced, y_balanced = smote.fit_resample(X_features_pca, labels)\n",
        "\n",
        "rf = RandomForestClassifier(n_estimators=300, random_state=42, class_weight=\"balanced\")\n",
        "svm = SVC(kernel=\"rbf\", probability=True, random_state=42, class_weight=\"balanced\")\n",
        "\n",
        "stacking_model = StackingClassifier(estimators=[\n",
        "    ('rf', rf),\n",
        "    ('svm', svm)\n",
        "], final_estimator=RandomForestClassifier(n_estimators=100), cv=3)\n",
        "\n",
        "kf = StratifiedKFold(n_splits=5, shuffle=True, random_state=42)\n",
        "stacking_preds = np.zeros(len(y_balanced))\n",
        "\n",
        "for train_idx, test_idx in kf.split(X_balanced, y_balanced):\n",
        "    X_train, X_test = X_balanced[train_idx], X_balanced[test_idx]\n",
        "    y_train, y_test = y_balanced[train_idx], y_balanced[test_idx]\n",
        "\n",
        "    stacking_model.fit(X_train, y_train)\n",
        "    stacking_preds[test_idx] = stacking_model.predict(X_test)\n",
        "\n",
        "xgb = XGBClassifier(\n",
        "    n_estimators=200,\n",
        "    learning_rate=0.05,\n",
        "    max_depth=5,\n",
        "    scale_pos_weight=sum(y_balanced == 0) / sum(y_balanced == 1)  # to address imbalance\n",
        ")\n",
        "\n",
        "kf = StratifiedKFold(n_splits=5, shuffle=True, random_state=42)\n",
        "fold_accuracies = []\n",
        "\n",
        "for train_idx, test_idx in kf.split(stacking_preds.reshape(-1, 1), y_balanced):\n",
        "    X_train, X_test = stacking_preds[train_idx].reshape(-1, 1), stacking_preds[test_idx].reshape(-1, 1)\n",
        "    y_train, y_test = y_balanced[train_idx], y_balanced[test_idx]\n",
        "\n",
        "    xgb.fit(X_train, y_train)\n",
        "    y_pred = xgb.predict(X_test)\n",
        "\n",
        "    acc = accuracy_score(y_test, y_pred)\n",
        "    fold_accuracies.append(acc)\n",
        "\n",
        "    print(f\"\\nClassification Report for Fold {len(fold_accuracies)}:\")\n",
        "    print(classification_report(y_test, y_pred, zero_division=1))\n",
        "\n",
        "average_accuracy = np.mean(fold_accuracies)\n",
        "print(f\"\\n Final Optimized Model (Stacking + XGBoost) Accuracy: {average_accuracy:.4f}\")"
      ],
      "metadata": {
        "colab": {
          "base_uri": "https://localhost:8080/"
        },
        "id": "IIre5J4MbxXl",
        "outputId": "d481faf3-1039-493f-e9bf-f0225fe52ec4"
      },
      "execution_count": 102,
      "outputs": [
        {
          "output_type": "stream",
          "name": "stdout",
          "text": [
            "\u001b[1m2/2\u001b[0m \u001b[32m━━━━━━━━━━━━━━━━━━━━\u001b[0m\u001b[37m\u001b[0m \u001b[1m10s\u001b[0m 3s/step\n",
            "\n",
            "Classification Report for Fold 1:\n",
            "              precision    recall  f1-score   support\n",
            "\n",
            "           0       0.80      1.00      0.89         8\n",
            "           1       1.00      0.75      0.86         8\n",
            "\n",
            "    accuracy                           0.88        16\n",
            "   macro avg       0.90      0.88      0.87        16\n",
            "weighted avg       0.90      0.88      0.87        16\n",
            "\n",
            "\n",
            "Classification Report for Fold 2:\n",
            "              precision    recall  f1-score   support\n",
            "\n",
            "           0       0.88      0.88      0.88         8\n",
            "           1       0.86      0.86      0.86         7\n",
            "\n",
            "    accuracy                           0.87        15\n",
            "   macro avg       0.87      0.87      0.87        15\n",
            "weighted avg       0.87      0.87      0.87        15\n",
            "\n",
            "\n",
            "Classification Report for Fold 3:\n",
            "              precision    recall  f1-score   support\n",
            "\n",
            "           0       0.80      1.00      0.89         8\n",
            "           1       1.00      0.71      0.83         7\n",
            "\n",
            "    accuracy                           0.87        15\n",
            "   macro avg       0.90      0.86      0.86        15\n",
            "weighted avg       0.89      0.87      0.86        15\n",
            "\n",
            "\n",
            "Classification Report for Fold 4:\n",
            "              precision    recall  f1-score   support\n",
            "\n",
            "           0       1.00      0.71      0.83         7\n",
            "           1       0.80      1.00      0.89         8\n",
            "\n",
            "    accuracy                           0.87        15\n",
            "   macro avg       0.90      0.86      0.86        15\n",
            "weighted avg       0.89      0.87      0.86        15\n",
            "\n",
            "\n",
            "Classification Report for Fold 5:\n",
            "              precision    recall  f1-score   support\n",
            "\n",
            "           0       1.00      0.86      0.92         7\n",
            "           1       0.89      1.00      0.94         8\n",
            "\n",
            "    accuracy                           0.93        15\n",
            "   macro avg       0.94      0.93      0.93        15\n",
            "weighted avg       0.94      0.93      0.93        15\n",
            "\n",
            "\n",
            "🚀 Final Optimized Model (Stacking + XGBoost) Accuracy: 0.8817\n"
          ]
        }
      ]
    },
    {
      "cell_type": "markdown",
      "source": [
        "The final **stacking model achieved 88.17% accuracy**, outperforming **Random Forest (83.64%)**, **SVM (78.18%)**, and **XGBoost alone (74.55%)**.\n",
        "\n",
        "The use of **SMOTE for oversampling** helped **mitigate class imbalance**, leading to **more balanced precision and recall**.\n",
        "\n",
        "**Stacking Boosts Generalization** – Combining **Random Forest, SVM, and XGBoost** allowed the model to **capture both linear and non-linear decision boundaries**, improving robustness.\n",
        "\n",
        "Using **XGBoost on top of stacking predictions** helped refine the decision-making process, leading to better performance.\n",
        "**PCA Reduced Dimensionality Effectively** – Retaining **95% variance** helped **reduce computational complexity** without sacrificing accuracy."
      ],
      "metadata": {
        "id": "gJas3ETHhypq"
      }
    },
    {
      "cell_type": "markdown",
      "source": [
        "## **Conclusion**\n",
        "\n",
        "\n",
        "- **Stacking + XGBoost** achieves the highest **accuracy of 88.17%**, making it the best approach.\n",
        "\n",
        "- **Feature extraction from MobileNetV2 + PCA** reduces dimensionality effectively, improving model efficiency.\n",
        "\n",
        "- **SMOTE** successfully balances the dataset, reducing bias.\n",
        "\n",
        "- **Lasso regression** accurately predicts the steatosis level (**R² = 1.00**), making it ideal for continuous fat level estimation."
      ],
      "metadata": {
        "id": "9HWAmXVc1BMM"
      }
    }
  ]
}